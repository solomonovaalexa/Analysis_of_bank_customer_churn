{
 "cells": [
  {
   "cell_type": "markdown",
   "metadata": {},
   "source": [
    "## Наименование проекта"
   ]
  },
  {
   "cell_type": "markdown",
   "metadata": {},
   "source": [
    "Анализ оттока клиентов банка \"Метанпром\""
   ]
  },
  {
   "cell_type": "markdown",
   "metadata": {},
   "source": [
    "## Цель проекта"
   ]
  },
  {
   "cell_type": "markdown",
   "metadata": {},
   "source": [
    "В банке повысился отток, и с этим нужно что-то делать. Ранее было проведено исследование оттока, составлены дэшборды и выделены сегменты, но клиентская база поменялась, и текущие решения не работают. Необходимо выделить отточные сегменты и дать рекомендации по его снижению."
   ]
  },
  {
   "cell_type": "markdown",
   "metadata": {},
   "source": [
    "## План действий"
   ]
  },
  {
   "cell_type": "markdown",
   "metadata": {},
   "source": [
    "1) Провести исследовательский анализ данных, определить все значимые признаки отточности (интервалы значений характеристик, которые связаны с повышенным оттоком, сравнить портреты типичных клиентов, которые склонны и не склонны уходить из банка и т.д)\n",
    "\n",
    "2) Сформулировать и проверить статистические гипотезы. Проверить гипотезы о различии дохода и количества баллов скоринга между теми клиентами, которые ушли и теми, которые остались.\n",
    "\n",
    "3) Объединяя признаки отточности, сформировать сегменты, отобрать из них лучшие и дать по ним рекомендации отделу маркетинга."
   ]
  },
  {
   "cell_type": "markdown",
   "metadata": {},
   "source": [
    "## Предобработка данных"
   ]
  },
  {
   "cell_type": "code",
   "execution_count": 1,
   "metadata": {},
   "outputs": [],
   "source": [
    "import pandas as pd\n",
    "import matplotlib.pyplot as plt\n",
    "import math as mth\n",
    "import scipy.stats as st\n",
    "import numpy as np\n",
    "import datetime as dt\n",
    "import scipy.stats as stats\n",
    "import seaborn as sns\n",
    "from plotly import graph_objects as go"
   ]
  },
  {
   "cell_type": "markdown",
   "metadata": {},
   "source": [
    "### Открыть файл с данными и изучить общую информацию"
   ]
  },
  {
   "cell_type": "code",
   "execution_count": 2,
   "metadata": {},
   "outputs": [],
   "source": [
    "df = pd.read_csv('/datasets/bank_scrooge.csv')"
   ]
  },
  {
   "cell_type": "code",
   "execution_count": 3,
   "metadata": {
    "scrolled": true
   },
   "outputs": [
    {
     "data": {
      "text/html": [
       "<div>\n",
       "<style scoped>\n",
       "    .dataframe tbody tr th:only-of-type {\n",
       "        vertical-align: middle;\n",
       "    }\n",
       "\n",
       "    .dataframe tbody tr th {\n",
       "        vertical-align: top;\n",
       "    }\n",
       "\n",
       "    .dataframe thead th {\n",
       "        text-align: right;\n",
       "    }\n",
       "</style>\n",
       "<table border=\"1\" class=\"dataframe\">\n",
       "  <thead>\n",
       "    <tr style=\"text-align: right;\">\n",
       "      <th></th>\n",
       "      <th>USERID</th>\n",
       "      <th>score</th>\n",
       "      <th>city</th>\n",
       "      <th>gender</th>\n",
       "      <th>age</th>\n",
       "      <th>equity</th>\n",
       "      <th>balance</th>\n",
       "      <th>products</th>\n",
       "      <th>credit_card</th>\n",
       "      <th>last_activity</th>\n",
       "      <th>EST_SALARY</th>\n",
       "      <th>churn</th>\n",
       "    </tr>\n",
       "  </thead>\n",
       "  <tbody>\n",
       "    <tr>\n",
       "      <th>0</th>\n",
       "      <td>183012</td>\n",
       "      <td>850.0</td>\n",
       "      <td>Рыбинск</td>\n",
       "      <td>Ж</td>\n",
       "      <td>25.0</td>\n",
       "      <td>1</td>\n",
       "      <td>59214.82</td>\n",
       "      <td>2</td>\n",
       "      <td>0</td>\n",
       "      <td>1</td>\n",
       "      <td>75719.14</td>\n",
       "      <td>1</td>\n",
       "    </tr>\n",
       "    <tr>\n",
       "      <th>1</th>\n",
       "      <td>146556</td>\n",
       "      <td>861.0</td>\n",
       "      <td>Рыбинск</td>\n",
       "      <td>Ж</td>\n",
       "      <td>37.0</td>\n",
       "      <td>5</td>\n",
       "      <td>850594.33</td>\n",
       "      <td>3</td>\n",
       "      <td>1</td>\n",
       "      <td>0</td>\n",
       "      <td>86621.77</td>\n",
       "      <td>0</td>\n",
       "    </tr>\n",
       "    <tr>\n",
       "      <th>2</th>\n",
       "      <td>120722</td>\n",
       "      <td>892.0</td>\n",
       "      <td>Рыбинск</td>\n",
       "      <td>Ж</td>\n",
       "      <td>30.0</td>\n",
       "      <td>0</td>\n",
       "      <td>NaN</td>\n",
       "      <td>1</td>\n",
       "      <td>1</td>\n",
       "      <td>1</td>\n",
       "      <td>107683.34</td>\n",
       "      <td>0</td>\n",
       "    </tr>\n",
       "    <tr>\n",
       "      <th>3</th>\n",
       "      <td>225363</td>\n",
       "      <td>866.0</td>\n",
       "      <td>Ярославль</td>\n",
       "      <td>Ж</td>\n",
       "      <td>51.0</td>\n",
       "      <td>5</td>\n",
       "      <td>1524746.26</td>\n",
       "      <td>2</td>\n",
       "      <td>0</td>\n",
       "      <td>1</td>\n",
       "      <td>174423.53</td>\n",
       "      <td>1</td>\n",
       "    </tr>\n",
       "    <tr>\n",
       "      <th>4</th>\n",
       "      <td>157978</td>\n",
       "      <td>730.0</td>\n",
       "      <td>Ярославль</td>\n",
       "      <td>М</td>\n",
       "      <td>34.0</td>\n",
       "      <td>5</td>\n",
       "      <td>174.00</td>\n",
       "      <td>1</td>\n",
       "      <td>1</td>\n",
       "      <td>0</td>\n",
       "      <td>67353.16</td>\n",
       "      <td>1</td>\n",
       "    </tr>\n",
       "  </tbody>\n",
       "</table>\n",
       "</div>"
      ],
      "text/plain": [
       "   USERID  score       city gender   age  equity     balance  products  \\\n",
       "0  183012  850.0    Рыбинск      Ж  25.0       1    59214.82         2   \n",
       "1  146556  861.0    Рыбинск      Ж  37.0       5   850594.33         3   \n",
       "2  120722  892.0    Рыбинск      Ж  30.0       0         NaN         1   \n",
       "3  225363  866.0  Ярославль      Ж  51.0       5  1524746.26         2   \n",
       "4  157978  730.0  Ярославль      М  34.0       5      174.00         1   \n",
       "\n",
       "   credit_card  last_activity  EST_SALARY  churn  \n",
       "0            0              1    75719.14      1  \n",
       "1            1              0    86621.77      0  \n",
       "2            1              1   107683.34      0  \n",
       "3            0              1   174423.53      1  \n",
       "4            1              0    67353.16      1  "
      ]
     },
     "execution_count": 3,
     "metadata": {},
     "output_type": "execute_result"
    }
   ],
   "source": [
    "df.head()"
   ]
  },
  {
   "cell_type": "markdown",
   "metadata": {},
   "source": [
    "Датасет содержит данные о клиентах банка «Метанпром». В нем 12 колонок, которые несут в себе следующую информацию:\n",
    "\n",
    "1) USERID - идентификатор пользователя;\n",
    "\n",
    "2) score - баллы кредитного скоринга;\n",
    "\n",
    "3) city - город;\n",
    "\n",
    "4) gender - пол;\n",
    "\n",
    "5) age - возраст;\n",
    "\n",
    "6) equity - количество баллов собственности;\n",
    "\n",
    "7) balance - баланс на счёте;\n",
    "\n",
    "8) products - количество продуктов;\n",
    "\n",
    "9) credit_card - имеется ли кредитная карта;\n",
    "\n",
    "10) last_activity - активный ли клиент (заходил в приложение в течение прошедших 30 дней);\n",
    "\n",
    "11) EST_SALARY - заработная плата клиента;\n",
    "\n",
    "12) churn - ушел клиент или нет."
   ]
  },
  {
   "cell_type": "markdown",
   "metadata": {},
   "source": [
    "### Исследовать соответствие типов"
   ]
  },
  {
   "cell_type": "code",
   "execution_count": 4,
   "metadata": {
    "scrolled": true
   },
   "outputs": [
    {
     "name": "stdout",
     "output_type": "stream",
     "text": [
      "<class 'pandas.core.frame.DataFrame'>\n",
      "RangeIndex: 10000 entries, 0 to 9999\n",
      "Data columns (total 12 columns):\n",
      " #   Column         Non-Null Count  Dtype  \n",
      "---  ------         --------------  -----  \n",
      " 0   USERID         10000 non-null  int64  \n",
      " 1   score          10000 non-null  float64\n",
      " 2   city           10000 non-null  object \n",
      " 3   gender         10000 non-null  object \n",
      " 4   age            9974 non-null   float64\n",
      " 5   equity         10000 non-null  int64  \n",
      " 6   balance        7705 non-null   float64\n",
      " 7   products       10000 non-null  int64  \n",
      " 8   credit_card    10000 non-null  int64  \n",
      " 9   last_activity  10000 non-null  int64  \n",
      " 10  EST_SALARY     10000 non-null  float64\n",
      " 11  churn          10000 non-null  int64  \n",
      "dtypes: float64(4), int64(6), object(2)\n",
      "memory usage: 937.6+ KB\n"
     ]
    }
   ],
   "source": [
    "df.info()"
   ]
  },
  {
   "cell_type": "markdown",
   "metadata": {},
   "source": [
    "В датасете 9 колонок и 10000 строк.\n",
    "\n",
    "Следующие столбцы хранят тип int: USERID, equity, products, credit_card, last_activity, churn.\n",
    "\n",
    "Следующие столбцы хранят тип float: score, age, balance, EST_SALARY.\n",
    "\n",
    "Следующие столбцы хранят тип object: city, gender."
   ]
  },
  {
   "cell_type": "markdown",
   "metadata": {},
   "source": [
    "### Переименовать колонки"
   ]
  },
  {
   "cell_type": "markdown",
   "metadata": {},
   "source": [
    "Перепишем столбцы USERID и EST_SALARY в нижний змеиный регистр."
   ]
  },
  {
   "cell_type": "code",
   "execution_count": 5,
   "metadata": {},
   "outputs": [],
   "source": [
    "df = df.rename(columns={'USERID':'user_id','EST_SALARY':'est_salary'})"
   ]
  },
  {
   "cell_type": "markdown",
   "metadata": {},
   "source": [
    "### Исследовать и заменить пропущенные значения"
   ]
  },
  {
   "cell_type": "code",
   "execution_count": 6,
   "metadata": {
    "scrolled": false
   },
   "outputs": [
    {
     "name": "stdout",
     "output_type": "stream",
     "text": [
      "Количество пропусков: user_id             0\n",
      "score               0\n",
      "city                0\n",
      "gender              0\n",
      "age                26\n",
      "equity              0\n",
      "balance          2295\n",
      "products            0\n",
      "credit_card         0\n",
      "last_activity       0\n",
      "est_salary          0\n",
      "churn               0\n",
      "dtype: int64\n"
     ]
    }
   ],
   "source": [
    "print('Количество пропусков:', df.isna().sum())"
   ]
  },
  {
   "cell_type": "markdown",
   "metadata": {},
   "source": [
    "Пропуски в датасете наблюдаются в двух столбцах - age (26) и balance (2295). Если 26 пропусков из 10000 это достаточно мало, то пропуски по столбцу balance составляют практически 1/4 от всей информации по столбцу."
   ]
  },
  {
   "cell_type": "markdown",
   "metadata": {},
   "source": [
    "Проверим, что уникальных городов точно 3."
   ]
  },
  {
   "cell_type": "code",
   "execution_count": 7,
   "metadata": {},
   "outputs": [
    {
     "name": "stdout",
     "output_type": "stream",
     "text": [
      "Города в датасете: ['Рыбинск' 'Ярославль' 'Ростов']\n"
     ]
    }
   ],
   "source": [
    "print('Города в датасете:', df['city'].unique())"
   ]
  },
  {
   "cell_type": "code",
   "execution_count": 8,
   "metadata": {},
   "outputs": [],
   "source": [
    "pd.set_option('display.max_rows', None)"
   ]
  },
  {
   "cell_type": "markdown",
   "metadata": {},
   "source": [
    "Определим границы значений в столбцах с пропущенными значениями."
   ]
  },
  {
   "cell_type": "code",
   "execution_count": 9,
   "metadata": {
    "scrolled": true
   },
   "outputs": [
    {
     "name": "stdout",
     "output_type": "stream",
     "text": [
      "Минимальный возраст клиента: 18.0\n",
      "Максимальный возраст клиента: 86.0\n"
     ]
    }
   ],
   "source": [
    "print('Минимальный возраст клиента:', df['age'].min())\n",
    "print('Максимальный возраст клиента:', df['age'].max())"
   ]
  },
  {
   "cell_type": "code",
   "execution_count": 10,
   "metadata": {},
   "outputs": [
    {
     "name": "stdout",
     "output_type": "stream",
     "text": [
      "Минимальный баланс клиента: 0.0\n",
      "Максимальный баланс клиента: 119113552.01\n"
     ]
    }
   ],
   "source": [
    "print('Минимальный баланс клиента:', df['balance'].min())\n",
    "print('Максимальный баланс клиента:', df['balance'].max())"
   ]
  },
  {
   "cell_type": "code",
   "execution_count": 11,
   "metadata": {
    "scrolled": true
   },
   "outputs": [
    {
     "data": {
      "text/html": [
       "<div>\n",
       "<style scoped>\n",
       "    .dataframe tbody tr th:only-of-type {\n",
       "        vertical-align: middle;\n",
       "    }\n",
       "\n",
       "    .dataframe tbody tr th {\n",
       "        vertical-align: top;\n",
       "    }\n",
       "\n",
       "    .dataframe thead th {\n",
       "        text-align: right;\n",
       "    }\n",
       "</style>\n",
       "<table border=\"1\" class=\"dataframe\">\n",
       "  <thead>\n",
       "    <tr style=\"text-align: right;\">\n",
       "      <th></th>\n",
       "      <th>user_id</th>\n",
       "      <th>score</th>\n",
       "      <th>city</th>\n",
       "      <th>gender</th>\n",
       "      <th>age</th>\n",
       "      <th>equity</th>\n",
       "      <th>balance</th>\n",
       "      <th>products</th>\n",
       "      <th>credit_card</th>\n",
       "      <th>last_activity</th>\n",
       "      <th>est_salary</th>\n",
       "      <th>churn</th>\n",
       "    </tr>\n",
       "  </thead>\n",
       "  <tbody>\n",
       "    <tr>\n",
       "      <th>2</th>\n",
       "      <td>120722</td>\n",
       "      <td>892.0</td>\n",
       "      <td>Рыбинск</td>\n",
       "      <td>Ж</td>\n",
       "      <td>30.0</td>\n",
       "      <td>0</td>\n",
       "      <td>NaN</td>\n",
       "      <td>1</td>\n",
       "      <td>1</td>\n",
       "      <td>1</td>\n",
       "      <td>107683.34</td>\n",
       "      <td>0</td>\n",
       "    </tr>\n",
       "    <tr>\n",
       "      <th>9</th>\n",
       "      <td>133130</td>\n",
       "      <td>906.0</td>\n",
       "      <td>Ярославль</td>\n",
       "      <td>Ж</td>\n",
       "      <td>67.0</td>\n",
       "      <td>0</td>\n",
       "      <td>NaN</td>\n",
       "      <td>1</td>\n",
       "      <td>0</td>\n",
       "      <td>1</td>\n",
       "      <td>238055.53</td>\n",
       "      <td>0</td>\n",
       "    </tr>\n",
       "    <tr>\n",
       "      <th>10</th>\n",
       "      <td>148929</td>\n",
       "      <td>927.0</td>\n",
       "      <td>Ростов</td>\n",
       "      <td>М</td>\n",
       "      <td>52.0</td>\n",
       "      <td>0</td>\n",
       "      <td>NaN</td>\n",
       "      <td>1</td>\n",
       "      <td>1</td>\n",
       "      <td>1</td>\n",
       "      <td>196820.07</td>\n",
       "      <td>0</td>\n",
       "    </tr>\n",
       "    <tr>\n",
       "      <th>11</th>\n",
       "      <td>172184</td>\n",
       "      <td>921.0</td>\n",
       "      <td>Ростов</td>\n",
       "      <td>М</td>\n",
       "      <td>41.0</td>\n",
       "      <td>0</td>\n",
       "      <td>NaN</td>\n",
       "      <td>1</td>\n",
       "      <td>1</td>\n",
       "      <td>1</td>\n",
       "      <td>217469.48</td>\n",
       "      <td>0</td>\n",
       "    </tr>\n",
       "    <tr>\n",
       "      <th>19</th>\n",
       "      <td>127034</td>\n",
       "      <td>922.0</td>\n",
       "      <td>Рыбинск</td>\n",
       "      <td>Ж</td>\n",
       "      <td>53.0</td>\n",
       "      <td>0</td>\n",
       "      <td>NaN</td>\n",
       "      <td>1</td>\n",
       "      <td>0</td>\n",
       "      <td>0</td>\n",
       "      <td>147094.82</td>\n",
       "      <td>0</td>\n",
       "    </tr>\n",
       "    <tr>\n",
       "      <th>21</th>\n",
       "      <td>177415</td>\n",
       "      <td>896.0</td>\n",
       "      <td>Рыбинск</td>\n",
       "      <td>Ж</td>\n",
       "      <td>47.0</td>\n",
       "      <td>0</td>\n",
       "      <td>NaN</td>\n",
       "      <td>1</td>\n",
       "      <td>0</td>\n",
       "      <td>0</td>\n",
       "      <td>225060.35</td>\n",
       "      <td>0</td>\n",
       "    </tr>\n",
       "    <tr>\n",
       "      <th>30</th>\n",
       "      <td>155730</td>\n",
       "      <td>946.0</td>\n",
       "      <td>Ярославль</td>\n",
       "      <td>Ж</td>\n",
       "      <td>47.0</td>\n",
       "      <td>0</td>\n",
       "      <td>NaN</td>\n",
       "      <td>2</td>\n",
       "      <td>1</td>\n",
       "      <td>1</td>\n",
       "      <td>660015.85</td>\n",
       "      <td>0</td>\n",
       "    </tr>\n",
       "    <tr>\n",
       "      <th>34</th>\n",
       "      <td>205226</td>\n",
       "      <td>944.0</td>\n",
       "      <td>Ярославль</td>\n",
       "      <td>М</td>\n",
       "      <td>35.0</td>\n",
       "      <td>0</td>\n",
       "      <td>NaN</td>\n",
       "      <td>2</td>\n",
       "      <td>1</td>\n",
       "      <td>1</td>\n",
       "      <td>239843.39</td>\n",
       "      <td>0</td>\n",
       "    </tr>\n",
       "    <tr>\n",
       "      <th>39</th>\n",
       "      <td>173175</td>\n",
       "      <td>924.0</td>\n",
       "      <td>Рыбинск</td>\n",
       "      <td>Ж</td>\n",
       "      <td>51.0</td>\n",
       "      <td>0</td>\n",
       "      <td>NaN</td>\n",
       "      <td>1</td>\n",
       "      <td>1</td>\n",
       "      <td>1</td>\n",
       "      <td>248844.47</td>\n",
       "      <td>0</td>\n",
       "    </tr>\n",
       "    <tr>\n",
       "      <th>43</th>\n",
       "      <td>228585</td>\n",
       "      <td>956.0</td>\n",
       "      <td>Ростов</td>\n",
       "      <td>М</td>\n",
       "      <td>41.0</td>\n",
       "      <td>0</td>\n",
       "      <td>NaN</td>\n",
       "      <td>1</td>\n",
       "      <td>1</td>\n",
       "      <td>0</td>\n",
       "      <td>115117.10</td>\n",
       "      <td>0</td>\n",
       "    </tr>\n",
       "  </tbody>\n",
       "</table>\n",
       "</div>"
      ],
      "text/plain": [
       "    user_id  score       city gender   age  equity  balance  products  \\\n",
       "2    120722  892.0    Рыбинск      Ж  30.0       0      NaN         1   \n",
       "9    133130  906.0  Ярославль      Ж  67.0       0      NaN         1   \n",
       "10   148929  927.0     Ростов      М  52.0       0      NaN         1   \n",
       "11   172184  921.0     Ростов      М  41.0       0      NaN         1   \n",
       "19   127034  922.0    Рыбинск      Ж  53.0       0      NaN         1   \n",
       "21   177415  896.0    Рыбинск      Ж  47.0       0      NaN         1   \n",
       "30   155730  946.0  Ярославль      Ж  47.0       0      NaN         2   \n",
       "34   205226  944.0  Ярославль      М  35.0       0      NaN         2   \n",
       "39   173175  924.0    Рыбинск      Ж  51.0       0      NaN         1   \n",
       "43   228585  956.0     Ростов      М  41.0       0      NaN         1   \n",
       "\n",
       "    credit_card  last_activity  est_salary  churn  \n",
       "2             1              1   107683.34      0  \n",
       "9             0              1   238055.53      0  \n",
       "10            1              1   196820.07      0  \n",
       "11            1              1   217469.48      0  \n",
       "19            0              0   147094.82      0  \n",
       "21            0              0   225060.35      0  \n",
       "30            1              1   660015.85      0  \n",
       "34            1              1   239843.39      0  \n",
       "39            1              1   248844.47      0  \n",
       "43            1              0   115117.10      0  "
      ]
     },
     "execution_count": 11,
     "metadata": {},
     "output_type": "execute_result"
    }
   ],
   "source": [
    "df_balance_nan = df.query('balance.isna()')\n",
    "df_balance_nan.head(10)"
   ]
  },
  {
   "cell_type": "markdown",
   "metadata": {},
   "source": [
    "Проанализируем распределение баллов кредитного скоринга, возраста и заработной платы у клиентов, у коготорых пропущены значения по столбцу balance."
   ]
  },
  {
   "cell_type": "code",
   "execution_count": 12,
   "metadata": {
    "scrolled": false
   },
   "outputs": [
    {
     "data": {
      "image/png": "[encoded data removed]",
      "text/plain": [
       "<Figure size 432x288 with 1 Axes>"
      ]
     },
     "metadata": {
      "needs_background": "light"
     },
     "output_type": "display_data"
    },
    {
     "data": {
      "image/png": "[encoded data removed]",
      "text/plain": [
       "<Figure size 432x288 with 1 Axes>"
      ]
     },
     "metadata": {
      "needs_background": "light"
     },
     "output_type": "display_data"
    },
    {
     "data": {
      "image/png": "[encoded data removed]",
      "text/plain": [
       "<Figure size 432x288 with 1 Axes>"
      ]
     },
     "metadata": {
      "needs_background": "light"
     },
     "output_type": "display_data"
    }
   ],
   "source": [
    "for column in ['score', 'age', 'est_salary']:\n",
    "    df_balance_nan.plot(y=column, kind='hist', bins=30, grid=True)\n",
    "    plt.ylabel('Количество клиентов')"
   ]
  },
  {
   "cell_type": "markdown",
   "metadata": {},
   "source": [
    "Анализируя полученные гистограммы, можно сделать вывод, что зависимости пропущенных значений от баллов кредитного скоринга, возраста и заработной платы клиентов не наблюдается. Пропуски не зависят от переменных и не ведут к систематической ошибке, но увеличивают случайную ошибку. В данном случае нет возможности заполнить такое большое количество пропусков (почти 25%) от общих данных и, тем более, отбрасывать их также нет смысла. Оставим пропуски как есть."
   ]
  },
  {
   "cell_type": "markdown",
   "metadata": {},
   "source": [
    "### Исследовать дубликаты"
   ]
  },
  {
   "cell_type": "code",
   "execution_count": 13,
   "metadata": {},
   "outputs": [
    {
     "name": "stdout",
     "output_type": "stream",
     "text": [
      "Количество явных дубликатов: 0\n"
     ]
    }
   ],
   "source": [
    "print('Количество явных дубликатов:', df.duplicated().sum())"
   ]
  },
  {
   "cell_type": "code",
   "execution_count": 14,
   "metadata": {
    "scrolled": false
   },
   "outputs": [
    {
     "name": "stdout",
     "output_type": "stream",
     "text": [
      "Количество неявных дубликатов: 73\n"
     ]
    }
   ],
   "source": [
    "print('Количество неявных дубликатов:', df.duplicated(subset = ['user_id']).sum())"
   ]
  },
  {
   "cell_type": "code",
   "execution_count": 36,
   "metadata": {
    "scrolled": true
   },
   "outputs": [
    {
     "data": {
      "text/html": [
       "<div>\n",
       "<style scoped>\n",
       "    .dataframe tbody tr th:only-of-type {\n",
       "        vertical-align: middle;\n",
       "    }\n",
       "\n",
       "    .dataframe tbody tr th {\n",
       "        vertical-align: top;\n",
       "    }\n",
       "\n",
       "    .dataframe thead th {\n",
       "        text-align: right;\n",
       "    }\n",
       "</style>\n",
       "<table border=\"1\" class=\"dataframe\">\n",
       "  <thead>\n",
       "    <tr style=\"text-align: right;\">\n",
       "      <th></th>\n",
       "      <th>user_id</th>\n",
       "      <th>score</th>\n",
       "      <th>city</th>\n",
       "      <th>gender</th>\n",
       "      <th>age</th>\n",
       "      <th>equity</th>\n",
       "      <th>balance</th>\n",
       "      <th>products</th>\n",
       "      <th>credit_card</th>\n",
       "      <th>last_activity</th>\n",
       "      <th>est_salary</th>\n",
       "      <th>churn</th>\n",
       "    </tr>\n",
       "  </thead>\n",
       "  <tbody>\n",
       "    <tr>\n",
       "      <th>7</th>\n",
       "      <td>218868</td>\n",
       "      <td>825.0</td>\n",
       "      <td>Ярославль</td>\n",
       "      <td>Ж</td>\n",
       "      <td>38.0</td>\n",
       "      <td>4</td>\n",
       "      <td>458145.40</td>\n",
       "      <td>2</td>\n",
       "      <td>1</td>\n",
       "      <td>1</td>\n",
       "      <td>68085.48</td>\n",
       "      <td>0</td>\n",
       "    </tr>\n",
       "    <tr>\n",
       "      <th>58</th>\n",
       "      <td>164676</td>\n",
       "      <td>860.0</td>\n",
       "      <td>Ярославль</td>\n",
       "      <td>М</td>\n",
       "      <td>37.0</td>\n",
       "      <td>5</td>\n",
       "      <td>648594.03</td>\n",
       "      <td>2</td>\n",
       "      <td>1</td>\n",
       "      <td>1</td>\n",
       "      <td>213586.86</td>\n",
       "      <td>1</td>\n",
       "    </tr>\n",
       "    <tr>\n",
       "      <th>150</th>\n",
       "      <td>185748</td>\n",
       "      <td>850.0</td>\n",
       "      <td>Рыбинск</td>\n",
       "      <td>М</td>\n",
       "      <td>36.0</td>\n",
       "      <td>5</td>\n",
       "      <td>1203376.67</td>\n",
       "      <td>2</td>\n",
       "      <td>0</td>\n",
       "      <td>1</td>\n",
       "      <td>89401.82</td>\n",
       "      <td>1</td>\n",
       "    </tr>\n",
       "    <tr>\n",
       "      <th>161</th>\n",
       "      <td>197364</td>\n",
       "      <td>928.0</td>\n",
       "      <td>Рыбинск</td>\n",
       "      <td>Ж</td>\n",
       "      <td>53.0</td>\n",
       "      <td>6</td>\n",
       "      <td>1347183.86</td>\n",
       "      <td>2</td>\n",
       "      <td>0</td>\n",
       "      <td>1</td>\n",
       "      <td>168189.49</td>\n",
       "      <td>1</td>\n",
       "    </tr>\n",
       "    <tr>\n",
       "      <th>231</th>\n",
       "      <td>190253</td>\n",
       "      <td>823.0</td>\n",
       "      <td>Рыбинск</td>\n",
       "      <td>М</td>\n",
       "      <td>37.0</td>\n",
       "      <td>4</td>\n",
       "      <td>373348.39</td>\n",
       "      <td>2</td>\n",
       "      <td>0</td>\n",
       "      <td>1</td>\n",
       "      <td>131947.92</td>\n",
       "      <td>1</td>\n",
       "    </tr>\n",
       "    <tr>\n",
       "      <th>431</th>\n",
       "      <td>214031</td>\n",
       "      <td>856.0</td>\n",
       "      <td>Рыбинск</td>\n",
       "      <td>М</td>\n",
       "      <td>36.0</td>\n",
       "      <td>2</td>\n",
       "      <td>386426.67</td>\n",
       "      <td>4</td>\n",
       "      <td>1</td>\n",
       "      <td>1</td>\n",
       "      <td>72767.85</td>\n",
       "      <td>0</td>\n",
       "    </tr>\n",
       "    <tr>\n",
       "      <th>440</th>\n",
       "      <td>221197</td>\n",
       "      <td>663.0</td>\n",
       "      <td>Рыбинск</td>\n",
       "      <td>М</td>\n",
       "      <td>27.0</td>\n",
       "      <td>0</td>\n",
       "      <td>NaN</td>\n",
       "      <td>1</td>\n",
       "      <td>1</td>\n",
       "      <td>1</td>\n",
       "      <td>172573.13</td>\n",
       "      <td>0</td>\n",
       "    </tr>\n",
       "    <tr>\n",
       "      <th>690</th>\n",
       "      <td>152479</td>\n",
       "      <td>768.0</td>\n",
       "      <td>Рыбинск</td>\n",
       "      <td>Ж</td>\n",
       "      <td>42.0</td>\n",
       "      <td>0</td>\n",
       "      <td>126787.79</td>\n",
       "      <td>4</td>\n",
       "      <td>1</td>\n",
       "      <td>1</td>\n",
       "      <td>143233.23</td>\n",
       "      <td>1</td>\n",
       "    </tr>\n",
       "    <tr>\n",
       "      <th>790</th>\n",
       "      <td>170312</td>\n",
       "      <td>901.0</td>\n",
       "      <td>Ярославль</td>\n",
       "      <td>М</td>\n",
       "      <td>33.0</td>\n",
       "      <td>4</td>\n",
       "      <td>3276783.93</td>\n",
       "      <td>3</td>\n",
       "      <td>0</td>\n",
       "      <td>1</td>\n",
       "      <td>358700.96</td>\n",
       "      <td>1</td>\n",
       "    </tr>\n",
       "    <tr>\n",
       "      <th>869</th>\n",
       "      <td>210662</td>\n",
       "      <td>962.0</td>\n",
       "      <td>Ярославль</td>\n",
       "      <td>Ж</td>\n",
       "      <td>54.0</td>\n",
       "      <td>5</td>\n",
       "      <td>5069231.39</td>\n",
       "      <td>1</td>\n",
       "      <td>1</td>\n",
       "      <td>1</td>\n",
       "      <td>955144.85</td>\n",
       "      <td>1</td>\n",
       "    </tr>\n",
       "  </tbody>\n",
       "</table>\n",
       "</div>"
      ],
      "text/plain": [
       "     user_id  score       city gender   age  equity     balance  products  \\\n",
       "7     218868  825.0  Ярославль      Ж  38.0       4   458145.40         2   \n",
       "58    164676  860.0  Ярославль      М  37.0       5   648594.03         2   \n",
       "150   185748  850.0    Рыбинск      М  36.0       5  1203376.67         2   \n",
       "161   197364  928.0    Рыбинск      Ж  53.0       6  1347183.86         2   \n",
       "231   190253  823.0    Рыбинск      М  37.0       4   373348.39         2   \n",
       "431   214031  856.0    Рыбинск      М  36.0       2   386426.67         4   \n",
       "440   221197  663.0    Рыбинск      М  27.0       0         NaN         1   \n",
       "690   152479  768.0    Рыбинск      Ж  42.0       0   126787.79         4   \n",
       "790   170312  901.0  Ярославль      М  33.0       4  3276783.93         3   \n",
       "869   210662  962.0  Ярославль      Ж  54.0       5  5069231.39         1   \n",
       "\n",
       "     credit_card  last_activity  est_salary  churn  \n",
       "7              1              1    68085.48      0  \n",
       "58             1              1   213586.86      1  \n",
       "150            0              1    89401.82      1  \n",
       "161            0              1   168189.49      1  \n",
       "231            0              1   131947.92      1  \n",
       "431            1              1    72767.85      0  \n",
       "440            1              1   172573.13      0  \n",
       "690            1              1   143233.23      1  \n",
       "790            0              1   358700.96      1  \n",
       "869            1              1   955144.85      1  "
      ]
     },
     "execution_count": 36,
     "metadata": {},
     "output_type": "execute_result"
    }
   ],
   "source": [
    "df[df.duplicated(subset = ['user_id'], keep=False)].head(10)"
   ]
  },
  {
   "cell_type": "markdown",
   "metadata": {},
   "source": [
    "Проверив дубликаты только по столбцу user_id, мы обнаружили, что их - 73 штуки. То есть в сумме в таблице находятся 146 повторяющихся записей. Просмотрим отдельно несколько user_id чтобы решить что делать с ними дальше."
   ]
  },
  {
   "cell_type": "code",
   "execution_count": 16,
   "metadata": {},
   "outputs": [
    {
     "data": {
      "text/html": [
       "<div>\n",
       "<style scoped>\n",
       "    .dataframe tbody tr th:only-of-type {\n",
       "        vertical-align: middle;\n",
       "    }\n",
       "\n",
       "    .dataframe tbody tr th {\n",
       "        vertical-align: top;\n",
       "    }\n",
       "\n",
       "    .dataframe thead th {\n",
       "        text-align: right;\n",
       "    }\n",
       "</style>\n",
       "<table border=\"1\" class=\"dataframe\">\n",
       "  <thead>\n",
       "    <tr style=\"text-align: right;\">\n",
       "      <th></th>\n",
       "      <th>user_id</th>\n",
       "      <th>score</th>\n",
       "      <th>city</th>\n",
       "      <th>gender</th>\n",
       "      <th>age</th>\n",
       "      <th>equity</th>\n",
       "      <th>balance</th>\n",
       "      <th>products</th>\n",
       "      <th>credit_card</th>\n",
       "      <th>last_activity</th>\n",
       "      <th>est_salary</th>\n",
       "      <th>churn</th>\n",
       "    </tr>\n",
       "  </thead>\n",
       "  <tbody>\n",
       "    <tr>\n",
       "      <th>231</th>\n",
       "      <td>190253</td>\n",
       "      <td>823.0</td>\n",
       "      <td>Рыбинск</td>\n",
       "      <td>М</td>\n",
       "      <td>37.0</td>\n",
       "      <td>4</td>\n",
       "      <td>373348.39</td>\n",
       "      <td>2</td>\n",
       "      <td>0</td>\n",
       "      <td>1</td>\n",
       "      <td>131947.92</td>\n",
       "      <td>1</td>\n",
       "    </tr>\n",
       "    <tr>\n",
       "      <th>1583</th>\n",
       "      <td>190253</td>\n",
       "      <td>726.0</td>\n",
       "      <td>Ярославль</td>\n",
       "      <td>М</td>\n",
       "      <td>49.0</td>\n",
       "      <td>0</td>\n",
       "      <td>NaN</td>\n",
       "      <td>1</td>\n",
       "      <td>1</td>\n",
       "      <td>1</td>\n",
       "      <td>177700.78</td>\n",
       "      <td>0</td>\n",
       "    </tr>\n",
       "  </tbody>\n",
       "</table>\n",
       "</div>"
      ],
      "text/plain": [
       "      user_id  score       city gender   age  equity    balance  products  \\\n",
       "231    190253  823.0    Рыбинск      М  37.0       4  373348.39         2   \n",
       "1583   190253  726.0  Ярославль      М  49.0       0        NaN         1   \n",
       "\n",
       "      credit_card  last_activity  est_salary  churn  \n",
       "231             0              1   131947.92      1  \n",
       "1583            1              1   177700.78      0  "
      ]
     },
     "execution_count": 16,
     "metadata": {},
     "output_type": "execute_result"
    }
   ],
   "source": [
    "df.loc[df['user_id'] == 190253]"
   ]
  },
  {
   "cell_type": "markdown",
   "metadata": {},
   "source": [
    "Данные не совпадают ни по одному столбцу, кроме user_id. Можно предположить, что банки из трех разных городов дают одинаковые id своим клиентам."
   ]
  },
  {
   "cell_type": "code",
   "execution_count": 17,
   "metadata": {},
   "outputs": [
    {
     "data": {
      "text/html": [
       "<div>\n",
       "<style scoped>\n",
       "    .dataframe tbody tr th:only-of-type {\n",
       "        vertical-align: middle;\n",
       "    }\n",
       "\n",
       "    .dataframe tbody tr th {\n",
       "        vertical-align: top;\n",
       "    }\n",
       "\n",
       "    .dataframe thead th {\n",
       "        text-align: right;\n",
       "    }\n",
       "</style>\n",
       "<table border=\"1\" class=\"dataframe\">\n",
       "  <thead>\n",
       "    <tr style=\"text-align: right;\">\n",
       "      <th></th>\n",
       "      <th>user_id</th>\n",
       "      <th>score</th>\n",
       "      <th>city</th>\n",
       "      <th>gender</th>\n",
       "      <th>age</th>\n",
       "      <th>equity</th>\n",
       "      <th>balance</th>\n",
       "      <th>products</th>\n",
       "      <th>credit_card</th>\n",
       "      <th>last_activity</th>\n",
       "      <th>est_salary</th>\n",
       "      <th>churn</th>\n",
       "    </tr>\n",
       "  </thead>\n",
       "  <tbody>\n",
       "    <tr>\n",
       "      <th>869</th>\n",
       "      <td>210662</td>\n",
       "      <td>962.0</td>\n",
       "      <td>Ярославль</td>\n",
       "      <td>Ж</td>\n",
       "      <td>54.0</td>\n",
       "      <td>5</td>\n",
       "      <td>5069231.39</td>\n",
       "      <td>1</td>\n",
       "      <td>1</td>\n",
       "      <td>1</td>\n",
       "      <td>955144.85</td>\n",
       "      <td>1</td>\n",
       "    </tr>\n",
       "    <tr>\n",
       "      <th>1837</th>\n",
       "      <td>210662</td>\n",
       "      <td>896.0</td>\n",
       "      <td>Рыбинск</td>\n",
       "      <td>Ж</td>\n",
       "      <td>37.0</td>\n",
       "      <td>0</td>\n",
       "      <td>NaN</td>\n",
       "      <td>2</td>\n",
       "      <td>0</td>\n",
       "      <td>0</td>\n",
       "      <td>90916.04</td>\n",
       "      <td>0</td>\n",
       "    </tr>\n",
       "  </tbody>\n",
       "</table>\n",
       "</div>"
      ],
      "text/plain": [
       "      user_id  score       city gender   age  equity     balance  products  \\\n",
       "869    210662  962.0  Ярославль      Ж  54.0       5  5069231.39         1   \n",
       "1837   210662  896.0    Рыбинск      Ж  37.0       0         NaN         2   \n",
       "\n",
       "      credit_card  last_activity  est_salary  churn  \n",
       "869             1              1   955144.85      1  \n",
       "1837            0              0    90916.04      0  "
      ]
     },
     "execution_count": 17,
     "metadata": {},
     "output_type": "execute_result"
    }
   ],
   "source": [
    "df.loc[df['user_id'] == 210662]"
   ]
  },
  {
   "cell_type": "markdown",
   "metadata": {},
   "source": [
    "Аналогичная ситуация - нет совпадений. Значит эти двое людей - разные клиенты банка из разных городов."
   ]
  },
  {
   "cell_type": "markdown",
   "metadata": {},
   "source": [
    "Неявные строки-дубликаты решено не удалять."
   ]
  },
  {
   "cell_type": "markdown",
   "metadata": {},
   "source": [
    "### Исследовать аномалии"
   ]
  },
  {
   "cell_type": "code",
   "execution_count": 18,
   "metadata": {},
   "outputs": [
    {
     "data": {
      "text/html": [
       "<div>\n",
       "<style scoped>\n",
       "    .dataframe tbody tr th:only-of-type {\n",
       "        vertical-align: middle;\n",
       "    }\n",
       "\n",
       "    .dataframe tbody tr th {\n",
       "        vertical-align: top;\n",
       "    }\n",
       "\n",
       "    .dataframe thead th {\n",
       "        text-align: right;\n",
       "    }\n",
       "</style>\n",
       "<table border=\"1\" class=\"dataframe\">\n",
       "  <thead>\n",
       "    <tr style=\"text-align: right;\">\n",
       "      <th></th>\n",
       "      <th>user_id</th>\n",
       "      <th>score</th>\n",
       "      <th>city</th>\n",
       "      <th>gender</th>\n",
       "      <th>age</th>\n",
       "      <th>equity</th>\n",
       "      <th>balance</th>\n",
       "      <th>products</th>\n",
       "      <th>credit_card</th>\n",
       "      <th>last_activity</th>\n",
       "      <th>est_salary</th>\n",
       "      <th>churn</th>\n",
       "    </tr>\n",
       "  </thead>\n",
       "  <tbody>\n",
       "    <tr>\n",
       "      <th>8957</th>\n",
       "      <td>147837</td>\n",
       "      <td>962.0</td>\n",
       "      <td>Рыбинск</td>\n",
       "      <td>Ж</td>\n",
       "      <td>79.0</td>\n",
       "      <td>3</td>\n",
       "      <td>NaN</td>\n",
       "      <td>0</td>\n",
       "      <td>0</td>\n",
       "      <td>0</td>\n",
       "      <td>25063.96</td>\n",
       "      <td>1</td>\n",
       "    </tr>\n",
       "  </tbody>\n",
       "</table>\n",
       "</div>"
      ],
      "text/plain": [
       "      user_id  score     city gender   age  equity  balance  products  \\\n",
       "8957   147837  962.0  Рыбинск      Ж  79.0       3      NaN         0   \n",
       "\n",
       "      credit_card  last_activity  est_salary  churn  \n",
       "8957            0              0    25063.96      1  "
      ]
     },
     "execution_count": 18,
     "metadata": {},
     "output_type": "execute_result"
    }
   ],
   "source": [
    "df.query('products == 0')"
   ]
  },
  {
   "cell_type": "markdown",
   "metadata": {},
   "source": [
    "В данных есть один клиент, у которого количество банковских продуктов равно 0. Такого не может быть, потому что если у клиента есть счет, то у него имеется как минимум один продукт.\n",
    "\n",
    "Изменим значение этой аномалии на 1."
   ]
  },
  {
   "cell_type": "code",
   "execution_count": 19,
   "metadata": {},
   "outputs": [],
   "source": [
    "df.at[8957, 'products'] = 1"
   ]
  },
  {
   "cell_type": "markdown",
   "metadata": {},
   "source": [
    "### Кодирование данных"
   ]
  },
  {
   "cell_type": "markdown",
   "metadata": {},
   "source": [
    "Чтобы в дальнейшем провести анализ корреляции, произведем one-hot кодирование переменных по столбцам gender и city."
   ]
  },
  {
   "cell_type": "code",
   "execution_count": 20,
   "metadata": {
    "scrolled": true
   },
   "outputs": [
    {
     "data": {
      "text/html": [
       "<div>\n",
       "<style scoped>\n",
       "    .dataframe tbody tr th:only-of-type {\n",
       "        vertical-align: middle;\n",
       "    }\n",
       "\n",
       "    .dataframe tbody tr th {\n",
       "        vertical-align: top;\n",
       "    }\n",
       "\n",
       "    .dataframe thead th {\n",
       "        text-align: right;\n",
       "    }\n",
       "</style>\n",
       "<table border=\"1\" class=\"dataframe\">\n",
       "  <thead>\n",
       "    <tr style=\"text-align: right;\">\n",
       "      <th></th>\n",
       "      <th>score</th>\n",
       "      <th>age</th>\n",
       "      <th>equity</th>\n",
       "      <th>balance</th>\n",
       "      <th>products</th>\n",
       "      <th>credit_card</th>\n",
       "      <th>last_activity</th>\n",
       "      <th>est_salary</th>\n",
       "      <th>churn</th>\n",
       "      <th>gender_Ж</th>\n",
       "      <th>gender_М</th>\n",
       "      <th>city_Ростов</th>\n",
       "      <th>city_Рыбинск</th>\n",
       "      <th>city_Ярославль</th>\n",
       "    </tr>\n",
       "  </thead>\n",
       "  <tbody>\n",
       "    <tr>\n",
       "      <th>0</th>\n",
       "      <td>850.0</td>\n",
       "      <td>25.0</td>\n",
       "      <td>1</td>\n",
       "      <td>59214.82</td>\n",
       "      <td>2</td>\n",
       "      <td>0</td>\n",
       "      <td>1</td>\n",
       "      <td>75719.14</td>\n",
       "      <td>1</td>\n",
       "      <td>1</td>\n",
       "      <td>0</td>\n",
       "      <td>0</td>\n",
       "      <td>1</td>\n",
       "      <td>0</td>\n",
       "    </tr>\n",
       "    <tr>\n",
       "      <th>1</th>\n",
       "      <td>861.0</td>\n",
       "      <td>37.0</td>\n",
       "      <td>5</td>\n",
       "      <td>850594.33</td>\n",
       "      <td>3</td>\n",
       "      <td>1</td>\n",
       "      <td>0</td>\n",
       "      <td>86621.77</td>\n",
       "      <td>0</td>\n",
       "      <td>1</td>\n",
       "      <td>0</td>\n",
       "      <td>0</td>\n",
       "      <td>1</td>\n",
       "      <td>0</td>\n",
       "    </tr>\n",
       "    <tr>\n",
       "      <th>2</th>\n",
       "      <td>892.0</td>\n",
       "      <td>30.0</td>\n",
       "      <td>0</td>\n",
       "      <td>NaN</td>\n",
       "      <td>1</td>\n",
       "      <td>1</td>\n",
       "      <td>1</td>\n",
       "      <td>107683.34</td>\n",
       "      <td>0</td>\n",
       "      <td>1</td>\n",
       "      <td>0</td>\n",
       "      <td>0</td>\n",
       "      <td>1</td>\n",
       "      <td>0</td>\n",
       "    </tr>\n",
       "    <tr>\n",
       "      <th>3</th>\n",
       "      <td>866.0</td>\n",
       "      <td>51.0</td>\n",
       "      <td>5</td>\n",
       "      <td>1524746.26</td>\n",
       "      <td>2</td>\n",
       "      <td>0</td>\n",
       "      <td>1</td>\n",
       "      <td>174423.53</td>\n",
       "      <td>1</td>\n",
       "      <td>1</td>\n",
       "      <td>0</td>\n",
       "      <td>0</td>\n",
       "      <td>0</td>\n",
       "      <td>1</td>\n",
       "    </tr>\n",
       "    <tr>\n",
       "      <th>4</th>\n",
       "      <td>730.0</td>\n",
       "      <td>34.0</td>\n",
       "      <td>5</td>\n",
       "      <td>174.00</td>\n",
       "      <td>1</td>\n",
       "      <td>1</td>\n",
       "      <td>0</td>\n",
       "      <td>67353.16</td>\n",
       "      <td>1</td>\n",
       "      <td>0</td>\n",
       "      <td>1</td>\n",
       "      <td>0</td>\n",
       "      <td>0</td>\n",
       "      <td>1</td>\n",
       "    </tr>\n",
       "  </tbody>\n",
       "</table>\n",
       "</div>"
      ],
      "text/plain": [
       "   score   age  equity     balance  products  credit_card  last_activity  \\\n",
       "0  850.0  25.0       1    59214.82         2            0              1   \n",
       "1  861.0  37.0       5   850594.33         3            1              0   \n",
       "2  892.0  30.0       0         NaN         1            1              1   \n",
       "3  866.0  51.0       5  1524746.26         2            0              1   \n",
       "4  730.0  34.0       5      174.00         1            1              0   \n",
       "\n",
       "   est_salary  churn  gender_Ж  gender_М  city_Ростов  city_Рыбинск  \\\n",
       "0    75719.14      1         1         0            0             1   \n",
       "1    86621.77      0         1         0            0             1   \n",
       "2   107683.34      0         1         0            0             1   \n",
       "3   174423.53      1         1         0            0             0   \n",
       "4    67353.16      1         0         1            0             0   \n",
       "\n",
       "   city_Ярославль  \n",
       "0               0  \n",
       "1               0  \n",
       "2               0  \n",
       "3               1  \n",
       "4               1  "
      ]
     },
     "execution_count": 20,
     "metadata": {},
     "output_type": "execute_result"
    }
   ],
   "source": [
    "df_coded = pd.get_dummies(df, columns=['gender', 'city'])\n",
    "df_coded = df_coded.drop(columns=['user_id'])\n",
    "df_coded.head(5)"
   ]
  },
  {
   "cell_type": "markdown",
   "metadata": {},
   "source": [
    "**Вывод по пункту**\n",
    "\n",
    "На этапе предобработки данных мы переименовали два столбца для облегчения использвания их в дальнейшей работе. Анализируя пропущенные значения были выявлены пропуски только в столбцах age и balance. Они не зависят от переменных и не ведут к систематической ошибке, поэтому было принято решение оставить пропуски как есть. На шаге анализа дубликатов было выявлено 73 строки-дубликатов, но совпадений между парами дубликатов не было найдено. Далее, мы изменили значение-аномалию у клиента с количеством продуктов, равным нулю, на единицу. На конечном шаге мы провели one-hot кодирование переменных по столбцам gender и city."
   ]
  },
  {
   "cell_type": "markdown",
   "metadata": {},
   "source": [
    "## Исследовательский анализ данных"
   ]
  },
  {
   "cell_type": "markdown",
   "metadata": {},
   "source": [
    "### Анализ распределения признаков в разрезе оттока клиентов"
   ]
  },
  {
   "cell_type": "code",
   "execution_count": 21,
   "metadata": {
    "scrolled": false
   },
   "outputs": [
    {
     "data": {
      "image/png": "[encoded data removed]",
      "text/plain": [
       "<Figure size 432x288 with 1 Axes>"
      ]
     },
     "metadata": {
      "needs_background": "light"
     },
     "output_type": "display_data"
    },
    {
     "data": {
      "image/png": "[encoded data removed]",
      "text/plain": [
       "<Figure size 432x288 with 1 Axes>"
      ]
     },
     "metadata": {
      "needs_background": "light"
     },
     "output_type": "display_data"
    },
    {
     "data": {
      "image/png": "[encoded data removed]",
      "text/plain": [
       "<Figure size 432x288 with 1 Axes>"
      ]
     },
     "metadata": {
      "needs_background": "light"
     },
     "output_type": "display_data"
    },
    {
     "data": {
      "image/png": "[encoded data removed]",
      "text/plain": [
       "<Figure size 432x288 with 1 Axes>"
      ]
     },
     "metadata": {
      "needs_background": "light"
     },
     "output_type": "display_data"
    },
    {
     "data": {
      "image/png": "[encoded data removed]",
      "text/plain": [
       "<Figure size 432x288 with 1 Axes>"
      ]
     },
     "metadata": {
      "needs_background": "light"
     },
     "output_type": "display_data"
    },
    {
     "data": {
      "image/png": "[encoded data removed]",
      "text/plain": [
       "<Figure size 432x288 with 1 Axes>"
      ]
     },
     "metadata": {
      "needs_background": "light"
     },
     "output_type": "display_data"
    }
   ],
   "source": [
    " for column in ['city', 'gender', 'credit_card', 'last_activity', 'products', 'equity']:\n",
    "    ax = sns.barplot(data=df, x=column, y='churn')\n",
    "    ax.axhline(y=df['churn'].mean(), color='red', label='Уровень оттока')\n",
    "    plt.title(f'Доля оттока по признаку {column}')\n",
    "    plt.legend()\n",
    "    plt.show()"
   ]
  },
  {
   "cell_type": "markdown",
   "metadata": {},
   "source": [
    "Наибольший отток клиентов отмечается у банка в Ярославле, а наименьший - в Рыбинске. Такой вывод не удивителен, ведь в Ярославле сконцентрировано большинство клиентов банка, а в Рыбинске - меньшинство и отток выглядит достаточно пропорциональным.\n",
    "\n",
    "Мужчины более склонны к оттоку, чем женщины - примерно в 2 раза.\n",
    "\n",
    "К оттоку более склонны клиенты, у которых нет кредитной карты банка.\n",
    "\n",
    "Активные клиенты (которые заходили в приложение банка в последние 30 дней) чаще становятся отточными. Скорее всего это происходит из-за того что клиенты в приложении закрывают или блокируют ненужные им банковские продукты перед тем как уйти от банка. Вторая возможная причина - в неудобном приложении банка, в котором клиенты не могут разобраться, и , следовательно, уходят от банка.\n",
    "\n",
    "Большинство клиентов банка пользуются 4 продуктами банка. Чуть реже - 5 продуктами. Отточные клиенты тоже чаще пользуются 2 продуктами. К оттоку склонны клиенты с 2 продуктами и более. Пик оттока у клиентов с 4 продуктами\n",
    "\n",
    "У большинства клиентов баллы собственности находятся в диапазоне 6-9. По графику видно, что отток клиентов начинается а диапазоне от 3 баллов собственности и именно в диапазоне 6-9 баллов отток максимальный."
   ]
  },
  {
   "cell_type": "code",
   "execution_count": 22,
   "metadata": {
    "scrolled": false
   },
   "outputs": [
    {
     "data": {
      "text/plain": [
       "Text(0.5, 1.0, 'Распределение баллов кредитного скоринга')"
      ]
     },
     "execution_count": 22,
     "metadata": {},
     "output_type": "execute_result"
    },
    {
     "data": {
      "image/png": "[encoded data removed]",
      "text/plain": [
       "<Figure size 720x360 with 1 Axes>"
      ]
     },
     "metadata": {
      "needs_background": "light"
     },
     "output_type": "display_data"
    }
   ],
   "source": [
    "plt.figure(figsize=(10,5))\n",
    "\n",
    "sns.histplot(data=df, x='score', hue='churn', stat='density', common_norm=False)\n",
    "\n",
    "plt.xlabel('Баллы')\n",
    "plt.ylabel('Количество клиентов')\n",
    "plt.title('Распределение баллов кредитного скоринга')"
   ]
  },
  {
   "cell_type": "markdown",
   "metadata": {},
   "source": [
    "Большинство клиентов банка имеют кредитный скоринг от 800 до 930 баллов. Именно в этом промежутке наибольший отток клиентов - приблизительно от 820 до 940 баллов. Наименьший отток клиентов у клиентов, имеющий кредитный скоринг от 650 до 800 баллов и от 950 до 1000."
   ]
  },
  {
   "cell_type": "code",
   "execution_count": 23,
   "metadata": {
    "scrolled": false
   },
   "outputs": [
    {
     "data": {
      "text/plain": [
       "(0.0, 3500000.0)"
      ]
     },
     "execution_count": 23,
     "metadata": {},
     "output_type": "execute_result"
    },
    {
     "data": {
      "image/png": "[encoded data removed]",
      "text/plain": [
       "<Figure size 720x504 with 1 Axes>"
      ]
     },
     "metadata": {
      "needs_background": "light"
     },
     "output_type": "display_data"
    }
   ],
   "source": [
    "plt.figure(figsize=(10,7))\n",
    "\n",
    "plot_balance = sns.histplot(data=df, x='balance', hue='churn', stat='density', common_norm=False, bins=range(0, 3500000, 50000))\n",
    "plot_balance.set_title('Распределение баланса')\n",
    "plot_balance.set_xlabel('Баланс')\n",
    "plot_balance.set_ylabel('Количество клиентов')\n",
    "plot_balance.set_xlim(0, 3500000)"
   ]
  },
  {
   "cell_type": "markdown",
   "metadata": {},
   "source": [
    "В среднем на счете клиентов лежит 0-500 тыс. руб. Пик баланса приходится на 200-300 тыс. руб. на человека. Также наблюдаются редкие значения в несколько миллионов рублей. К оттоку склонны клиенты с балансом выше 750 тыс. руб."
   ]
  },
  {
   "cell_type": "code",
   "execution_count": 24,
   "metadata": {
    "scrolled": false
   },
   "outputs": [
    {
     "data": {
      "text/plain": [
       "(0.0, 600000.0)"
      ]
     },
     "execution_count": 24,
     "metadata": {},
     "output_type": "execute_result"
    },
    {
     "data": {
      "image/png": "[encoded data removed]",
      "text/plain": [
       "<Figure size 1440x720 with 1 Axes>"
      ]
     },
     "metadata": {
      "needs_background": "light"
     },
     "output_type": "display_data"
    }
   ],
   "source": [
    "plt.figure(figsize=(20,10))\n",
    "\n",
    "plot_salary = sns.histplot(data=df, x='est_salary', hue='churn', stat='density', common_norm=False)\n",
    "plot_salary.set_title('Распределение оценочного дохода клиента')\n",
    "plot_salary.set_xlabel('Доход')\n",
    "plot_salary.set_ylabel('Количество клиентов')\n",
    "plot_salary.set_xlim(0, 600000)"
   ]
  },
  {
   "cell_type": "markdown",
   "metadata": {},
   "source": [
    "Оценочный доход клиента варьируется в основном в диапазоне 0-200 тыс. руб. в месяц. Но видны и очень редкие значения свыше 400 тыс. руб. Явный отток виден у клиентов с заработной платой от 90 тыс. руб."
   ]
  },
  {
   "cell_type": "code",
   "execution_count": 25,
   "metadata": {},
   "outputs": [
    {
     "data": {
      "text/plain": [
       "Text(0, 0.5, 'Количество клиентов')"
      ]
     },
     "execution_count": 25,
     "metadata": {},
     "output_type": "execute_result"
    },
    {
     "data": {
      "image/png": "[encoded data removed]",
      "text/plain": [
       "<Figure size 1440x720 with 1 Axes>"
      ]
     },
     "metadata": {
      "needs_background": "light"
     },
     "output_type": "display_data"
    }
   ],
   "source": [
    "plt.figure(figsize=(20,10))\n",
    "\n",
    "plot_age_1 = sns.histplot(data=df, x='age', hue='churn', stat='density', common_norm=False, binwidth = 1)\n",
    "plot_age_1.set_title('Распределение возраста клиентов')\n",
    "plot_age_1.set_xlabel('Возраст')\n",
    "plot_age_1.set_ylabel('Количество клиентов')"
   ]
  },
  {
   "cell_type": "markdown",
   "metadata": {},
   "source": [
    "Средний возраст клиента от 28 до 45 лет. Реже всего наблюдаются клиенты банка старше 77 лет. Клиентов младше 18 лет нет. Чаще всего от банка уходят клиенты в возрасте от 25 до 35 и от 50 до 60 лет."
   ]
  },
  {
   "cell_type": "markdown",
   "metadata": {},
   "source": [
    "**Вывод по пункту**\n",
    "\n",
    "Наблюдается явное превышение оттока среди клиентов, попадающих в следующие категории:\n",
    "1) Гендер: мужчины;\n",
    "\n",
    "2) Кредитная карта: не имеется;\n",
    "\n",
    "3) Баллы кредитного скоринга: от 820 до 940 баллов;\n",
    "\n",
    "4) Баланс на счете: свыше 750 тыс. руб.;\n",
    "\n",
    "5) Доход клиента: от 90 тыс. руб.;\n",
    "\n",
    "6) Баллы собственности: 6-9;\n",
    "\n",
    "7) Возраст: от 25 до 30 лет и от 50 до 60 лет;\n",
    "\n",
    "8) Количество продуктов: 2-5."
   ]
  },
  {
   "cell_type": "markdown",
   "metadata": {},
   "source": [
    "### Корреляционный анализ и интерпретация"
   ]
  },
  {
   "cell_type": "code",
   "execution_count": 26,
   "metadata": {},
   "outputs": [
    {
     "data": {
      "text/plain": [
       "Text(0.5, 1.0, 'Корреляционная матрица Пирсона')"
      ]
     },
     "execution_count": 26,
     "metadata": {},
     "output_type": "execute_result"
    },
    {
     "data": {
      "image/png": "[encoded data removed]",
      "text/plain": [
       "<Figure size 1080x720 with 2 Axes>"
      ]
     },
     "metadata": {
      "needs_background": "light"
     },
     "output_type": "display_data"
    }
   ],
   "source": [
    "plt.figure(figsize=(15, 10))\n",
    "\n",
    "sns.heatmap(df_coded.corr(), annot=True, cmap='coolwarm', center=0)\n",
    "plt.xticks(rotation=45)\n",
    "plt.title('Корреляционная матрица Пирсона')"
   ]
  },
  {
   "cell_type": "markdown",
   "metadata": {},
   "source": [
    "Определим границу наличия и отсутствия признаков влияния в значение 10. \n",
    "\n",
    "Если влияние между признаками попадает под > ±10, то будем считать такой признак влияющем на отток клиентов. "
   ]
  },
  {
   "attachments": {
    "image-2.png": {
     "image/png": "[encoded data removed]"
    }
   },
   "cell_type": "markdown",
   "metadata": {},
   "source": [
    "![image-2.png](attachment:image-2.png)"
   ]
  },
  {
   "cell_type": "markdown",
   "metadata": {},
   "source": [
    "Анализируя матрицу Пирсона, видим, что сильной зависимости между признаками не наблюдается. Однако можно выделить следующие замечания, опираясь на шкалу Чеддока:\n",
    "\n",
    "1) Слабое позитивное влияние (0.11) у оттока клиентов с кредитным скорингом. Чем выше баллы скоринга, тем они больше вляют на отточность клиентов;\n",
    "\n",
    "2) Слабое позитивное влияние (0.27) у оттока клиентов с количеством баллов собственности. Чем больше баллов, тем они сильнее вляют на отточность клиентов;\n",
    "\n",
    "3) Умеренное позитивное влияние (0.3) у оттока клиентов с количеством продуктов. Чем больше банковских продуктов у клиента, тем  сильнее они вляют на отточность;\n",
    "\n",
    "4) Слабое отрицательное влияние (0.13) у оттока клиентов с наличием кредитной карты. Вероятность оттока клиента ниже, если у него есть кредитная карта;\n",
    "\n",
    "5) Слабое позитивное влияние (0.17) у оттока клиентов с их активностью. Чем выше активность в приложении, тем сильнее вероятность оттока клиента;\n",
    "\n",
    "6) Слабое отрицательное влияние (0.14) у оттока клиентов с женским гендером. Вероятность оттока клиента ниже, если он является женщиной;\n",
    "\n",
    "7) Слабое позитивное влияние (0.14) у оттока клиентов с мужским гендером. Вероятность оттока клиента выше, если он является мужчиной."
   ]
  },
  {
   "cell_type": "markdown",
   "metadata": {},
   "source": [
    "Отталкиваясь то границы, можно сказать, что активность клиента, мужской гендер, количество продуктов, баллов собственности и баллов скоринга имеют влияние на отточность клиентов, по сравнению с другими признаками."
   ]
  },
  {
   "cell_type": "markdown",
   "metadata": {},
   "source": [
    "### Проверка статистических гипотез"
   ]
  },
  {
   "cell_type": "markdown",
   "metadata": {},
   "source": [
    "Создадим 2 датасета: с оставшимися и отточными клиентами."
   ]
  },
  {
   "cell_type": "code",
   "execution_count": 37,
   "metadata": {},
   "outputs": [
    {
     "data": {
      "text/html": [
       "<div>\n",
       "<style scoped>\n",
       "    .dataframe tbody tr th:only-of-type {\n",
       "        vertical-align: middle;\n",
       "    }\n",
       "\n",
       "    .dataframe tbody tr th {\n",
       "        vertical-align: top;\n",
       "    }\n",
       "\n",
       "    .dataframe thead th {\n",
       "        text-align: right;\n",
       "    }\n",
       "</style>\n",
       "<table border=\"1\" class=\"dataframe\">\n",
       "  <thead>\n",
       "    <tr style=\"text-align: right;\">\n",
       "      <th></th>\n",
       "      <th>user_id</th>\n",
       "      <th>score</th>\n",
       "      <th>city</th>\n",
       "      <th>gender</th>\n",
       "      <th>age</th>\n",
       "      <th>equity</th>\n",
       "      <th>balance</th>\n",
       "      <th>products</th>\n",
       "      <th>credit_card</th>\n",
       "      <th>last_activity</th>\n",
       "      <th>est_salary</th>\n",
       "      <th>churn</th>\n",
       "    </tr>\n",
       "  </thead>\n",
       "  <tbody>\n",
       "    <tr>\n",
       "      <th>0</th>\n",
       "      <td>183012</td>\n",
       "      <td>850.0</td>\n",
       "      <td>Рыбинск</td>\n",
       "      <td>Ж</td>\n",
       "      <td>25.0</td>\n",
       "      <td>1</td>\n",
       "      <td>59214.82</td>\n",
       "      <td>2</td>\n",
       "      <td>0</td>\n",
       "      <td>1</td>\n",
       "      <td>75719.14</td>\n",
       "      <td>1</td>\n",
       "    </tr>\n",
       "    <tr>\n",
       "      <th>3</th>\n",
       "      <td>225363</td>\n",
       "      <td>866.0</td>\n",
       "      <td>Ярославль</td>\n",
       "      <td>Ж</td>\n",
       "      <td>51.0</td>\n",
       "      <td>5</td>\n",
       "      <td>1524746.26</td>\n",
       "      <td>2</td>\n",
       "      <td>0</td>\n",
       "      <td>1</td>\n",
       "      <td>174423.53</td>\n",
       "      <td>1</td>\n",
       "    </tr>\n",
       "    <tr>\n",
       "      <th>4</th>\n",
       "      <td>157978</td>\n",
       "      <td>730.0</td>\n",
       "      <td>Ярославль</td>\n",
       "      <td>М</td>\n",
       "      <td>34.0</td>\n",
       "      <td>5</td>\n",
       "      <td>174.00</td>\n",
       "      <td>1</td>\n",
       "      <td>1</td>\n",
       "      <td>0</td>\n",
       "      <td>67353.16</td>\n",
       "      <td>1</td>\n",
       "    </tr>\n",
       "    <tr>\n",
       "      <th>12</th>\n",
       "      <td>132970</td>\n",
       "      <td>845.0</td>\n",
       "      <td>Ярославль</td>\n",
       "      <td>Ж</td>\n",
       "      <td>31.0</td>\n",
       "      <td>3</td>\n",
       "      <td>591928.52</td>\n",
       "      <td>2</td>\n",
       "      <td>1</td>\n",
       "      <td>1</td>\n",
       "      <td>112697.16</td>\n",
       "      <td>1</td>\n",
       "    </tr>\n",
       "    <tr>\n",
       "      <th>40</th>\n",
       "      <td>129705</td>\n",
       "      <td>811.0</td>\n",
       "      <td>Рыбинск</td>\n",
       "      <td>М</td>\n",
       "      <td>34.0</td>\n",
       "      <td>2</td>\n",
       "      <td>129799.35</td>\n",
       "      <td>1</td>\n",
       "      <td>0</td>\n",
       "      <td>0</td>\n",
       "      <td>96242.71</td>\n",
       "      <td>1</td>\n",
       "    </tr>\n",
       "  </tbody>\n",
       "</table>\n",
       "</div>"
      ],
      "text/plain": [
       "    user_id  score       city gender   age  equity     balance  products  \\\n",
       "0    183012  850.0    Рыбинск      Ж  25.0       1    59214.82         2   \n",
       "3    225363  866.0  Ярославль      Ж  51.0       5  1524746.26         2   \n",
       "4    157978  730.0  Ярославль      М  34.0       5      174.00         1   \n",
       "12   132970  845.0  Ярославль      Ж  31.0       3   591928.52         2   \n",
       "40   129705  811.0    Рыбинск      М  34.0       2   129799.35         1   \n",
       "\n",
       "    credit_card  last_activity  est_salary  churn  \n",
       "0             0              1    75719.14      1  \n",
       "3             0              1   174423.53      1  \n",
       "4             1              0    67353.16      1  \n",
       "12            1              1   112697.16      1  \n",
       "40            0              0    96242.71      1  "
      ]
     },
     "execution_count": 37,
     "metadata": {},
     "output_type": "execute_result"
    }
   ],
   "source": [
    "churn = df.query('churn == 1')\n",
    "churn.head()"
   ]
  },
  {
   "cell_type": "code",
   "execution_count": 38,
   "metadata": {},
   "outputs": [
    {
     "data": {
      "text/html": [
       "<div>\n",
       "<style scoped>\n",
       "    .dataframe tbody tr th:only-of-type {\n",
       "        vertical-align: middle;\n",
       "    }\n",
       "\n",
       "    .dataframe tbody tr th {\n",
       "        vertical-align: top;\n",
       "    }\n",
       "\n",
       "    .dataframe thead th {\n",
       "        text-align: right;\n",
       "    }\n",
       "</style>\n",
       "<table border=\"1\" class=\"dataframe\">\n",
       "  <thead>\n",
       "    <tr style=\"text-align: right;\">\n",
       "      <th></th>\n",
       "      <th>user_id</th>\n",
       "      <th>score</th>\n",
       "      <th>city</th>\n",
       "      <th>gender</th>\n",
       "      <th>age</th>\n",
       "      <th>equity</th>\n",
       "      <th>balance</th>\n",
       "      <th>products</th>\n",
       "      <th>credit_card</th>\n",
       "      <th>last_activity</th>\n",
       "      <th>est_salary</th>\n",
       "      <th>churn</th>\n",
       "    </tr>\n",
       "  </thead>\n",
       "  <tbody>\n",
       "    <tr>\n",
       "      <th>1</th>\n",
       "      <td>146556</td>\n",
       "      <td>861.0</td>\n",
       "      <td>Рыбинск</td>\n",
       "      <td>Ж</td>\n",
       "      <td>37.0</td>\n",
       "      <td>5</td>\n",
       "      <td>850594.33</td>\n",
       "      <td>3</td>\n",
       "      <td>1</td>\n",
       "      <td>0</td>\n",
       "      <td>86621.77</td>\n",
       "      <td>0</td>\n",
       "    </tr>\n",
       "    <tr>\n",
       "      <th>2</th>\n",
       "      <td>120722</td>\n",
       "      <td>892.0</td>\n",
       "      <td>Рыбинск</td>\n",
       "      <td>Ж</td>\n",
       "      <td>30.0</td>\n",
       "      <td>0</td>\n",
       "      <td>NaN</td>\n",
       "      <td>1</td>\n",
       "      <td>1</td>\n",
       "      <td>1</td>\n",
       "      <td>107683.34</td>\n",
       "      <td>0</td>\n",
       "    </tr>\n",
       "    <tr>\n",
       "      <th>5</th>\n",
       "      <td>202305</td>\n",
       "      <td>856.0</td>\n",
       "      <td>Рыбинск</td>\n",
       "      <td>М</td>\n",
       "      <td>56.0</td>\n",
       "      <td>4</td>\n",
       "      <td>863687.24</td>\n",
       "      <td>3</td>\n",
       "      <td>1</td>\n",
       "      <td>0</td>\n",
       "      <td>156619.80</td>\n",
       "      <td>0</td>\n",
       "    </tr>\n",
       "    <tr>\n",
       "      <th>6</th>\n",
       "      <td>177259</td>\n",
       "      <td>807.0</td>\n",
       "      <td>Ярославль</td>\n",
       "      <td>Ж</td>\n",
       "      <td>39.0</td>\n",
       "      <td>3</td>\n",
       "      <td>405042.44</td>\n",
       "      <td>3</td>\n",
       "      <td>0</td>\n",
       "      <td>1</td>\n",
       "      <td>103838.32</td>\n",
       "      <td>0</td>\n",
       "    </tr>\n",
       "    <tr>\n",
       "      <th>7</th>\n",
       "      <td>218868</td>\n",
       "      <td>825.0</td>\n",
       "      <td>Ярославль</td>\n",
       "      <td>Ж</td>\n",
       "      <td>38.0</td>\n",
       "      <td>4</td>\n",
       "      <td>458145.40</td>\n",
       "      <td>2</td>\n",
       "      <td>1</td>\n",
       "      <td>1</td>\n",
       "      <td>68085.48</td>\n",
       "      <td>0</td>\n",
       "    </tr>\n",
       "  </tbody>\n",
       "</table>\n",
       "</div>"
      ],
      "text/plain": [
       "   user_id  score       city gender   age  equity    balance  products  \\\n",
       "1   146556  861.0    Рыбинск      Ж  37.0       5  850594.33         3   \n",
       "2   120722  892.0    Рыбинск      Ж  30.0       0        NaN         1   \n",
       "5   202305  856.0    Рыбинск      М  56.0       4  863687.24         3   \n",
       "6   177259  807.0  Ярославль      Ж  39.0       3  405042.44         3   \n",
       "7   218868  825.0  Ярославль      Ж  38.0       4  458145.40         2   \n",
       "\n",
       "   credit_card  last_activity  est_salary  churn  \n",
       "1            1              0    86621.77      0  \n",
       "2            1              1   107683.34      0  \n",
       "5            1              0   156619.80      0  \n",
       "6            0              1   103838.32      0  \n",
       "7            1              1    68085.48      0  "
      ]
     },
     "execution_count": 38,
     "metadata": {},
     "output_type": "execute_result"
    }
   ],
   "source": [
    "not_churn = df.query('churn == 0')\n",
    "not_churn.head()"
   ]
  },
  {
   "cell_type": "code",
   "execution_count": 29,
   "metadata": {},
   "outputs": [
    {
     "name": "stdout",
     "output_type": "stream",
     "text": [
      "1820\n",
      "8180\n"
     ]
    }
   ],
   "source": [
    "print(len(churn))\n",
    "print(len(not_churn))"
   ]
  },
  {
   "cell_type": "markdown",
   "metadata": {},
   "source": [
    "Проведем статистический t-тест для двух независимых выборок.\n",
    "\n",
    "Обоснование инструмента:\n",
    "1) Оба набора данных достаточно велики (n > 30);\n",
    "\n",
    "2) Из первого пункта вытекает то, что данные в каждом наборе следуют нормальному распределению;\n",
    "\n",
    "3) Дисперсии генеральных совокупностей наборов могут быть не равны, но мы зададим параметр equal_var=False.\n",
    "\n",
    "Для проверки гипотез применим ttest_ind, т.к. он предназначен для проверки гипотезы о равенстве средних двух генеральных совокупностей."
   ]
  },
  {
   "cell_type": "markdown",
   "metadata": {},
   "source": [
    "**Гипотеза 1: Оценочный доход у отточных клиентов больше чем у оставшихся**\n",
    "\n",
    "Сформулируем гипотезы:\n",
    "\n",
    "- Н(0) - доход у отточных клиентов равен доходу оставшихся;\n",
    "- Н(1) - доход у отточных клиентов больше."
   ]
  },
  {
   "cell_type": "markdown",
   "metadata": {},
   "source": []
  },
  {
   "cell_type": "code",
   "execution_count": 30,
   "metadata": {},
   "outputs": [
    {
     "name": "stdout",
     "output_type": "stream",
     "text": [
      "среднее выборки churn: 148243.01019780218\n",
      "среднее выборки not_churn: 147783.20010757947\n",
      "p-значение: 0.4443527411061923\n",
      "Не получилось отвергнуть нулевую гипотезу\n"
     ]
    }
   ],
   "source": [
    "print('среднее выборки churn:', np.mean(churn['est_salary']))\n",
    "print('среднее выборки not_churn:', np.mean(not_churn['est_salary']))\n",
    "\n",
    "alpha = 0.05\n",
    "results = st.ttest_ind(churn['est_salary'],not_churn['est_salary'],alternative='greater',equal_var=False)\n",
    "print('p-значение:', results.pvalue)\n",
    "\n",
    "if results.pvalue < alpha:\n",
    "    print('Отвергаем нулевую гипотезу')\n",
    "else:\n",
    "    print('Не получилось отвергнуть нулевую гипотезу')"
   ]
  },
  {
   "cell_type": "markdown",
   "metadata": {},
   "source": [
    "Т.к. р-value оказалось больше уровня статистической значимости (alpha), то можно сделать вывод, что наблюдаемое значение достаточно близко к предполагаемому в нулевой гипотезе. Средние значения по доходу у отточных и оставшихся клиентов равны 148 тыс. руб. и 147 тыс. руб., соответственно. Доход у отточных клиентов равен доходу у оставшихся."
   ]
  },
  {
   "cell_type": "markdown",
   "metadata": {},
   "source": [
    "**Гипотеза 2: У отточных клиентов больше баллов кредитного скоринга чем у оставшихся**\n",
    "\n",
    "Сформулируем гипотезы:\n",
    "\n",
    "- Н(0) - количество баллов скоринга у отточных клиентов равно количеству баллов у оставшихся;\n",
    "- Н(1) - количество баллов скоринга у отточных клиентов больше."
   ]
  },
  {
   "cell_type": "code",
   "execution_count": 31,
   "metadata": {},
   "outputs": [
    {
     "name": "stdout",
     "output_type": "stream",
     "text": [
      "среднее выборки churn: 863.4010989010989\n",
      "среднее выборки not_churn: 845.4283618581907\n",
      "p-значение: 6.021543463828934e-38\n",
      "Отвергаем нулевую гипотезу\n"
     ]
    }
   ],
   "source": [
    "print('среднее выборки churn:', np.mean(churn['score']))\n",
    "print('среднее выборки not_churn:', np.mean(not_churn['score']))\n",
    "\n",
    "alpha = 0.05\n",
    "results = st.ttest_ind(churn['score'],not_churn['score'],alternative='greater',equal_var=False)\n",
    "print('p-значение:', results.pvalue)\n",
    "\n",
    "if results.pvalue < alpha:\n",
    "    print('Отвергаем нулевую гипотезу')\n",
    "else:\n",
    "    print('Не получилось отвергнуть нулевую гипотезу')"
   ]
  },
  {
   "cell_type": "markdown",
   "metadata": {},
   "source": [
    "Т.к. р-value оказалось меньше уровня статистической значимости (alpha), то можно сделать вывод, что наблюдаемое значение слишком далеко от предполагаемого в нулевой гипотезе. У отточных клиентов больше баллов кредитного скоринга чем у оставшихся на 18 единиц. Поэтому нулевая гипотеза отвергается в пользу альтернативной: количество баллов скоринга у отточных клиентов больше."
   ]
  },
  {
   "cell_type": "markdown",
   "metadata": {},
   "source": [
    "**Ввод по пункту**\n",
    "\n",
    "В результате проверки гипотез мы выяснили, что:\n",
    "\n",
    "1) Доход у отточных клиентов равен доходу у оставшихся;\n",
    "\n",
    "2) Количество баллов скоринга у отточных клиентов больше."
   ]
  },
  {
   "cell_type": "markdown",
   "metadata": {},
   "source": [
    "### Подведение промежуточных итогов"
   ]
  },
  {
   "cell_type": "markdown",
   "metadata": {},
   "source": [
    "*На этапе предобработки данных* мы переименовали два столбца для облегчения использвания их в дальнейшей работе. Анализируя пропущенные значения были выявлены пропуски только в столбцах age и balance. Они не зависят от переменных и не ведут к систематической ошибке, поэтому было принято решение оставить пропуски как есть. На шаге анализа дубликатов было выявлено 73 строки-дубликатов, но совпадений между парами дубликатов не было найдено. Далее, мы изменили значение-аномалию у клиента с количеством продуктов, равным нулю, на единицу. На конечном шаге мы провели one-hot кодирование переменных по столбцам gender и city.\n",
    "\n",
    "*Наблюдается явное превышение оттока среди клиентов, попадающих в следующие категории:*\n",
    "\n",
    "- Гендер: мужчины;\n",
    "- Кредитная карта: не имеется;\n",
    "- Баллы кредитного скоринга: от 820 до 940 баллов;\n",
    "- Баланс на счете: свыше 750 тыс. руб.;\n",
    "- Доход клиента: от 90 тыс. руб.;\n",
    "- Баллы собственности: 6-9;\n",
    "- Возраст: от 25 до 45 лет и от 50 до 60 лет;\n",
    "- Количество продуктов: 2-5.\n",
    "\n",
    "*Анализируя матрицу Пирсона, видим, что сильной зависимости между признаками не наблюдается. Однако можно выделить следующие замечания:*\n",
    "\n",
    "1) Слабое позитивное влияние у оттока клиентов с:\n",
    "- кредитным скорингом;\n",
    "- количеством баллов собственности;\n",
    "- наличием кредитной карты;\n",
    "- активностью;\n",
    "- с мужским гендером.\n",
    "\n",
    "2) Умеренное позитивное влияние у оттока клиентов с:\n",
    "- количеством продуктов.\n",
    "\n",
    "3) Слабое отрицательное влияние у оттока клиентов \n",
    "- с женским гендером.\n",
    "\n",
    "\n",
    "*В результате проверки гипотез мы выяснили, что:*\n",
    "\n",
    "- Доход у отточных клиентов равен доходу у оставшихся;\n",
    "- Количество баллов скоринга у отточных клиентов больше."
   ]
  },
  {
   "cell_type": "markdown",
   "metadata": {},
   "source": [
    "### Сегментация клиентов"
   ]
  },
  {
   "cell_type": "markdown",
   "metadata": {},
   "source": [
    "Сегменты должны попадать под 2 условия:\n",
    "\n",
    "1) в сегмент должны входить не менее 500 клиентов;\n",
    "\n",
    "2) отток клиентов сегмента должен быть выше среднебанковского.\n",
    "\n",
    "Определим среднебанковский отток:"
   ]
  },
  {
   "cell_type": "code",
   "execution_count": 32,
   "metadata": {},
   "outputs": [
    {
     "data": {
      "text/plain": [
       "18.2"
      ]
     },
     "execution_count": 32,
     "metadata": {},
     "output_type": "execute_result"
    }
   ],
   "source": [
    "len(churn)/len(df)*100"
   ]
  },
  {
   "cell_type": "markdown",
   "metadata": {},
   "source": [
    "**1 Сегмент: Лояльные клиенты**\n",
    "\n",
    "Признаки:\n",
    "- заходили в приложение в последние 30 дней;\n",
    "- пользуются 2 и более банковскими продуктами."
   ]
  },
  {
   "cell_type": "code",
   "execution_count": 33,
   "metadata": {},
   "outputs": [
    {
     "name": "stdout",
     "output_type": "stream",
     "text": [
      "Количество клиентов в сегменте: 3470\n",
      "Уровень оттока в сегменте: 32.36%\n"
     ]
    }
   ],
   "source": [
    "first_segment = df.query('products >= 2 and last_activity == 1')\n",
    "print(f\"Количество клиентов в сегменте:\", len(first_segment))\n",
    "print(f\"Уровень оттока в сегменте: {len(churn.query('products >= 2 and last_activity == 1')) / len(first_segment) * 100:.2f}%\")"
   ]
  },
  {
   "cell_type": "markdown",
   "metadata": {},
   "source": [
    "**2 Сегмент: Молодые семьи**\n",
    "\n",
    "Признаки:\n",
    "- имеют кредитную карту;\n",
    "- возраст от 25 до 30 лет."
   ]
  },
  {
   "cell_type": "code",
   "execution_count": 34,
   "metadata": {},
   "outputs": [
    {
     "name": "stdout",
     "output_type": "stream",
     "text": [
      "Количество клиентов в сегменте: 873\n",
      "Уровень оттока в сегменте: 18.44%\n"
     ]
    }
   ],
   "source": [
    "second_segment = df.query('25 <= age <= 30 and credit_card == 1')\n",
    "print(f\"Количество клиентов в сегменте:\", len(second_segment))\n",
    "print(f\"Уровень оттока в сегменте: {len(churn.query('25 <= age <= 30 and credit_card == 1')) / len(second_segment) * 100:.2f}%\")"
   ]
  },
  {
   "cell_type": "markdown",
   "metadata": {},
   "source": [
    "**3 Сегмент: Состоятельные клиенты**\n",
    "\n",
    "Признаки:\n",
    "- доход свыше 200 тыс руб. в месяц;\n",
    "- баланс на счете свыше 1 млн. руб."
   ]
  },
  {
   "cell_type": "code",
   "execution_count": 35,
   "metadata": {},
   "outputs": [
    {
     "name": "stdout",
     "output_type": "stream",
     "text": [
      "Количество клиентов в сегменте: 502\n",
      "Уровень оттока в сегменте: 45.62%\n"
     ]
    }
   ],
   "source": [
    "third_segment = df.query('est_salary >= 200000 and balance >= 1000000')\n",
    "print(f\"Количество клиентов в сегменте:\", len(third_segment))\n",
    "print(f\"Уровень оттока в сегменте: {len(churn.query('est_salary >= 200000 and balance >= 1000000')) / len(third_segment) * 100:.2f}%\")"
   ]
  },
  {
   "cell_type": "markdown",
   "metadata": {},
   "source": [
    "### Приоритизация сегментов"
   ]
  },
  {
   "cell_type": "markdown",
   "metadata": {},
   "source": [
    "Анализируя уровень оттока клиентов по вышеперечисленным сегментам, нам следует приоритизировать их в следующем порядке:\n",
    "\n",
    "1) Сегмент 3 (Состоятельные клиенты);\n",
    "\n",
    "2) Сегмент 1 (Лояльные клиенты);\n",
    "\n",
    "3) Сегмент 2 (Молодые семьи).\n",
    "\n",
    "Состоятельные клиенты имеют выше риск уйти от банка (45%), если они будут недовольны качеством обслуживания. Они не держатся за банк и легко могут завести несколько счетов в разных банках.\n",
    "\n",
    "Лояльные клиенты имеют ниже риск перестать пользоваться продуктами банка (около 32%). Чем больше продуктов у лояльного клиента, тем выше вероятность, что один из продуктов перестанет его удовлетворять и клиент может покинуть банк в поисках более удобного продукта.\n",
    "\n",
    "Молодые семьи наименее привержены к оттоку (17%). Причина в том, что имея маленьких детей и кредитные карты, семьи стараются выплачивать банку платежи и проценты в полном объеме, чтобы повысить баллы кредитного скоринга и быстрее расчитаться с долгами."
   ]
  },
  {
   "cell_type": "markdown",
   "metadata": {},
   "source": [
    "### Формирование рекомендаций по работе с сегментами"
   ]
  },
  {
   "cell_type": "markdown",
   "metadata": {},
   "source": [
    "**Рекомендации для Сегмента 3 (Состоятельные клиенты)**\n",
    "\n",
    "Удержание состоятельных клиентов особенно важно для банка (ведь чем больше денег лежит на картах и счетах у банка, тем ему выгоднее), стоит рассмотреть создание отдельной услуги наподобие Bank Private как у Сбера. В него будут входить: \n",
    "- личная помощь индивидуального менеджера по банковским услугам;\n",
    "- индивидуальные ставки по депозитам и персональные условия по кредитам;\n",
    "- доступ к личным сейфовым ячейкам и покупка драгоценных металлов;\n",
    "- праймовый пакет услуг с эксклюзивными сервисами и преимуществами."
   ]
  },
  {
   "cell_type": "markdown",
   "metadata": {},
   "source": [
    "**Рекомендации для Сегмента 1 (Лояльные клиенты)**\n",
    "\n",
    "Лояльные клиенты - клиенты, которые пользуются большим количеством продуктов банка и часто заходят в мобильное приложение. Чем больше продуктов у такого клиента, тем выше вероятность его недовольства одним из продуктов или работы приложения. Для сохранения таких клиентов сейчас и в будущем банку стоит провести процесс оптимизации продуктов и самого мобильного приложения. Для этого стоит предпринять следующие шаги:\n",
    "\n",
    "- проанализировать техническим специалистам внутренную работу приложения;\n",
    "- собрать с клиентов обратную связь об их удовлетворенности работой продуктов и приложения;\n",
    "- исправить ошибки и доработать недочеты;\n",
    "- регулярно повторять эти действия для предотвращения преждевременного оттока клиентов."
   ]
  },
  {
   "cell_type": "markdown",
   "metadata": {},
   "source": [
    "**Рекомендации для Сегмента 2 (Молодые семьи)**\n",
    "\n",
    "Молодым семьям, использующим кредитные карты, очень важна помощь банка в выплачивании ипотеки или кредитов. Банку также стоит рассмотреть открытие отдельной услуги, направленной на поддержку клиентов, впервые столкнувшимися с кредитными продуктами. В эту услугу могут входить:\n",
    "\n",
    "- финансовые консультации менеджеров, ответственных за кредитование;\n",
    "- возможность планирования выплат по кредитам на удобных для клиента условиях;\n",
    "- создание специальной программы для тех семей, которые собираются погашать ипотеки и кредиты досрочно, с возможностью снижения процента или накопление бонусов."
   ]
  },
  {
   "cell_type": "markdown",
   "metadata": {},
   "source": [
    "Рекомендуется создание отдельных специальных сервисов, ориентированных на интересы клиентов: Bank Private для состоятельных клиентов и программу поддержки молодых семей. Также для всех остальных клиентов банку рекомендуется постоянно проводить оптимизацию своих продуктов и анализ банковского приложения."
   ]
  },
  {
   "cell_type": "markdown",
   "metadata": {},
   "source": [
    "## Общий вывод"
   ]
  },
  {
   "cell_type": "markdown",
   "metadata": {},
   "source": [
    "На этапе **предобработки данных** мы совершили следующие шаги:\n",
    "\n",
    "- переименовали столбцы user_id и est_salary;\n",
    "- выявили пропуски в столбцах age и balance, не зависящие от переменных. Поэтому было принято решение не заполнять и не удалять их;\n",
    "- выявили 73 строки-дубликатов без совпадений между парами дубликатов;\n",
    "- изменили значение-аномалию у клиента с количеством продуктов, равным нулю, на единицу;\n",
    "- провели one-hot кодирование переменных по столбцам gender и city.\n",
    "\n",
    "Во время **исследовательского анализа** мы наблюдали явное превышение оттока среди клиентов, попадающих в следующие категории:\n",
    "\n",
    "- Гендер: мужчины;\n",
    "- Кредитная карта: не имеется;\n",
    "- Баллы кредитного скоринга: от 820 до 940 баллов;\n",
    "- Баланс на счете: свыше 750 тыс. руб.;\n",
    "- Доход клиента: от 90 тыс. руб.;\n",
    "- Баллы собственности: 6-9;\n",
    "- Возраст: от 25 до 45 лет и от 50 до 60 лет.\n",
    "\n",
    "**Корреляционный анализ** показал, что активность клиента, мужской гендер, количество продуктов, баллов собственности и баллов скоринга имеют влияние на отточность клиентов, по сравнению с другими признаками. Ранее мы определили границу наличия признаков влияния в >10.\n",
    "\n",
    "Перед **проверкой статистических гипотез** мы создали 2 датасета: с отточными клиентами и оставшимися. \n",
    "\n",
    "Первую гипотезу о равенстве дохода отточных клиентов и оставшихся не получилось отвергнуть. Средние значения по доходу у отточных и оставшихся клиентов равны 148 тыс. руб. и 147 тыс. руб., соответственно.\n",
    "\n",
    "Вторая гипотеза о равенстве количества баллов скоринга отточных клиентов и оставшихся была отвергнута. У отточных клиентов больше баллов кредитного скоринга чем у оставшихся на 18 единиц.\n",
    "\n",
    "На этапе **сегментации клиентов** мы создали 3 сегмента: \n",
    "\n",
    "- Сегмент 1 (Лояльные клиенты) (уровень оттока в сегменте: 32.36%);\n",
    "- Сегмент 2 (Молодые семьи) (уровень оттока в сегменте: 17.11%);\n",
    "- Сегмент 3 (Состоятельные клиенты) (уровень оттока в сегменте: 45.62%).\n",
    "\n",
    "Анализируя полученные уровня оттока сегментов, было решено **приоритизировать созданные сегменты** в следующем порядке:\n",
    "\n",
    "- Сегмент 3 (Состоятельные клиенты);\n",
    "- Сегмент 1 (Лояльные клиенты);\n",
    "- Сегмент 2 (Молодые семьи).\n",
    "\n",
    "Конечным шагом проекта было **формирование рекомендаций по работе с сегментами**.\n",
    "\n",
    "Для Сегмента 3 (Состоятельные клиенты) рекомендовано создание отдельной услуги наподобие Bank Private, куда будут входить:\n",
    "- личная помощь индивидуального менеджера по банковским услугам;\n",
    "- индивидуальные ставки по депозитам и персональные условия по кредитам;\n",
    "- доступ к личным сейфовым ячейкам и покупка драгоценных металлов;\n",
    "- праймовый пакет услуг с эксклюзивными сервисами и преимуществами.\n",
    "\n",
    "Для Сегмента 2 (Лояльные клиенты) рекомендовано проводить процессы оптимизации продуктов и самого мобильного приложения. Для этого стоит предпринять следующие шаги:\n",
    "- проанализировать техническим специалистам внутренную работу приложения;\n",
    "- собрать с клиентов обратную связь об их удовлетворенности работой продуктов и приложения;\n",
    "- исправить ошибки и доработать недочеты;\n",
    "- регулярно повторять эти действия для предотвращения преждевременного оттока клиентов.\n",
    "\n",
    "Для Сегмента 1 (Молодые семьи) рекомендовано открытие отдельной услуги, направленной на поддержку клиентов, впервые столкнувшимися с кредитными продуктами. В эту услугу могут входить:\n",
    "\n",
    "- финансовые консультации менеджеров, ответственных за кредитование;\n",
    "- возможность планирования выплат по кредитам на удобных для клиента условиях;\n",
    "- создание специальной программы для тех семей, которые собираются погашать ипотеки и кредиты досрочно, с возможностью снижения - процента или накопление бонусов."
   ]
  }
 ],
 "metadata": {
  "ExecuteTimeLog": [
   {
    "duration": 1340,
    "start_time": "2024-08-14T16:07:49.948Z"
   },
   {
    "duration": 147,
    "start_time": "2024-08-14T16:08:24.750Z"
   },
   {
    "duration": 53,
    "start_time": "2024-08-14T16:09:07.383Z"
   },
   {
    "duration": 80,
    "start_time": "2024-08-14T16:09:14.034Z"
   },
   {
    "duration": 60,
    "start_time": "2024-08-14T16:09:22.732Z"
   },
   {
    "duration": 64,
    "start_time": "2024-08-14T16:09:32.767Z"
   },
   {
    "duration": 170,
    "start_time": "2024-08-14T16:11:10.338Z"
   },
   {
    "duration": 17,
    "start_time": "2024-08-14T16:11:12.636Z"
   },
   {
    "duration": 17,
    "start_time": "2024-08-14T16:42:00.340Z"
   },
   {
    "duration": 4,
    "start_time": "2024-08-14T16:46:59.920Z"
   },
   {
    "duration": 12,
    "start_time": "2024-08-14T16:47:19.802Z"
   },
   {
    "duration": 11,
    "start_time": "2024-08-14T17:02:00.680Z"
   },
   {
    "duration": 7,
    "start_time": "2024-08-14T17:06:58.445Z"
   },
   {
    "duration": 6,
    "start_time": "2024-08-14T17:13:49.809Z"
   },
   {
    "duration": 3,
    "start_time": "2024-08-14T17:14:39.650Z"
   },
   {
    "duration": 8,
    "start_time": "2024-08-14T17:14:40.674Z"
   },
   {
    "duration": 5,
    "start_time": "2024-08-14T17:18:23.749Z"
   },
   {
    "duration": 12,
    "start_time": "2024-08-14T17:18:34.493Z"
   },
   {
    "duration": 5,
    "start_time": "2024-08-14T17:19:00.541Z"
   },
   {
    "duration": 5,
    "start_time": "2024-08-14T17:20:26.525Z"
   },
   {
    "duration": 6,
    "start_time": "2024-08-14T17:22:21.780Z"
   },
   {
    "duration": 6,
    "start_time": "2024-08-14T17:23:08.998Z"
   },
   {
    "duration": 5,
    "start_time": "2024-08-14T17:24:47.722Z"
   },
   {
    "duration": 108,
    "start_time": "2024-08-14T17:25:13.700Z"
   },
   {
    "duration": 122,
    "start_time": "2024-08-14T17:25:34.649Z"
   },
   {
    "duration": 252,
    "start_time": "2024-08-14T17:26:26.777Z"
   },
   {
    "duration": 193,
    "start_time": "2024-08-14T17:28:02.003Z"
   },
   {
    "duration": 15,
    "start_time": "2024-08-14T17:43:25.824Z"
   },
   {
    "duration": 12,
    "start_time": "2024-08-14T17:43:42.376Z"
   },
   {
    "duration": 16,
    "start_time": "2024-08-14T17:47:12.161Z"
   },
   {
    "duration": 6,
    "start_time": "2024-08-14T17:48:20.943Z"
   },
   {
    "duration": 4,
    "start_time": "2024-08-14T17:54:11.062Z"
   },
   {
    "duration": 36,
    "start_time": "2024-08-14T17:54:21.269Z"
   },
   {
    "duration": 35,
    "start_time": "2024-08-14T17:57:19.000Z"
   },
   {
    "duration": 35,
    "start_time": "2024-08-14T17:57:58.496Z"
   },
   {
    "duration": 12,
    "start_time": "2024-08-14T17:58:25.676Z"
   },
   {
    "duration": 9,
    "start_time": "2024-08-14T17:58:44.611Z"
   },
   {
    "duration": 34,
    "start_time": "2024-08-14T17:58:54.992Z"
   },
   {
    "duration": 14,
    "start_time": "2024-08-14T18:32:16.992Z"
   },
   {
    "duration": 13,
    "start_time": "2024-08-14T18:34:27.522Z"
   },
   {
    "duration": 5,
    "start_time": "2024-08-14T18:39:22.794Z"
   },
   {
    "duration": 1168,
    "start_time": "2024-08-14T18:39:33.716Z"
   },
   {
    "duration": 44,
    "start_time": "2024-08-14T18:39:34.886Z"
   },
   {
    "duration": 17,
    "start_time": "2024-08-14T18:39:34.932Z"
   },
   {
    "duration": 23,
    "start_time": "2024-08-14T18:39:34.951Z"
   },
   {
    "duration": 12,
    "start_time": "2024-08-14T18:39:34.976Z"
   },
   {
    "duration": 7,
    "start_time": "2024-08-14T18:39:34.989Z"
   },
   {
    "duration": 3,
    "start_time": "2024-08-14T18:39:34.997Z"
   },
   {
    "duration": 12,
    "start_time": "2024-08-14T18:39:35.002Z"
   },
   {
    "duration": 25,
    "start_time": "2024-08-14T18:39:35.015Z"
   },
   {
    "duration": 11,
    "start_time": "2024-08-14T18:39:35.043Z"
   },
   {
    "duration": 6,
    "start_time": "2024-08-14T18:39:35.056Z"
   },
   {
    "duration": 38,
    "start_time": "2024-08-14T18:39:35.063Z"
   },
   {
    "duration": 15,
    "start_time": "2024-08-14T18:39:35.103Z"
   },
   {
    "duration": 33,
    "start_time": "2024-08-14T18:39:35.121Z"
   },
   {
    "duration": 242,
    "start_time": "2024-08-14T18:43:51.808Z"
   },
   {
    "duration": 203,
    "start_time": "2024-08-14T18:44:04.354Z"
   },
   {
    "duration": 1324,
    "start_time": "2024-08-15T16:25:08.724Z"
   },
   {
    "duration": 101,
    "start_time": "2024-08-15T16:25:10.050Z"
   },
   {
    "duration": 17,
    "start_time": "2024-08-15T16:25:10.152Z"
   },
   {
    "duration": 13,
    "start_time": "2024-08-15T16:25:10.170Z"
   },
   {
    "duration": 3,
    "start_time": "2024-08-15T16:25:10.185Z"
   },
   {
    "duration": 18,
    "start_time": "2024-08-15T16:25:10.190Z"
   },
   {
    "duration": 3,
    "start_time": "2024-08-15T16:25:10.212Z"
   },
   {
    "duration": 6,
    "start_time": "2024-08-15T16:25:10.216Z"
   },
   {
    "duration": 247,
    "start_time": "2024-08-15T16:25:10.224Z"
   },
   {
    "duration": 10,
    "start_time": "2024-08-15T16:25:10.473Z"
   },
   {
    "duration": 5,
    "start_time": "2024-08-15T16:25:10.484Z"
   },
   {
    "duration": 39,
    "start_time": "2024-08-15T16:25:10.490Z"
   },
   {
    "duration": 12,
    "start_time": "2024-08-15T16:25:10.531Z"
   },
   {
    "duration": 11,
    "start_time": "2024-08-15T16:25:10.545Z"
   },
   {
    "duration": 39,
    "start_time": "2024-08-15T16:26:56.346Z"
   },
   {
    "duration": 5,
    "start_time": "2024-08-15T16:43:01.058Z"
   },
   {
    "duration": 5,
    "start_time": "2024-08-15T16:43:32.372Z"
   },
   {
    "duration": 5,
    "start_time": "2024-08-15T16:53:48.994Z"
   },
   {
    "duration": 5,
    "start_time": "2024-08-15T16:54:08.909Z"
   },
   {
    "duration": 4,
    "start_time": "2024-08-15T16:54:27.549Z"
   },
   {
    "duration": 4,
    "start_time": "2024-08-15T16:56:10.551Z"
   },
   {
    "duration": 4,
    "start_time": "2024-08-15T16:56:40.970Z"
   },
   {
    "duration": 4,
    "start_time": "2024-08-15T16:57:18.705Z"
   },
   {
    "duration": 4,
    "start_time": "2024-08-15T16:59:16.791Z"
   },
   {
    "duration": 1140,
    "start_time": "2024-08-15T16:59:46.409Z"
   },
   {
    "duration": 43,
    "start_time": "2024-08-15T16:59:47.551Z"
   },
   {
    "duration": 15,
    "start_time": "2024-08-15T16:59:47.596Z"
   },
   {
    "duration": 38,
    "start_time": "2024-08-15T16:59:47.613Z"
   },
   {
    "duration": 11,
    "start_time": "2024-08-15T16:59:47.652Z"
   },
   {
    "duration": 20,
    "start_time": "2024-08-15T16:59:47.665Z"
   },
   {
    "duration": 27,
    "start_time": "2024-08-15T16:59:47.687Z"
   },
   {
    "duration": 22,
    "start_time": "2024-08-15T16:59:47.716Z"
   },
   {
    "duration": 23,
    "start_time": "2024-08-15T16:59:47.739Z"
   },
   {
    "duration": 23,
    "start_time": "2024-08-15T16:59:47.764Z"
   },
   {
    "duration": 26,
    "start_time": "2024-08-15T16:59:47.789Z"
   },
   {
    "duration": 21,
    "start_time": "2024-08-15T16:59:47.817Z"
   },
   {
    "duration": 77,
    "start_time": "2024-08-15T16:59:47.840Z"
   },
   {
    "duration": 68,
    "start_time": "2024-08-15T16:59:47.919Z"
   },
   {
    "duration": 13,
    "start_time": "2024-08-15T16:59:47.989Z"
   },
   {
    "duration": 23,
    "start_time": "2024-08-15T16:59:48.004Z"
   },
   {
    "duration": 12,
    "start_time": "2024-08-15T17:44:58.740Z"
   },
   {
    "duration": 118,
    "start_time": "2024-08-15T18:03:08.623Z"
   },
   {
    "duration": 1113,
    "start_time": "2024-08-15T18:03:33.799Z"
   },
   {
    "duration": 44,
    "start_time": "2024-08-15T18:03:34.914Z"
   },
   {
    "duration": 16,
    "start_time": "2024-08-15T18:03:34.959Z"
   },
   {
    "duration": 12,
    "start_time": "2024-08-15T18:03:34.977Z"
   },
   {
    "duration": 4,
    "start_time": "2024-08-15T18:03:34.991Z"
   },
   {
    "duration": 21,
    "start_time": "2024-08-15T18:03:34.997Z"
   },
   {
    "duration": 55,
    "start_time": "2024-08-15T18:03:35.020Z"
   },
   {
    "duration": 24,
    "start_time": "2024-08-15T18:03:35.076Z"
   },
   {
    "duration": 18,
    "start_time": "2024-08-15T18:03:35.102Z"
   },
   {
    "duration": 8,
    "start_time": "2024-08-15T18:03:35.123Z"
   },
   {
    "duration": 114,
    "start_time": "2024-08-15T18:03:35.132Z"
   },
   {
    "duration": 0,
    "start_time": "2024-08-15T18:03:35.249Z"
   },
   {
    "duration": 0,
    "start_time": "2024-08-15T18:03:35.250Z"
   },
   {
    "duration": 0,
    "start_time": "2024-08-15T18:03:35.252Z"
   },
   {
    "duration": 0,
    "start_time": "2024-08-15T18:03:35.253Z"
   },
   {
    "duration": 0,
    "start_time": "2024-08-15T18:03:35.254Z"
   },
   {
    "duration": 717,
    "start_time": "2024-08-15T18:04:09.786Z"
   },
   {
    "duration": 8,
    "start_time": "2024-08-15T18:08:39.487Z"
   },
   {
    "duration": 8,
    "start_time": "2024-08-15T18:08:43.546Z"
   },
   {
    "duration": 670,
    "start_time": "2024-08-15T18:08:47.881Z"
   },
   {
    "duration": 1351,
    "start_time": "2024-08-15T18:08:54.826Z"
   },
   {
    "duration": 539,
    "start_time": "2024-08-15T18:10:05.790Z"
   },
   {
    "duration": 1150,
    "start_time": "2024-08-15T18:20:47.139Z"
   },
   {
    "duration": 44,
    "start_time": "2024-08-15T18:20:48.291Z"
   },
   {
    "duration": 17,
    "start_time": "2024-08-15T18:20:48.336Z"
   },
   {
    "duration": 19,
    "start_time": "2024-08-15T18:20:48.354Z"
   },
   {
    "duration": 17,
    "start_time": "2024-08-15T18:20:48.374Z"
   },
   {
    "duration": 8,
    "start_time": "2024-08-15T18:20:48.392Z"
   },
   {
    "duration": 10,
    "start_time": "2024-08-15T18:20:48.402Z"
   },
   {
    "duration": 3,
    "start_time": "2024-08-15T18:20:48.414Z"
   },
   {
    "duration": 7,
    "start_time": "2024-08-15T18:20:48.419Z"
   },
   {
    "duration": 6,
    "start_time": "2024-08-15T18:20:48.428Z"
   },
   {
    "duration": 684,
    "start_time": "2024-08-15T18:20:48.436Z"
   },
   {
    "duration": 556,
    "start_time": "2024-08-15T18:20:49.122Z"
   },
   {
    "duration": 10,
    "start_time": "2024-08-15T18:20:49.679Z"
   },
   {
    "duration": 21,
    "start_time": "2024-08-15T18:20:49.690Z"
   },
   {
    "duration": 36,
    "start_time": "2024-08-15T18:20:49.712Z"
   },
   {
    "duration": 11,
    "start_time": "2024-08-15T18:20:49.750Z"
   },
   {
    "duration": 11,
    "start_time": "2024-08-15T18:20:49.762Z"
   },
   {
    "duration": 78,
    "start_time": "2024-08-15T18:21:24.525Z"
   },
   {
    "duration": 55,
    "start_time": "2024-08-15T18:21:36.821Z"
   },
   {
    "duration": 9,
    "start_time": "2024-08-15T18:45:00.625Z"
   },
   {
    "duration": 2840,
    "start_time": "2024-08-15T18:45:12.138Z"
   },
   {
    "duration": 16,
    "start_time": "2024-08-15T18:52:06.760Z"
   },
   {
    "duration": 1325,
    "start_time": "2024-08-17T10:26:58.108Z"
   },
   {
    "duration": 161,
    "start_time": "2024-08-17T10:26:59.435Z"
   },
   {
    "duration": 16,
    "start_time": "2024-08-17T10:26:59.598Z"
   },
   {
    "duration": 13,
    "start_time": "2024-08-17T10:26:59.615Z"
   },
   {
    "duration": 4,
    "start_time": "2024-08-17T10:26:59.630Z"
   },
   {
    "duration": 16,
    "start_time": "2024-08-17T10:26:59.636Z"
   },
   {
    "duration": 6,
    "start_time": "2024-08-17T10:26:59.654Z"
   },
   {
    "duration": 3,
    "start_time": "2024-08-17T10:26:59.661Z"
   },
   {
    "duration": 9,
    "start_time": "2024-08-17T10:26:59.665Z"
   },
   {
    "duration": 4,
    "start_time": "2024-08-17T10:26:59.676Z"
   },
   {
    "duration": 679,
    "start_time": "2024-08-17T10:26:59.682Z"
   },
   {
    "duration": 575,
    "start_time": "2024-08-17T10:27:00.363Z"
   },
   {
    "duration": 14,
    "start_time": "2024-08-17T10:27:00.940Z"
   },
   {
    "duration": 6,
    "start_time": "2024-08-17T10:27:00.957Z"
   },
   {
    "duration": 86,
    "start_time": "2024-08-17T10:27:00.965Z"
   },
   {
    "duration": 17,
    "start_time": "2024-08-17T10:27:01.053Z"
   },
   {
    "duration": 13,
    "start_time": "2024-08-17T10:27:01.072Z"
   },
   {
    "duration": 20,
    "start_time": "2024-08-17T10:27:01.086Z"
   },
   {
    "duration": 337,
    "start_time": "2024-08-17T10:43:19.820Z"
   },
   {
    "duration": 13,
    "start_time": "2024-08-17T10:46:15.541Z"
   },
   {
    "duration": 240,
    "start_time": "2024-08-17T10:47:31.950Z"
   },
   {
    "duration": 256,
    "start_time": "2024-08-17T10:47:43.959Z"
   },
   {
    "duration": 89,
    "start_time": "2024-08-17T10:52:18.416Z"
   },
   {
    "duration": 405,
    "start_time": "2024-08-17T10:53:32.612Z"
   },
   {
    "duration": 562,
    "start_time": "2024-08-17T10:54:08.980Z"
   },
   {
    "duration": 195,
    "start_time": "2024-08-17T11:07:27.452Z"
   },
   {
    "duration": 89,
    "start_time": "2024-08-17T11:07:34.301Z"
   },
   {
    "duration": 118,
    "start_time": "2024-08-17T11:07:54.609Z"
   },
   {
    "duration": 157,
    "start_time": "2024-08-17T11:08:07.682Z"
   },
   {
    "duration": 250,
    "start_time": "2024-08-17T11:09:51.012Z"
   },
   {
    "duration": 186,
    "start_time": "2024-08-17T12:03:14.233Z"
   },
   {
    "duration": 385,
    "start_time": "2024-08-17T12:04:50.126Z"
   },
   {
    "duration": 10387,
    "start_time": "2024-08-17T12:06:19.451Z"
   },
   {
    "duration": 10211,
    "start_time": "2024-08-17T12:06:52.799Z"
   },
   {
    "duration": 188,
    "start_time": "2024-08-17T12:08:06.344Z"
   },
   {
    "duration": 512,
    "start_time": "2024-08-17T12:12:33.617Z"
   },
   {
    "duration": 11,
    "start_time": "2024-08-17T12:13:04.486Z"
   },
   {
    "duration": 185,
    "start_time": "2024-08-17T12:13:31.170Z"
   },
   {
    "duration": 176,
    "start_time": "2024-08-17T12:13:42.029Z"
   },
   {
    "duration": 4546,
    "start_time": "2024-08-17T12:14:20.233Z"
   },
   {
    "duration": 199,
    "start_time": "2024-08-17T12:14:36.404Z"
   },
   {
    "duration": 158,
    "start_time": "2024-08-17T12:14:45.504Z"
   },
   {
    "duration": 9,
    "start_time": "2024-08-17T12:15:50.345Z"
   },
   {
    "duration": 1223,
    "start_time": "2024-08-17T12:16:54.020Z"
   },
   {
    "duration": 41,
    "start_time": "2024-08-17T12:16:55.245Z"
   },
   {
    "duration": 17,
    "start_time": "2024-08-17T12:16:55.288Z"
   },
   {
    "duration": 13,
    "start_time": "2024-08-17T12:16:55.307Z"
   },
   {
    "duration": 4,
    "start_time": "2024-08-17T12:16:55.321Z"
   },
   {
    "duration": 7,
    "start_time": "2024-08-17T12:16:55.327Z"
   },
   {
    "duration": 16,
    "start_time": "2024-08-17T12:16:55.336Z"
   },
   {
    "duration": 3,
    "start_time": "2024-08-17T12:16:55.354Z"
   },
   {
    "duration": 7,
    "start_time": "2024-08-17T12:16:55.359Z"
   },
   {
    "duration": 6,
    "start_time": "2024-08-17T12:16:55.368Z"
   },
   {
    "duration": 672,
    "start_time": "2024-08-17T12:16:55.376Z"
   },
   {
    "duration": 559,
    "start_time": "2024-08-17T12:16:56.049Z"
   },
   {
    "duration": 11,
    "start_time": "2024-08-17T12:16:56.611Z"
   },
   {
    "duration": 11,
    "start_time": "2024-08-17T12:16:56.623Z"
   },
   {
    "duration": 66,
    "start_time": "2024-08-17T12:16:56.636Z"
   },
   {
    "duration": 17,
    "start_time": "2024-08-17T12:16:56.704Z"
   },
   {
    "duration": 71,
    "start_time": "2024-08-17T12:16:56.723Z"
   },
   {
    "duration": 41,
    "start_time": "2024-08-17T12:16:56.796Z"
   },
   {
    "duration": 439,
    "start_time": "2024-08-17T12:16:56.838Z"
   },
   {
    "duration": 106,
    "start_time": "2024-08-17T12:16:57.278Z"
   },
   {
    "duration": 1304,
    "start_time": "2024-08-17T12:18:47.582Z"
   },
   {
    "duration": 40,
    "start_time": "2024-08-17T12:18:48.888Z"
   },
   {
    "duration": 15,
    "start_time": "2024-08-17T12:18:48.930Z"
   },
   {
    "duration": 14,
    "start_time": "2024-08-17T12:18:48.946Z"
   },
   {
    "duration": 19,
    "start_time": "2024-08-17T12:18:48.963Z"
   },
   {
    "duration": 8,
    "start_time": "2024-08-17T12:18:48.984Z"
   },
   {
    "duration": 6,
    "start_time": "2024-08-17T12:18:48.994Z"
   },
   {
    "duration": 4,
    "start_time": "2024-08-17T12:18:49.001Z"
   },
   {
    "duration": 5,
    "start_time": "2024-08-17T12:18:49.008Z"
   },
   {
    "duration": 34,
    "start_time": "2024-08-17T12:18:49.015Z"
   },
   {
    "duration": 725,
    "start_time": "2024-08-17T12:18:49.052Z"
   },
   {
    "duration": 679,
    "start_time": "2024-08-17T12:18:49.779Z"
   },
   {
    "duration": 10,
    "start_time": "2024-08-17T12:18:50.460Z"
   },
   {
    "duration": 6,
    "start_time": "2024-08-17T12:18:50.472Z"
   },
   {
    "duration": 75,
    "start_time": "2024-08-17T12:18:50.479Z"
   },
   {
    "duration": 19,
    "start_time": "2024-08-17T12:18:50.556Z"
   },
   {
    "duration": 31,
    "start_time": "2024-08-17T12:18:50.577Z"
   },
   {
    "duration": 25,
    "start_time": "2024-08-17T12:18:50.610Z"
   },
   {
    "duration": 470,
    "start_time": "2024-08-17T12:18:50.638Z"
   },
   {
    "duration": 792,
    "start_time": "2024-08-17T12:18:51.111Z"
   },
   {
    "duration": 264,
    "start_time": "2024-08-17T12:19:07.123Z"
   },
   {
    "duration": 168,
    "start_time": "2024-08-17T12:19:15.964Z"
   },
   {
    "duration": 4371,
    "start_time": "2024-08-17T12:24:39.235Z"
   },
   {
    "duration": 24,
    "start_time": "2024-08-17T12:24:55.242Z"
   },
   {
    "duration": 14,
    "start_time": "2024-08-17T12:25:08.130Z"
   },
   {
    "duration": 15,
    "start_time": "2024-08-17T12:25:17.712Z"
   },
   {
    "duration": 4356,
    "start_time": "2024-08-17T12:25:37.595Z"
   },
   {
    "duration": 46,
    "start_time": "2024-08-17T12:27:15.033Z"
   },
   {
    "duration": 5130,
    "start_time": "2024-08-17T12:27:30.939Z"
   },
   {
    "duration": 38,
    "start_time": "2024-08-17T12:27:59.932Z"
   },
   {
    "duration": 5324,
    "start_time": "2024-08-17T12:28:41.397Z"
   },
   {
    "duration": 12,
    "start_time": "2024-08-17T12:30:19.391Z"
   },
   {
    "duration": 397,
    "start_time": "2024-08-17T12:31:18.041Z"
   },
   {
    "duration": 191,
    "start_time": "2024-08-17T12:31:47.095Z"
   },
   {
    "duration": 2409,
    "start_time": "2024-08-17T12:32:04.484Z"
   },
   {
    "duration": 158,
    "start_time": "2024-08-17T12:32:15.979Z"
   },
   {
    "duration": 204,
    "start_time": "2024-08-17T12:32:26.681Z"
   },
   {
    "duration": 168,
    "start_time": "2024-08-17T12:32:35.230Z"
   },
   {
    "duration": 189,
    "start_time": "2024-08-17T12:32:44.098Z"
   },
   {
    "duration": 14,
    "start_time": "2024-08-17T12:33:09.867Z"
   },
   {
    "duration": 184,
    "start_time": "2024-08-17T12:34:17.913Z"
   },
   {
    "duration": 5168,
    "start_time": "2024-08-17T12:34:29.554Z"
   },
   {
    "duration": 5173,
    "start_time": "2024-08-17T12:37:48.417Z"
   },
   {
    "duration": 1843,
    "start_time": "2024-08-17T12:49:22.504Z"
   },
   {
    "duration": 1821,
    "start_time": "2024-08-17T12:50:10.844Z"
   },
   {
    "duration": 5135,
    "start_time": "2024-08-17T12:50:29.137Z"
   },
   {
    "duration": 166,
    "start_time": "2024-08-17T12:53:27.217Z"
   },
   {
    "duration": 149,
    "start_time": "2024-08-17T12:59:46.445Z"
   },
   {
    "duration": 154,
    "start_time": "2024-08-17T13:05:57.802Z"
   },
   {
    "duration": 131,
    "start_time": "2024-08-17T13:07:41.594Z"
   },
   {
    "duration": 144,
    "start_time": "2024-08-17T13:08:01.705Z"
   },
   {
    "duration": 131,
    "start_time": "2024-08-17T13:08:15.421Z"
   },
   {
    "duration": 2407,
    "start_time": "2024-08-17T13:08:38.147Z"
   },
   {
    "duration": 212,
    "start_time": "2024-08-17T13:11:08.078Z"
   },
   {
    "duration": 9,
    "start_time": "2024-08-17T13:17:34.679Z"
   },
   {
    "duration": 177,
    "start_time": "2024-08-17T13:18:33.408Z"
   },
   {
    "duration": 146,
    "start_time": "2024-08-17T13:20:45.529Z"
   },
   {
    "duration": 240,
    "start_time": "2024-08-17T13:21:09.302Z"
   },
   {
    "duration": 211,
    "start_time": "2024-08-17T13:21:44.797Z"
   },
   {
    "duration": 175,
    "start_time": "2024-08-17T13:22:29.248Z"
   },
   {
    "duration": 428,
    "start_time": "2024-08-17T13:23:20.586Z"
   },
   {
    "duration": 129,
    "start_time": "2024-08-17T13:26:03.836Z"
   },
   {
    "duration": 1017,
    "start_time": "2024-08-17T13:27:16.857Z"
   },
   {
    "duration": 1029,
    "start_time": "2024-08-17T13:27:40.630Z"
   },
   {
    "duration": 1026,
    "start_time": "2024-08-17T13:27:52.039Z"
   },
   {
    "duration": 1261,
    "start_time": "2024-08-17T13:28:02.685Z"
   },
   {
    "duration": 12,
    "start_time": "2024-08-17T13:29:08.021Z"
   },
   {
    "duration": 14,
    "start_time": "2024-08-17T13:31:53.142Z"
   },
   {
    "duration": 14,
    "start_time": "2024-08-17T13:32:27.419Z"
   },
   {
    "duration": 1084,
    "start_time": "2024-08-17T13:33:19.774Z"
   },
   {
    "duration": 42,
    "start_time": "2024-08-17T13:33:20.859Z"
   },
   {
    "duration": 18,
    "start_time": "2024-08-17T13:33:20.902Z"
   },
   {
    "duration": 49,
    "start_time": "2024-08-17T13:33:20.922Z"
   },
   {
    "duration": 106,
    "start_time": "2024-08-17T13:33:20.973Z"
   },
   {
    "duration": 0,
    "start_time": "2024-08-17T13:33:21.082Z"
   },
   {
    "duration": 0,
    "start_time": "2024-08-17T13:33:21.083Z"
   },
   {
    "duration": 0,
    "start_time": "2024-08-17T13:33:21.085Z"
   },
   {
    "duration": 0,
    "start_time": "2024-08-17T13:33:21.087Z"
   },
   {
    "duration": 0,
    "start_time": "2024-08-17T13:33:21.088Z"
   },
   {
    "duration": 0,
    "start_time": "2024-08-17T13:33:21.089Z"
   },
   {
    "duration": 0,
    "start_time": "2024-08-17T13:33:21.090Z"
   },
   {
    "duration": 0,
    "start_time": "2024-08-17T13:33:21.091Z"
   },
   {
    "duration": 0,
    "start_time": "2024-08-17T13:33:21.092Z"
   },
   {
    "duration": 0,
    "start_time": "2024-08-17T13:33:21.093Z"
   },
   {
    "duration": 0,
    "start_time": "2024-08-17T13:33:21.094Z"
   },
   {
    "duration": 0,
    "start_time": "2024-08-17T13:33:21.095Z"
   },
   {
    "duration": 0,
    "start_time": "2024-08-17T13:33:21.096Z"
   },
   {
    "duration": 0,
    "start_time": "2024-08-17T13:33:21.097Z"
   },
   {
    "duration": 0,
    "start_time": "2024-08-17T13:33:21.098Z"
   },
   {
    "duration": 0,
    "start_time": "2024-08-17T13:33:21.099Z"
   },
   {
    "duration": 0,
    "start_time": "2024-08-17T13:33:21.100Z"
   },
   {
    "duration": 0,
    "start_time": "2024-08-17T13:33:21.101Z"
   },
   {
    "duration": 0,
    "start_time": "2024-08-17T13:33:21.102Z"
   },
   {
    "duration": 0,
    "start_time": "2024-08-17T13:33:21.103Z"
   },
   {
    "duration": 0,
    "start_time": "2024-08-17T13:33:21.104Z"
   },
   {
    "duration": 14,
    "start_time": "2024-08-17T13:34:36.849Z"
   },
   {
    "duration": 1137,
    "start_time": "2024-08-17T13:36:53.256Z"
   },
   {
    "duration": 40,
    "start_time": "2024-08-17T13:36:54.395Z"
   },
   {
    "duration": 15,
    "start_time": "2024-08-17T13:36:54.437Z"
   },
   {
    "duration": 11,
    "start_time": "2024-08-17T13:36:54.453Z"
   },
   {
    "duration": 3,
    "start_time": "2024-08-17T13:36:54.466Z"
   },
   {
    "duration": 6,
    "start_time": "2024-08-17T13:36:54.470Z"
   },
   {
    "duration": 10,
    "start_time": "2024-08-17T13:36:54.478Z"
   },
   {
    "duration": 4,
    "start_time": "2024-08-17T13:36:54.489Z"
   },
   {
    "duration": 6,
    "start_time": "2024-08-17T13:36:54.496Z"
   },
   {
    "duration": 5,
    "start_time": "2024-08-17T13:36:54.504Z"
   },
   {
    "duration": 720,
    "start_time": "2024-08-17T13:36:54.511Z"
   },
   {
    "duration": 564,
    "start_time": "2024-08-17T13:36:55.233Z"
   },
   {
    "duration": 10,
    "start_time": "2024-08-17T13:36:55.799Z"
   },
   {
    "duration": 5,
    "start_time": "2024-08-17T13:36:55.811Z"
   },
   {
    "duration": 77,
    "start_time": "2024-08-17T13:36:55.817Z"
   },
   {
    "duration": 13,
    "start_time": "2024-08-17T13:36:55.895Z"
   },
   {
    "duration": 31,
    "start_time": "2024-08-17T13:36:55.910Z"
   },
   {
    "duration": 26,
    "start_time": "2024-08-17T13:36:55.947Z"
   },
   {
    "duration": 446,
    "start_time": "2024-08-17T13:36:55.974Z"
   },
   {
    "duration": 213,
    "start_time": "2024-08-17T13:36:56.422Z"
   },
   {
    "duration": 210,
    "start_time": "2024-08-17T13:36:56.646Z"
   },
   {
    "duration": 161,
    "start_time": "2024-08-17T13:36:56.857Z"
   },
   {
    "duration": 135,
    "start_time": "2024-08-17T13:36:57.020Z"
   },
   {
    "duration": 1111,
    "start_time": "2024-08-17T13:36:57.157Z"
   },
   {
    "duration": 13,
    "start_time": "2024-08-17T13:36:58.269Z"
   },
   {
    "duration": 1119,
    "start_time": "2024-08-17T13:37:05.924Z"
   },
   {
    "duration": 1058,
    "start_time": "2024-08-17T13:39:15.538Z"
   },
   {
    "duration": 420,
    "start_time": "2024-08-17T13:39:29.705Z"
   },
   {
    "duration": 165,
    "start_time": "2024-08-17T13:39:53.952Z"
   },
   {
    "duration": 159,
    "start_time": "2024-08-17T13:40:01.989Z"
   },
   {
    "duration": 230,
    "start_time": "2024-08-17T13:40:14.467Z"
   },
   {
    "duration": 329,
    "start_time": "2024-08-17T13:40:28.386Z"
   },
   {
    "duration": 162,
    "start_time": "2024-08-17T13:40:36.778Z"
   },
   {
    "duration": 252,
    "start_time": "2024-08-17T13:40:44.532Z"
   },
   {
    "duration": 147,
    "start_time": "2024-08-17T13:45:03.930Z"
   },
   {
    "duration": 134,
    "start_time": "2024-08-17T13:45:12.509Z"
   },
   {
    "duration": 190,
    "start_time": "2024-08-17T14:03:02.160Z"
   },
   {
    "duration": 2415,
    "start_time": "2024-08-17T14:03:11.144Z"
   },
   {
    "duration": 288,
    "start_time": "2024-08-17T14:03:54.996Z"
   },
   {
    "duration": 5806,
    "start_time": "2024-08-17T14:09:49.674Z"
   },
   {
    "duration": 686,
    "start_time": "2024-08-17T14:10:07.770Z"
   },
   {
    "duration": 239,
    "start_time": "2024-08-17T14:10:31.547Z"
   },
   {
    "duration": 69,
    "start_time": "2024-08-17T15:16:30.709Z"
   },
   {
    "duration": 19,
    "start_time": "2024-08-17T15:16:38.300Z"
   },
   {
    "duration": 18,
    "start_time": "2024-08-17T15:17:00.529Z"
   },
   {
    "duration": 17,
    "start_time": "2024-08-17T15:17:18.927Z"
   },
   {
    "duration": 16,
    "start_time": "2024-08-17T15:17:40.019Z"
   },
   {
    "duration": 14,
    "start_time": "2024-08-17T15:18:39.365Z"
   },
   {
    "duration": 18,
    "start_time": "2024-08-17T15:20:05.288Z"
   },
   {
    "duration": 12,
    "start_time": "2024-08-17T15:20:48.827Z"
   },
   {
    "duration": 276,
    "start_time": "2024-08-17T15:20:54.352Z"
   },
   {
    "duration": 20,
    "start_time": "2024-08-17T15:22:16.254Z"
   },
   {
    "duration": 17,
    "start_time": "2024-08-17T15:22:29.448Z"
   },
   {
    "duration": 414,
    "start_time": "2024-08-17T15:23:07.078Z"
   },
   {
    "duration": 525,
    "start_time": "2024-08-17T15:26:30.963Z"
   },
   {
    "duration": 735,
    "start_time": "2024-08-17T15:37:05.735Z"
   },
   {
    "duration": 323,
    "start_time": "2024-08-17T15:37:32.095Z"
   },
   {
    "duration": 289,
    "start_time": "2024-08-17T15:37:58.473Z"
   },
   {
    "duration": 301,
    "start_time": "2024-08-17T15:38:12.323Z"
   },
   {
    "duration": 301,
    "start_time": "2024-08-17T15:38:51.978Z"
   },
   {
    "duration": 278,
    "start_time": "2024-08-17T15:40:03.901Z"
   },
   {
    "duration": 112,
    "start_time": "2024-08-17T15:40:29.638Z"
   },
   {
    "duration": 285,
    "start_time": "2024-08-17T15:40:38.583Z"
   },
   {
    "duration": 295,
    "start_time": "2024-08-17T15:40:47.126Z"
   },
   {
    "duration": 334,
    "start_time": "2024-08-17T15:40:52.488Z"
   },
   {
    "duration": 7204,
    "start_time": "2024-08-17T15:45:27.313Z"
   },
   {
    "duration": 142,
    "start_time": "2024-08-17T15:46:15.836Z"
   },
   {
    "duration": 7895,
    "start_time": "2024-08-17T15:46:35.166Z"
   },
   {
    "duration": 7598,
    "start_time": "2024-08-17T15:46:47.977Z"
   },
   {
    "duration": 8485,
    "start_time": "2024-08-17T15:47:11.000Z"
   },
   {
    "duration": 7415,
    "start_time": "2024-08-17T15:47:21.458Z"
   },
   {
    "duration": 1024,
    "start_time": "2024-08-17T15:48:40.770Z"
   },
   {
    "duration": 409,
    "start_time": "2024-08-17T15:49:08.969Z"
   },
   {
    "duration": 628,
    "start_time": "2024-08-17T15:49:23.129Z"
   },
   {
    "duration": 18,
    "start_time": "2024-08-17T15:50:35.520Z"
   },
   {
    "duration": 20,
    "start_time": "2024-08-17T15:51:04.758Z"
   },
   {
    "duration": 6,
    "start_time": "2024-08-17T15:52:30.955Z"
   },
   {
    "duration": 4,
    "start_time": "2024-08-17T15:53:03.331Z"
   },
   {
    "duration": 15,
    "start_time": "2024-08-17T15:54:24.867Z"
   },
   {
    "duration": 247,
    "start_time": "2024-08-17T15:56:21.769Z"
   },
   {
    "duration": 15,
    "start_time": "2024-08-17T15:56:28.913Z"
   },
   {
    "duration": 34,
    "start_time": "2024-08-17T15:57:13.618Z"
   },
   {
    "duration": 22,
    "start_time": "2024-08-17T15:57:34.453Z"
   },
   {
    "duration": 162,
    "start_time": "2024-08-17T15:57:42.228Z"
   },
   {
    "duration": 198,
    "start_time": "2024-08-17T15:59:14.121Z"
   },
   {
    "duration": 181,
    "start_time": "2024-08-17T16:00:22.462Z"
   },
   {
    "duration": 182,
    "start_time": "2024-08-17T16:00:29.221Z"
   },
   {
    "duration": 182,
    "start_time": "2024-08-17T16:00:36.538Z"
   },
   {
    "duration": 183,
    "start_time": "2024-08-17T16:00:44.872Z"
   },
   {
    "duration": 190,
    "start_time": "2024-08-17T16:00:55.161Z"
   },
   {
    "duration": 202,
    "start_time": "2024-08-17T16:02:28.103Z"
   },
   {
    "duration": 213,
    "start_time": "2024-08-17T16:02:53.078Z"
   },
   {
    "duration": 1052,
    "start_time": "2024-08-17T16:03:53.109Z"
   },
   {
    "duration": 1072,
    "start_time": "2024-08-17T16:04:08.302Z"
   },
   {
    "duration": 1080,
    "start_time": "2024-08-17T16:04:55.750Z"
   },
   {
    "duration": 1593,
    "start_time": "2024-08-17T16:05:03.294Z"
   },
   {
    "duration": 11,
    "start_time": "2024-08-17T16:05:24.870Z"
   },
   {
    "duration": 1099,
    "start_time": "2024-08-17T16:05:30.315Z"
   },
   {
    "duration": 309,
    "start_time": "2024-08-17T16:06:05.597Z"
   },
   {
    "duration": 306,
    "start_time": "2024-08-17T16:06:17.601Z"
   },
   {
    "duration": 166,
    "start_time": "2024-08-17T16:06:23.619Z"
   },
   {
    "duration": 1176,
    "start_time": "2024-08-17T16:07:03.961Z"
   },
   {
    "duration": 216,
    "start_time": "2024-08-17T16:07:24.373Z"
   },
   {
    "duration": 219,
    "start_time": "2024-08-17T16:07:32.679Z"
   },
   {
    "duration": 657,
    "start_time": "2024-08-17T16:07:59.148Z"
   },
   {
    "duration": 1112,
    "start_time": "2024-08-17T16:08:11.345Z"
   },
   {
    "duration": 41,
    "start_time": "2024-08-17T16:08:12.459Z"
   },
   {
    "duration": 17,
    "start_time": "2024-08-17T16:08:12.502Z"
   },
   {
    "duration": 12,
    "start_time": "2024-08-17T16:08:12.520Z"
   },
   {
    "duration": 4,
    "start_time": "2024-08-17T16:08:12.533Z"
   },
   {
    "duration": 12,
    "start_time": "2024-08-17T16:08:12.538Z"
   },
   {
    "duration": 7,
    "start_time": "2024-08-17T16:08:12.552Z"
   },
   {
    "duration": 2,
    "start_time": "2024-08-17T16:08:12.561Z"
   },
   {
    "duration": 71,
    "start_time": "2024-08-17T16:08:12.565Z"
   },
   {
    "duration": 4,
    "start_time": "2024-08-17T16:08:12.638Z"
   },
   {
    "duration": 666,
    "start_time": "2024-08-17T16:08:12.643Z"
   },
   {
    "duration": 548,
    "start_time": "2024-08-17T16:08:13.311Z"
   },
   {
    "duration": 10,
    "start_time": "2024-08-17T16:08:13.861Z"
   },
   {
    "duration": 7,
    "start_time": "2024-08-17T16:08:13.873Z"
   },
   {
    "duration": 85,
    "start_time": "2024-08-17T16:08:13.882Z"
   },
   {
    "duration": 12,
    "start_time": "2024-08-17T16:08:13.969Z"
   },
   {
    "duration": 15,
    "start_time": "2024-08-17T16:08:13.983Z"
   },
   {
    "duration": 49,
    "start_time": "2024-08-17T16:08:13.999Z"
   },
   {
    "duration": 544,
    "start_time": "2024-08-17T16:08:14.049Z"
   },
   {
    "duration": 368,
    "start_time": "2024-08-17T16:08:14.595Z"
   },
   {
    "duration": 469,
    "start_time": "2024-08-17T16:08:14.964Z"
   },
   {
    "duration": 724,
    "start_time": "2024-08-17T16:08:15.435Z"
   },
   {
    "duration": 254,
    "start_time": "2024-08-17T16:08:16.161Z"
   },
   {
    "duration": 217,
    "start_time": "2024-08-17T16:08:16.417Z"
   },
   {
    "duration": 1276,
    "start_time": "2024-08-17T16:08:16.635Z"
   },
   {
    "duration": 107,
    "start_time": "2024-08-17T17:18:01.237Z"
   },
   {
    "duration": 1531,
    "start_time": "2024-08-17T17:18:21.387Z"
   },
   {
    "duration": 1542,
    "start_time": "2024-08-17T17:18:30.876Z"
   },
   {
    "duration": 8,
    "start_time": "2024-08-17T19:14:04.617Z"
   },
   {
    "duration": 9,
    "start_time": "2024-08-17T19:14:52.012Z"
   },
   {
    "duration": 25,
    "start_time": "2024-08-17T19:15:08.885Z"
   },
   {
    "duration": 533,
    "start_time": "2024-08-17T19:15:27.285Z"
   },
   {
    "duration": 2331,
    "start_time": "2024-08-17T19:15:52.177Z"
   },
   {
    "duration": 20,
    "start_time": "2024-08-17T19:16:57.059Z"
   },
   {
    "duration": 12,
    "start_time": "2024-08-17T19:17:43.709Z"
   },
   {
    "duration": 3,
    "start_time": "2024-08-17T19:17:52.866Z"
   },
   {
    "duration": 10,
    "start_time": "2024-08-17T19:35:17.996Z"
   },
   {
    "duration": 499,
    "start_time": "2024-08-17T19:35:26.190Z"
   },
   {
    "duration": 2399,
    "start_time": "2024-08-17T19:35:30.796Z"
   },
   {
    "duration": 4,
    "start_time": "2024-08-17T19:35:40.107Z"
   },
   {
    "duration": 70,
    "start_time": "2024-08-17T19:35:43.149Z"
   },
   {
    "duration": 9,
    "start_time": "2024-08-17T19:36:15.437Z"
   },
   {
    "duration": 8,
    "start_time": "2024-08-17T19:36:40.031Z"
   },
   {
    "duration": 8,
    "start_time": "2024-08-17T19:42:17.497Z"
   },
   {
    "duration": 6,
    "start_time": "2024-08-17T19:44:21.713Z"
   },
   {
    "duration": 7,
    "start_time": "2024-08-17T19:45:17.305Z"
   },
   {
    "duration": 8,
    "start_time": "2024-08-17T19:45:24.998Z"
   },
   {
    "duration": 7,
    "start_time": "2024-08-17T19:46:08.653Z"
   },
   {
    "duration": 8,
    "start_time": "2024-08-17T19:46:13.528Z"
   },
   {
    "duration": 8,
    "start_time": "2024-08-17T19:46:29.212Z"
   },
   {
    "duration": 1685,
    "start_time": "2024-08-17T20:09:53.951Z"
   },
   {
    "duration": 1556,
    "start_time": "2024-08-17T20:10:03.407Z"
   },
   {
    "duration": 102,
    "start_time": "2024-08-17T20:40:32.474Z"
   },
   {
    "duration": 75,
    "start_time": "2024-08-17T20:40:47.885Z"
   },
   {
    "duration": 82,
    "start_time": "2024-08-17T20:41:26.127Z"
   },
   {
    "duration": 67,
    "start_time": "2024-08-17T20:41:35.018Z"
   },
   {
    "duration": 8,
    "start_time": "2024-08-17T20:41:44.037Z"
   },
   {
    "duration": 8,
    "start_time": "2024-08-17T20:41:50.908Z"
   },
   {
    "duration": 35,
    "start_time": "2024-08-17T20:42:34.127Z"
   },
   {
    "duration": 35,
    "start_time": "2024-08-17T20:42:43.377Z"
   },
   {
    "duration": 8,
    "start_time": "2024-08-17T20:43:13.896Z"
   },
   {
    "duration": 7,
    "start_time": "2024-08-17T20:44:09.352Z"
   },
   {
    "duration": 8,
    "start_time": "2024-08-17T20:45:02.909Z"
   },
   {
    "duration": 33,
    "start_time": "2024-08-17T20:46:20.008Z"
   },
   {
    "duration": 10,
    "start_time": "2024-08-17T20:46:43.943Z"
   },
   {
    "duration": 58,
    "start_time": "2024-08-17T20:47:58.188Z"
   },
   {
    "duration": 75,
    "start_time": "2024-08-17T20:50:54.379Z"
   },
   {
    "duration": 64,
    "start_time": "2024-08-17T20:52:40.145Z"
   },
   {
    "duration": 67,
    "start_time": "2024-08-17T20:52:51.411Z"
   },
   {
    "duration": 4,
    "start_time": "2024-08-17T20:53:21.934Z"
   },
   {
    "duration": 3,
    "start_time": "2024-08-17T20:53:40.774Z"
   },
   {
    "duration": 4,
    "start_time": "2024-08-17T20:53:51.101Z"
   },
   {
    "duration": 16,
    "start_time": "2024-08-17T20:54:31.152Z"
   },
   {
    "duration": 10,
    "start_time": "2024-08-17T20:54:39.304Z"
   },
   {
    "duration": 56,
    "start_time": "2024-08-17T20:55:25.789Z"
   },
   {
    "duration": 10,
    "start_time": "2024-08-17T20:55:30.103Z"
   },
   {
    "duration": 72,
    "start_time": "2024-08-17T20:56:16.221Z"
   },
   {
    "duration": 70,
    "start_time": "2024-08-17T20:56:25.110Z"
   },
   {
    "duration": 706,
    "start_time": "2024-08-17T20:57:34.889Z"
   },
   {
    "duration": 7,
    "start_time": "2024-08-17T20:59:18.929Z"
   },
   {
    "duration": 10,
    "start_time": "2024-08-17T20:59:53.249Z"
   },
   {
    "duration": 66,
    "start_time": "2024-08-17T21:09:49.017Z"
   },
   {
    "duration": 9,
    "start_time": "2024-08-17T21:10:42.396Z"
   },
   {
    "duration": 9,
    "start_time": "2024-08-17T21:13:18.954Z"
   },
   {
    "duration": 9,
    "start_time": "2024-08-17T21:14:03.018Z"
   },
   {
    "duration": 10,
    "start_time": "2024-08-17T21:14:19.124Z"
   },
   {
    "duration": 9,
    "start_time": "2024-08-17T21:14:29.243Z"
   },
   {
    "duration": 10,
    "start_time": "2024-08-17T21:14:39.263Z"
   },
   {
    "duration": 13,
    "start_time": "2024-08-17T21:14:47.063Z"
   },
   {
    "duration": 1518,
    "start_time": "2024-08-18T09:05:27.989Z"
   },
   {
    "duration": 117,
    "start_time": "2024-08-18T09:05:29.511Z"
   },
   {
    "duration": 17,
    "start_time": "2024-08-18T09:05:29.630Z"
   },
   {
    "duration": 14,
    "start_time": "2024-08-18T09:05:29.648Z"
   },
   {
    "duration": 3,
    "start_time": "2024-08-18T09:05:29.665Z"
   },
   {
    "duration": 31,
    "start_time": "2024-08-18T09:05:29.670Z"
   },
   {
    "duration": 9,
    "start_time": "2024-08-18T09:05:29.702Z"
   },
   {
    "duration": 3,
    "start_time": "2024-08-18T09:05:29.713Z"
   },
   {
    "duration": 13,
    "start_time": "2024-08-18T09:05:29.718Z"
   },
   {
    "duration": 10,
    "start_time": "2024-08-18T09:05:29.733Z"
   },
   {
    "duration": 788,
    "start_time": "2024-08-18T09:05:29.744Z"
   },
   {
    "duration": 642,
    "start_time": "2024-08-18T09:05:30.534Z"
   },
   {
    "duration": 23,
    "start_time": "2024-08-18T09:05:31.183Z"
   },
   {
    "duration": 61,
    "start_time": "2024-08-18T09:05:31.209Z"
   },
   {
    "duration": 140,
    "start_time": "2024-08-18T09:05:31.271Z"
   },
   {
    "duration": 16,
    "start_time": "2024-08-18T09:05:31.413Z"
   },
   {
    "duration": 40,
    "start_time": "2024-08-18T09:05:31.431Z"
   },
   {
    "duration": 52,
    "start_time": "2024-08-18T09:05:31.473Z"
   },
   {
    "duration": 596,
    "start_time": "2024-08-18T09:05:31.527Z"
   },
   {
    "duration": 444,
    "start_time": "2024-08-18T09:05:32.124Z"
   },
   {
    "duration": 449,
    "start_time": "2024-08-18T09:05:32.569Z"
   },
   {
    "duration": 779,
    "start_time": "2024-08-18T09:05:33.020Z"
   },
   {
    "duration": 258,
    "start_time": "2024-08-18T09:05:33.801Z"
   },
   {
    "duration": 250,
    "start_time": "2024-08-18T09:05:34.061Z"
   },
   {
    "duration": 1416,
    "start_time": "2024-08-18T09:05:34.313Z"
   },
   {
    "duration": 1788,
    "start_time": "2024-08-18T09:05:35.731Z"
   },
   {
    "duration": 644,
    "start_time": "2024-08-18T09:05:37.521Z"
   },
   {
    "duration": 2871,
    "start_time": "2024-08-18T09:05:38.166Z"
   },
   {
    "duration": 4,
    "start_time": "2024-08-18T09:05:41.039Z"
   },
   {
    "duration": 46,
    "start_time": "2024-08-18T09:05:41.045Z"
   },
   {
    "duration": 11,
    "start_time": "2024-08-18T09:05:41.095Z"
   },
   {
    "duration": 28,
    "start_time": "2024-08-18T09:05:41.108Z"
   },
   {
    "duration": 70,
    "start_time": "2024-08-18T09:05:41.138Z"
   },
   {
    "duration": 15,
    "start_time": "2024-08-18T09:05:41.210Z"
   },
   {
    "duration": 4,
    "start_time": "2024-08-18T09:15:01.437Z"
   },
   {
    "duration": 5,
    "start_time": "2024-08-18T09:15:10.490Z"
   },
   {
    "duration": 1315,
    "start_time": "2024-08-18T10:11:09.154Z"
   },
   {
    "duration": 48,
    "start_time": "2024-08-18T10:11:10.471Z"
   },
   {
    "duration": 20,
    "start_time": "2024-08-18T10:11:10.520Z"
   },
   {
    "duration": 14,
    "start_time": "2024-08-18T10:11:10.543Z"
   },
   {
    "duration": 4,
    "start_time": "2024-08-18T10:11:10.559Z"
   },
   {
    "duration": 9,
    "start_time": "2024-08-18T10:11:10.565Z"
   },
   {
    "duration": 6,
    "start_time": "2024-08-18T10:11:10.584Z"
   },
   {
    "duration": 3,
    "start_time": "2024-08-18T10:11:10.592Z"
   },
   {
    "duration": 8,
    "start_time": "2024-08-18T10:11:10.596Z"
   },
   {
    "duration": 5,
    "start_time": "2024-08-18T10:11:10.608Z"
   },
   {
    "duration": 845,
    "start_time": "2024-08-18T10:11:10.615Z"
   },
   {
    "duration": 612,
    "start_time": "2024-08-18T10:11:11.462Z"
   },
   {
    "duration": 15,
    "start_time": "2024-08-18T10:11:12.075Z"
   },
   {
    "duration": 6,
    "start_time": "2024-08-18T10:11:12.092Z"
   },
   {
    "duration": 98,
    "start_time": "2024-08-18T10:11:12.099Z"
   },
   {
    "duration": 15,
    "start_time": "2024-08-18T10:11:12.198Z"
   },
   {
    "duration": 83,
    "start_time": "2024-08-18T10:11:12.215Z"
   },
   {
    "duration": 28,
    "start_time": "2024-08-18T10:11:12.299Z"
   },
   {
    "duration": 562,
    "start_time": "2024-08-18T10:11:12.329Z"
   },
   {
    "duration": 410,
    "start_time": "2024-08-18T10:11:12.893Z"
   },
   {
    "duration": 438,
    "start_time": "2024-08-18T10:11:13.305Z"
   },
   {
    "duration": 778,
    "start_time": "2024-08-18T10:11:13.745Z"
   },
   {
    "duration": 259,
    "start_time": "2024-08-18T10:11:14.525Z"
   },
   {
    "duration": 242,
    "start_time": "2024-08-18T10:11:14.786Z"
   },
   {
    "duration": 1364,
    "start_time": "2024-08-18T10:11:15.031Z"
   },
   {
    "duration": 1644,
    "start_time": "2024-08-18T10:11:16.397Z"
   },
   {
    "duration": 626,
    "start_time": "2024-08-18T10:11:18.043Z"
   },
   {
    "duration": 2627,
    "start_time": "2024-08-18T10:11:18.672Z"
   },
   {
    "duration": 4,
    "start_time": "2024-08-18T10:11:21.301Z"
   },
   {
    "duration": 88,
    "start_time": "2024-08-18T10:11:21.306Z"
   },
   {
    "duration": 8,
    "start_time": "2024-08-18T10:11:21.396Z"
   },
   {
    "duration": 9,
    "start_time": "2024-08-18T10:11:21.406Z"
   },
   {
    "duration": 16,
    "start_time": "2024-08-18T10:11:21.416Z"
   },
   {
    "duration": 11,
    "start_time": "2024-08-18T10:11:21.484Z"
   },
   {
    "duration": 1316,
    "start_time": "2024-08-18T16:08:40.402Z"
   },
   {
    "duration": 167,
    "start_time": "2024-08-18T16:08:41.720Z"
   },
   {
    "duration": 23,
    "start_time": "2024-08-18T16:08:41.889Z"
   },
   {
    "duration": 18,
    "start_time": "2024-08-18T16:08:41.914Z"
   },
   {
    "duration": 5,
    "start_time": "2024-08-18T16:08:41.934Z"
   },
   {
    "duration": 27,
    "start_time": "2024-08-18T16:08:41.941Z"
   },
   {
    "duration": 4,
    "start_time": "2024-08-18T16:08:41.970Z"
   },
   {
    "duration": 9,
    "start_time": "2024-08-18T16:08:41.976Z"
   },
   {
    "duration": 15,
    "start_time": "2024-08-18T16:08:41.986Z"
   },
   {
    "duration": 5,
    "start_time": "2024-08-18T16:08:42.004Z"
   },
   {
    "duration": 766,
    "start_time": "2024-08-18T16:08:42.010Z"
   },
   {
    "duration": 604,
    "start_time": "2024-08-18T16:08:42.778Z"
   },
   {
    "duration": 10,
    "start_time": "2024-08-18T16:08:43.383Z"
   },
   {
    "duration": 5,
    "start_time": "2024-08-18T16:08:43.395Z"
   },
   {
    "duration": 76,
    "start_time": "2024-08-18T16:08:43.402Z"
   },
   {
    "duration": 14,
    "start_time": "2024-08-18T16:08:43.480Z"
   },
   {
    "duration": 12,
    "start_time": "2024-08-18T16:08:43.496Z"
   },
   {
    "duration": 27,
    "start_time": "2024-08-18T16:08:43.510Z"
   },
   {
    "duration": 586,
    "start_time": "2024-08-18T16:08:43.539Z"
   },
   {
    "duration": 374,
    "start_time": "2024-08-18T16:08:44.126Z"
   },
   {
    "duration": 401,
    "start_time": "2024-08-18T16:08:44.502Z"
   },
   {
    "duration": 736,
    "start_time": "2024-08-18T16:08:44.905Z"
   },
   {
    "duration": 311,
    "start_time": "2024-08-18T16:08:45.642Z"
   },
   {
    "duration": 217,
    "start_time": "2024-08-18T16:08:45.955Z"
   },
   {
    "duration": 1274,
    "start_time": "2024-08-18T16:08:46.174Z"
   },
   {
    "duration": 1642,
    "start_time": "2024-08-18T16:08:47.449Z"
   },
   {
    "duration": 584,
    "start_time": "2024-08-18T16:08:49.093Z"
   },
   {
    "duration": 2615,
    "start_time": "2024-08-18T16:08:49.681Z"
   },
   {
    "duration": 5,
    "start_time": "2024-08-18T16:08:52.298Z"
   },
   {
    "duration": 36,
    "start_time": "2024-08-18T16:08:52.304Z"
   },
   {
    "duration": 33,
    "start_time": "2024-08-18T16:08:52.341Z"
   },
   {
    "duration": 25,
    "start_time": "2024-08-18T16:08:52.376Z"
   },
   {
    "duration": 11,
    "start_time": "2024-08-18T16:08:52.404Z"
   },
   {
    "duration": 12,
    "start_time": "2024-08-18T16:08:52.466Z"
   },
   {
    "duration": 381,
    "start_time": "2024-08-18T16:36:50.168Z"
   },
   {
    "duration": 382,
    "start_time": "2024-08-18T16:37:40.775Z"
   },
   {
    "duration": 597,
    "start_time": "2024-08-18T16:39:12.808Z"
   },
   {
    "duration": 313,
    "start_time": "2024-08-18T16:39:21.957Z"
   },
   {
    "duration": 303,
    "start_time": "2024-08-18T16:39:28.311Z"
   },
   {
    "duration": 321,
    "start_time": "2024-08-18T16:40:38.288Z"
   },
   {
    "duration": 599,
    "start_time": "2024-08-18T16:40:49.493Z"
   },
   {
    "duration": 508,
    "start_time": "2024-08-18T16:40:58.452Z"
   },
   {
    "duration": 624,
    "start_time": "2024-08-18T16:41:08.047Z"
   },
   {
    "duration": 422,
    "start_time": "2024-08-18T16:41:34.502Z"
   },
   {
    "duration": 375,
    "start_time": "2024-08-18T16:41:46.755Z"
   },
   {
    "duration": 403,
    "start_time": "2024-08-18T16:45:17.746Z"
   },
   {
    "duration": 405,
    "start_time": "2024-08-18T16:45:26.223Z"
   },
   {
    "duration": 576,
    "start_time": "2024-08-18T16:45:38.589Z"
   },
   {
    "duration": 693,
    "start_time": "2024-08-18T16:47:35.272Z"
   },
   {
    "duration": 110,
    "start_time": "2024-08-18T16:48:19.839Z"
   },
   {
    "duration": 532,
    "start_time": "2024-08-18T16:48:25.819Z"
   },
   {
    "duration": 11,
    "start_time": "2024-08-18T16:51:44.065Z"
   },
   {
    "duration": 533,
    "start_time": "2024-08-18T16:51:51.798Z"
   },
   {
    "duration": 55,
    "start_time": "2024-08-18T16:53:31.258Z"
   },
   {
    "duration": 264,
    "start_time": "2024-08-18T16:53:44.666Z"
   },
   {
    "duration": 986,
    "start_time": "2024-08-18T16:54:28.303Z"
   },
   {
    "duration": 1191,
    "start_time": "2024-08-18T16:55:08.298Z"
   },
   {
    "duration": 60,
    "start_time": "2024-08-18T16:56:54.974Z"
   },
   {
    "duration": 59,
    "start_time": "2024-08-18T16:57:01.432Z"
   },
   {
    "duration": 636,
    "start_time": "2024-08-18T16:57:22.579Z"
   },
   {
    "duration": 17,
    "start_time": "2024-08-18T17:00:13.862Z"
   },
   {
    "duration": 17,
    "start_time": "2024-08-18T17:00:52.912Z"
   },
   {
    "duration": 19,
    "start_time": "2024-08-18T17:01:13.470Z"
   },
   {
    "duration": 15,
    "start_time": "2024-08-18T17:01:56.694Z"
   },
   {
    "duration": 13,
    "start_time": "2024-08-18T17:02:45.614Z"
   },
   {
    "duration": 85,
    "start_time": "2024-08-18T17:09:16.213Z"
   },
   {
    "duration": 124,
    "start_time": "2024-08-18T17:09:27.769Z"
   },
   {
    "duration": 124,
    "start_time": "2024-08-18T17:09:51.290Z"
   },
   {
    "duration": 23,
    "start_time": "2024-08-18T17:12:09.794Z"
   },
   {
    "duration": 4,
    "start_time": "2024-08-18T17:12:45.152Z"
   },
   {
    "duration": 7,
    "start_time": "2024-08-18T17:14:07.552Z"
   },
   {
    "duration": 7,
    "start_time": "2024-08-18T17:14:38.025Z"
   },
   {
    "duration": 156,
    "start_time": "2024-08-18T17:15:07.619Z"
   },
   {
    "duration": 14,
    "start_time": "2024-08-18T17:16:14.169Z"
   },
   {
    "duration": 1340,
    "start_time": "2024-08-18T17:17:03.780Z"
   },
   {
    "duration": 12,
    "start_time": "2024-08-18T17:17:56.065Z"
   },
   {
    "duration": 11,
    "start_time": "2024-08-18T17:18:08.596Z"
   },
   {
    "duration": 55,
    "start_time": "2024-08-18T17:18:18.747Z"
   },
   {
    "duration": 502,
    "start_time": "2024-08-18T17:21:28.603Z"
   },
   {
    "duration": 498,
    "start_time": "2024-08-18T17:21:52.128Z"
   },
   {
    "duration": 11,
    "start_time": "2024-08-18T17:23:31.437Z"
   },
   {
    "duration": 12,
    "start_time": "2024-08-18T17:23:41.051Z"
   },
   {
    "duration": 17,
    "start_time": "2024-08-18T17:24:08.399Z"
   },
   {
    "duration": 1119,
    "start_time": "2024-08-18T17:24:25.575Z"
   },
   {
    "duration": 1339,
    "start_time": "2024-08-18T17:24:58.197Z"
   },
   {
    "duration": 1366,
    "start_time": "2024-08-18T17:25:10.975Z"
   },
   {
    "duration": 1292,
    "start_time": "2024-08-18T17:25:59.532Z"
   },
   {
    "duration": 1366,
    "start_time": "2024-08-18T17:26:52.650Z"
   },
   {
    "duration": 1345,
    "start_time": "2024-08-19T16:43:59.062Z"
   },
   {
    "duration": 120,
    "start_time": "2024-08-19T16:44:00.409Z"
   },
   {
    "duration": 15,
    "start_time": "2024-08-19T16:44:00.530Z"
   },
   {
    "duration": 44,
    "start_time": "2024-08-19T16:44:00.547Z"
   },
   {
    "duration": 53,
    "start_time": "2024-08-19T16:44:00.593Z"
   },
   {
    "duration": 60,
    "start_time": "2024-08-19T16:44:00.648Z"
   },
   {
    "duration": 50,
    "start_time": "2024-08-19T16:44:00.709Z"
   },
   {
    "duration": 53,
    "start_time": "2024-08-19T16:44:00.760Z"
   },
   {
    "duration": 54,
    "start_time": "2024-08-19T16:44:00.814Z"
   },
   {
    "duration": 35,
    "start_time": "2024-08-19T16:44:00.870Z"
   },
   {
    "duration": 752,
    "start_time": "2024-08-19T16:44:00.907Z"
   },
   {
    "duration": 541,
    "start_time": "2024-08-19T16:44:01.660Z"
   },
   {
    "duration": 9,
    "start_time": "2024-08-19T16:44:02.202Z"
   },
   {
    "duration": 12,
    "start_time": "2024-08-19T16:44:02.212Z"
   },
   {
    "duration": 59,
    "start_time": "2024-08-19T16:44:02.225Z"
   },
   {
    "duration": 11,
    "start_time": "2024-08-19T16:44:02.285Z"
   },
   {
    "duration": 24,
    "start_time": "2024-08-19T16:44:02.298Z"
   },
   {
    "duration": 39,
    "start_time": "2024-08-19T16:44:02.323Z"
   },
   {
    "duration": 1335,
    "start_time": "2024-08-19T16:44:02.363Z"
   },
   {
    "duration": 349,
    "start_time": "2024-08-19T16:44:03.700Z"
   },
   {
    "duration": 464,
    "start_time": "2024-08-19T16:44:04.050Z"
   },
   {
    "duration": 696,
    "start_time": "2024-08-19T16:44:04.516Z"
   },
   {
    "duration": 216,
    "start_time": "2024-08-19T16:44:05.214Z"
   },
   {
    "duration": 198,
    "start_time": "2024-08-19T16:44:05.432Z"
   },
   {
    "duration": 416,
    "start_time": "2024-08-19T16:44:05.631Z"
   },
   {
    "duration": 1446,
    "start_time": "2024-08-19T16:44:06.049Z"
   },
   {
    "duration": 508,
    "start_time": "2024-08-19T16:44:07.497Z"
   },
   {
    "duration": 2310,
    "start_time": "2024-08-19T16:44:08.008Z"
   },
   {
    "duration": 3,
    "start_time": "2024-08-19T16:44:10.320Z"
   },
   {
    "duration": 19,
    "start_time": "2024-08-19T16:44:10.324Z"
   },
   {
    "duration": 37,
    "start_time": "2024-08-19T16:44:10.344Z"
   },
   {
    "duration": 9,
    "start_time": "2024-08-19T16:44:10.383Z"
   },
   {
    "duration": 30,
    "start_time": "2024-08-19T16:44:10.393Z"
   },
   {
    "duration": 16,
    "start_time": "2024-08-19T16:44:10.425Z"
   },
   {
    "duration": 12,
    "start_time": "2024-08-19T16:45:17.458Z"
   },
   {
    "duration": 13,
    "start_time": "2024-08-19T16:48:36.327Z"
   },
   {
    "duration": 1116,
    "start_time": "2024-08-19T16:54:07.924Z"
   },
   {
    "duration": 2797,
    "start_time": "2024-08-19T16:56:17.876Z"
   },
   {
    "duration": 12,
    "start_time": "2024-08-19T16:56:44.519Z"
   },
   {
    "duration": 4,
    "start_time": "2024-08-19T16:58:00.996Z"
   },
   {
    "duration": 14,
    "start_time": "2024-08-19T16:58:07.525Z"
   },
   {
    "duration": 1119,
    "start_time": "2024-08-19T16:58:35.951Z"
   },
   {
    "duration": 46,
    "start_time": "2024-08-19T16:58:37.071Z"
   },
   {
    "duration": 15,
    "start_time": "2024-08-19T16:58:37.118Z"
   },
   {
    "duration": 11,
    "start_time": "2024-08-19T16:58:37.135Z"
   },
   {
    "duration": 3,
    "start_time": "2024-08-19T16:58:37.147Z"
   },
   {
    "duration": 14,
    "start_time": "2024-08-19T16:58:37.151Z"
   },
   {
    "duration": 4,
    "start_time": "2024-08-19T16:58:37.166Z"
   },
   {
    "duration": 10,
    "start_time": "2024-08-19T16:58:37.172Z"
   },
   {
    "duration": 6,
    "start_time": "2024-08-19T16:58:37.184Z"
   },
   {
    "duration": 10,
    "start_time": "2024-08-19T16:58:37.193Z"
   },
   {
    "duration": 650,
    "start_time": "2024-08-19T16:58:37.204Z"
   },
   {
    "duration": 511,
    "start_time": "2024-08-19T16:58:37.856Z"
   },
   {
    "duration": 18,
    "start_time": "2024-08-19T16:58:38.369Z"
   },
   {
    "duration": 4,
    "start_time": "2024-08-19T16:58:38.389Z"
   },
   {
    "duration": 51,
    "start_time": "2024-08-19T16:58:38.394Z"
   },
   {
    "duration": 10,
    "start_time": "2024-08-19T16:58:38.446Z"
   },
   {
    "duration": 31,
    "start_time": "2024-08-19T16:58:38.457Z"
   },
   {
    "duration": 26,
    "start_time": "2024-08-19T16:58:38.490Z"
   },
   {
    "duration": 8,
    "start_time": "2024-08-19T16:58:38.518Z"
   },
   {
    "duration": 26,
    "start_time": "2024-08-19T16:58:38.527Z"
   },
   {
    "duration": 17,
    "start_time": "2024-08-19T16:58:38.555Z"
   },
   {
    "duration": 1235,
    "start_time": "2024-08-19T16:58:38.573Z"
   },
   {
    "duration": 361,
    "start_time": "2024-08-19T16:58:39.810Z"
   },
   {
    "duration": 428,
    "start_time": "2024-08-19T16:58:40.173Z"
   },
   {
    "duration": 645,
    "start_time": "2024-08-19T16:58:40.602Z"
   },
   {
    "duration": 218,
    "start_time": "2024-08-19T16:58:41.249Z"
   },
   {
    "duration": 206,
    "start_time": "2024-08-19T16:58:41.468Z"
   },
   {
    "duration": 483,
    "start_time": "2024-08-19T16:58:41.676Z"
   },
   {
    "duration": 25,
    "start_time": "2024-08-19T16:58:42.161Z"
   },
   {
    "duration": 1497,
    "start_time": "2024-08-19T16:58:42.188Z"
   },
   {
    "duration": 532,
    "start_time": "2024-08-19T16:58:43.687Z"
   },
   {
    "duration": 2362,
    "start_time": "2024-08-19T16:58:44.220Z"
   },
   {
    "duration": 3,
    "start_time": "2024-08-19T16:58:46.584Z"
   },
   {
    "duration": 7,
    "start_time": "2024-08-19T16:58:46.588Z"
   },
   {
    "duration": 19,
    "start_time": "2024-08-19T16:58:46.597Z"
   },
   {
    "duration": 10,
    "start_time": "2024-08-19T16:58:46.617Z"
   },
   {
    "duration": 55,
    "start_time": "2024-08-19T16:58:46.628Z"
   },
   {
    "duration": 9,
    "start_time": "2024-08-19T16:58:46.684Z"
   },
   {
    "duration": 4,
    "start_time": "2024-08-19T16:59:04.021Z"
   },
   {
    "duration": 13,
    "start_time": "2024-08-19T16:59:06.024Z"
   },
   {
    "duration": 92,
    "start_time": "2024-08-19T16:59:15.814Z"
   },
   {
    "duration": 7,
    "start_time": "2024-08-19T16:59:36.889Z"
   },
   {
    "duration": 1083,
    "start_time": "2024-08-19T16:59:45.998Z"
   },
   {
    "duration": 45,
    "start_time": "2024-08-19T16:59:47.083Z"
   },
   {
    "duration": 15,
    "start_time": "2024-08-19T16:59:47.129Z"
   },
   {
    "duration": 15,
    "start_time": "2024-08-19T16:59:47.146Z"
   },
   {
    "duration": 3,
    "start_time": "2024-08-19T16:59:47.163Z"
   },
   {
    "duration": 7,
    "start_time": "2024-08-19T16:59:47.167Z"
   },
   {
    "duration": 20,
    "start_time": "2024-08-19T16:59:47.176Z"
   },
   {
    "duration": 3,
    "start_time": "2024-08-19T16:59:47.197Z"
   },
   {
    "duration": 6,
    "start_time": "2024-08-19T16:59:47.201Z"
   },
   {
    "duration": 5,
    "start_time": "2024-08-19T16:59:47.209Z"
   },
   {
    "duration": 651,
    "start_time": "2024-08-19T16:59:47.215Z"
   },
   {
    "duration": 525,
    "start_time": "2024-08-19T16:59:47.868Z"
   },
   {
    "duration": 8,
    "start_time": "2024-08-19T16:59:48.394Z"
   },
   {
    "duration": 23,
    "start_time": "2024-08-19T16:59:48.404Z"
   },
   {
    "duration": 50,
    "start_time": "2024-08-19T16:59:48.428Z"
   },
   {
    "duration": 12,
    "start_time": "2024-08-19T16:59:48.479Z"
   },
   {
    "duration": 21,
    "start_time": "2024-08-19T16:59:48.492Z"
   },
   {
    "duration": 21,
    "start_time": "2024-08-19T16:59:48.514Z"
   },
   {
    "duration": 2,
    "start_time": "2024-08-19T16:59:48.537Z"
   },
   {
    "duration": 10,
    "start_time": "2024-08-19T16:59:48.541Z"
   },
   {
    "duration": 20,
    "start_time": "2024-08-19T16:59:48.552Z"
   },
   {
    "duration": 1242,
    "start_time": "2024-08-19T16:59:48.573Z"
   },
   {
    "duration": 356,
    "start_time": "2024-08-19T16:59:49.817Z"
   },
   {
    "duration": 399,
    "start_time": "2024-08-19T16:59:50.174Z"
   },
   {
    "duration": 634,
    "start_time": "2024-08-19T16:59:50.574Z"
   },
   {
    "duration": 214,
    "start_time": "2024-08-19T16:59:51.210Z"
   },
   {
    "duration": 198,
    "start_time": "2024-08-19T16:59:51.425Z"
   },
   {
    "duration": 415,
    "start_time": "2024-08-19T16:59:51.626Z"
   },
   {
    "duration": 11,
    "start_time": "2024-08-19T16:59:52.043Z"
   },
   {
    "duration": 1470,
    "start_time": "2024-08-19T16:59:52.056Z"
   },
   {
    "duration": 502,
    "start_time": "2024-08-19T16:59:53.528Z"
   },
   {
    "duration": 2264,
    "start_time": "2024-08-19T16:59:54.031Z"
   },
   {
    "duration": 3,
    "start_time": "2024-08-19T16:59:56.297Z"
   },
   {
    "duration": 29,
    "start_time": "2024-08-19T16:59:56.301Z"
   },
   {
    "duration": 15,
    "start_time": "2024-08-19T16:59:56.332Z"
   },
   {
    "duration": 40,
    "start_time": "2024-08-19T16:59:56.349Z"
   },
   {
    "duration": 17,
    "start_time": "2024-08-19T16:59:56.390Z"
   },
   {
    "duration": 16,
    "start_time": "2024-08-19T16:59:56.408Z"
   },
   {
    "duration": 1072,
    "start_time": "2024-08-19T17:10:04.106Z"
   },
   {
    "duration": 45,
    "start_time": "2024-08-19T17:10:05.181Z"
   },
   {
    "duration": 14,
    "start_time": "2024-08-19T17:10:05.228Z"
   },
   {
    "duration": 11,
    "start_time": "2024-08-19T17:10:05.243Z"
   },
   {
    "duration": 5,
    "start_time": "2024-08-19T17:10:05.255Z"
   },
   {
    "duration": 7,
    "start_time": "2024-08-19T17:10:05.262Z"
   },
   {
    "duration": 4,
    "start_time": "2024-08-19T17:10:05.270Z"
   },
   {
    "duration": 2,
    "start_time": "2024-08-19T17:10:05.275Z"
   },
   {
    "duration": 14,
    "start_time": "2024-08-19T17:10:05.278Z"
   },
   {
    "duration": 21,
    "start_time": "2024-08-19T17:10:05.293Z"
   },
   {
    "duration": 646,
    "start_time": "2024-08-19T17:10:05.316Z"
   },
   {
    "duration": 512,
    "start_time": "2024-08-19T17:10:05.964Z"
   },
   {
    "duration": 8,
    "start_time": "2024-08-19T17:10:06.481Z"
   },
   {
    "duration": 11,
    "start_time": "2024-08-19T17:10:06.491Z"
   },
   {
    "duration": 50,
    "start_time": "2024-08-19T17:10:06.504Z"
   },
   {
    "duration": 26,
    "start_time": "2024-08-19T17:10:06.556Z"
   },
   {
    "duration": 10,
    "start_time": "2024-08-19T17:10:06.584Z"
   },
   {
    "duration": 13,
    "start_time": "2024-08-19T17:10:06.596Z"
   },
   {
    "duration": 3,
    "start_time": "2024-08-19T17:10:06.610Z"
   },
   {
    "duration": 4,
    "start_time": "2024-08-19T17:10:06.614Z"
   },
   {
    "duration": 0,
    "start_time": "2024-08-19T17:10:06.619Z"
   },
   {
    "duration": 0,
    "start_time": "2024-08-19T17:10:06.621Z"
   },
   {
    "duration": 0,
    "start_time": "2024-08-19T17:10:06.622Z"
   },
   {
    "duration": 0,
    "start_time": "2024-08-19T17:10:06.623Z"
   },
   {
    "duration": 0,
    "start_time": "2024-08-19T17:10:06.625Z"
   },
   {
    "duration": 0,
    "start_time": "2024-08-19T17:10:06.626Z"
   },
   {
    "duration": 0,
    "start_time": "2024-08-19T17:10:06.627Z"
   },
   {
    "duration": 0,
    "start_time": "2024-08-19T17:10:06.628Z"
   },
   {
    "duration": 0,
    "start_time": "2024-08-19T17:10:06.630Z"
   },
   {
    "duration": 0,
    "start_time": "2024-08-19T17:10:06.631Z"
   },
   {
    "duration": 0,
    "start_time": "2024-08-19T17:10:06.632Z"
   },
   {
    "duration": 0,
    "start_time": "2024-08-19T17:10:06.633Z"
   },
   {
    "duration": 0,
    "start_time": "2024-08-19T17:10:06.635Z"
   },
   {
    "duration": 0,
    "start_time": "2024-08-19T17:10:06.636Z"
   },
   {
    "duration": 0,
    "start_time": "2024-08-19T17:10:06.637Z"
   },
   {
    "duration": 0,
    "start_time": "2024-08-19T17:10:06.682Z"
   },
   {
    "duration": 1085,
    "start_time": "2024-08-19T17:10:30.090Z"
   },
   {
    "duration": 45,
    "start_time": "2024-08-19T17:10:31.177Z"
   },
   {
    "duration": 15,
    "start_time": "2024-08-19T17:10:31.223Z"
   },
   {
    "duration": 40,
    "start_time": "2024-08-19T17:10:31.239Z"
   },
   {
    "duration": 29,
    "start_time": "2024-08-19T17:10:31.281Z"
   },
   {
    "duration": 49,
    "start_time": "2024-08-19T17:10:31.312Z"
   },
   {
    "duration": 69,
    "start_time": "2024-08-19T17:10:31.363Z"
   },
   {
    "duration": 22,
    "start_time": "2024-08-19T17:10:31.434Z"
   },
   {
    "duration": 54,
    "start_time": "2024-08-19T17:10:31.457Z"
   },
   {
    "duration": 86,
    "start_time": "2024-08-19T17:10:31.514Z"
   },
   {
    "duration": 801,
    "start_time": "2024-08-19T17:10:31.601Z"
   },
   {
    "duration": 533,
    "start_time": "2024-08-19T17:10:32.403Z"
   },
   {
    "duration": 8,
    "start_time": "2024-08-19T17:10:32.938Z"
   },
   {
    "duration": 5,
    "start_time": "2024-08-19T17:10:32.947Z"
   },
   {
    "duration": 69,
    "start_time": "2024-08-19T17:10:32.953Z"
   },
   {
    "duration": 11,
    "start_time": "2024-08-19T17:10:33.024Z"
   },
   {
    "duration": 58,
    "start_time": "2024-08-19T17:10:33.036Z"
   },
   {
    "duration": 13,
    "start_time": "2024-08-19T17:10:33.096Z"
   },
   {
    "duration": 4,
    "start_time": "2024-08-19T17:10:33.110Z"
   },
   {
    "duration": 122,
    "start_time": "2024-08-19T17:10:33.115Z"
   },
   {
    "duration": 0,
    "start_time": "2024-08-19T17:10:33.240Z"
   },
   {
    "duration": 0,
    "start_time": "2024-08-19T17:10:33.242Z"
   },
   {
    "duration": 0,
    "start_time": "2024-08-19T17:10:33.243Z"
   },
   {
    "duration": 0,
    "start_time": "2024-08-19T17:10:33.245Z"
   },
   {
    "duration": 0,
    "start_time": "2024-08-19T17:10:33.246Z"
   },
   {
    "duration": 0,
    "start_time": "2024-08-19T17:10:33.248Z"
   },
   {
    "duration": 0,
    "start_time": "2024-08-19T17:10:33.249Z"
   },
   {
    "duration": 0,
    "start_time": "2024-08-19T17:10:33.250Z"
   },
   {
    "duration": 0,
    "start_time": "2024-08-19T17:10:33.252Z"
   },
   {
    "duration": 0,
    "start_time": "2024-08-19T17:10:33.253Z"
   },
   {
    "duration": 0,
    "start_time": "2024-08-19T17:10:33.282Z"
   },
   {
    "duration": 0,
    "start_time": "2024-08-19T17:10:33.283Z"
   },
   {
    "duration": 0,
    "start_time": "2024-08-19T17:10:33.284Z"
   },
   {
    "duration": 0,
    "start_time": "2024-08-19T17:10:33.285Z"
   },
   {
    "duration": 0,
    "start_time": "2024-08-19T17:10:33.286Z"
   },
   {
    "duration": 0,
    "start_time": "2024-08-19T17:10:33.288Z"
   },
   {
    "duration": 1136,
    "start_time": "2024-08-19T17:11:00.393Z"
   },
   {
    "duration": 46,
    "start_time": "2024-08-19T17:11:01.531Z"
   },
   {
    "duration": 16,
    "start_time": "2024-08-19T17:11:01.578Z"
   },
   {
    "duration": 66,
    "start_time": "2024-08-19T17:11:01.595Z"
   },
   {
    "duration": 35,
    "start_time": "2024-08-19T17:11:01.663Z"
   },
   {
    "duration": 74,
    "start_time": "2024-08-19T17:11:01.700Z"
   },
   {
    "duration": 29,
    "start_time": "2024-08-19T17:11:01.776Z"
   },
   {
    "duration": 42,
    "start_time": "2024-08-19T17:11:01.806Z"
   },
   {
    "duration": 67,
    "start_time": "2024-08-19T17:11:01.849Z"
   },
   {
    "duration": 36,
    "start_time": "2024-08-19T17:11:01.918Z"
   },
   {
    "duration": 811,
    "start_time": "2024-08-19T17:11:01.955Z"
   },
   {
    "duration": 554,
    "start_time": "2024-08-19T17:11:02.768Z"
   },
   {
    "duration": 9,
    "start_time": "2024-08-19T17:11:03.324Z"
   },
   {
    "duration": 5,
    "start_time": "2024-08-19T17:11:03.335Z"
   },
   {
    "duration": 67,
    "start_time": "2024-08-19T17:11:03.341Z"
   },
   {
    "duration": 12,
    "start_time": "2024-08-19T17:11:03.409Z"
   },
   {
    "duration": 11,
    "start_time": "2024-08-19T17:11:03.422Z"
   },
   {
    "duration": 11,
    "start_time": "2024-08-19T17:11:03.435Z"
   },
   {
    "duration": 2,
    "start_time": "2024-08-19T17:11:03.447Z"
   },
   {
    "duration": 47,
    "start_time": "2024-08-19T17:11:03.451Z"
   },
   {
    "duration": 1210,
    "start_time": "2024-08-19T17:11:03.499Z"
   },
   {
    "duration": 358,
    "start_time": "2024-08-19T17:11:04.710Z"
   },
   {
    "duration": 375,
    "start_time": "2024-08-19T17:11:05.069Z"
   },
   {
    "duration": 625,
    "start_time": "2024-08-19T17:11:05.446Z"
   },
   {
    "duration": 215,
    "start_time": "2024-08-19T17:11:06.073Z"
   },
   {
    "duration": 197,
    "start_time": "2024-08-19T17:11:06.290Z"
   },
   {
    "duration": 400,
    "start_time": "2024-08-19T17:11:06.489Z"
   },
   {
    "duration": 1308,
    "start_time": "2024-08-19T17:11:06.891Z"
   },
   {
    "duration": 514,
    "start_time": "2024-08-19T17:11:08.201Z"
   },
   {
    "duration": 2295,
    "start_time": "2024-08-19T17:11:08.717Z"
   },
   {
    "duration": 3,
    "start_time": "2024-08-19T17:11:11.014Z"
   },
   {
    "duration": 67,
    "start_time": "2024-08-19T17:11:11.018Z"
   },
   {
    "duration": 7,
    "start_time": "2024-08-19T17:11:11.086Z"
   },
   {
    "duration": 13,
    "start_time": "2024-08-19T17:11:11.094Z"
   },
   {
    "duration": 8,
    "start_time": "2024-08-19T17:11:11.108Z"
   },
   {
    "duration": 7,
    "start_time": "2024-08-19T17:11:11.118Z"
   },
   {
    "duration": 4,
    "start_time": "2024-08-19T17:46:17.144Z"
   },
   {
    "duration": 4,
    "start_time": "2024-08-19T17:48:21.167Z"
   },
   {
    "duration": 67,
    "start_time": "2024-08-19T17:48:44.527Z"
   },
   {
    "duration": 53,
    "start_time": "2024-08-19T17:48:54.795Z"
   },
   {
    "duration": 3,
    "start_time": "2024-08-19T17:49:01.094Z"
   },
   {
    "duration": 8,
    "start_time": "2024-08-19T17:49:27.974Z"
   },
   {
    "duration": 8,
    "start_time": "2024-08-19T17:49:42.488Z"
   },
   {
    "duration": 9,
    "start_time": "2024-08-19T17:49:59.923Z"
   },
   {
    "duration": 9,
    "start_time": "2024-08-19T17:50:14.369Z"
   },
   {
    "duration": 53,
    "start_time": "2024-08-19T17:50:27.322Z"
   },
   {
    "duration": 4,
    "start_time": "2024-08-19T17:50:38.768Z"
   },
   {
    "duration": 10,
    "start_time": "2024-08-19T17:52:51.112Z"
   },
   {
    "duration": 11,
    "start_time": "2024-08-19T17:53:02.975Z"
   },
   {
    "duration": 11,
    "start_time": "2024-08-19T17:53:13.552Z"
   },
   {
    "duration": 10,
    "start_time": "2024-08-19T17:53:27.060Z"
   },
   {
    "duration": 41,
    "start_time": "2024-08-19T17:54:19.316Z"
   },
   {
    "duration": 10,
    "start_time": "2024-08-19T17:54:45.189Z"
   },
   {
    "duration": 11,
    "start_time": "2024-08-19T17:54:54.604Z"
   },
   {
    "duration": 10,
    "start_time": "2024-08-19T17:55:03.339Z"
   },
   {
    "duration": 10,
    "start_time": "2024-08-19T17:55:14.093Z"
   },
   {
    "duration": 9,
    "start_time": "2024-08-19T17:57:08.917Z"
   },
   {
    "duration": 10,
    "start_time": "2024-08-19T17:57:27.070Z"
   },
   {
    "duration": 1137,
    "start_time": "2024-08-19T17:59:17.051Z"
   },
   {
    "duration": 46,
    "start_time": "2024-08-19T17:59:18.190Z"
   },
   {
    "duration": 16,
    "start_time": "2024-08-19T17:59:18.238Z"
   },
   {
    "duration": 12,
    "start_time": "2024-08-19T17:59:18.256Z"
   },
   {
    "duration": 3,
    "start_time": "2024-08-19T17:59:18.269Z"
   },
   {
    "duration": 6,
    "start_time": "2024-08-19T17:59:18.273Z"
   },
   {
    "duration": 4,
    "start_time": "2024-08-19T17:59:18.280Z"
   },
   {
    "duration": 5,
    "start_time": "2024-08-19T17:59:18.285Z"
   },
   {
    "duration": 5,
    "start_time": "2024-08-19T17:59:18.291Z"
   },
   {
    "duration": 5,
    "start_time": "2024-08-19T17:59:18.298Z"
   },
   {
    "duration": 686,
    "start_time": "2024-08-19T17:59:18.304Z"
   },
   {
    "duration": 543,
    "start_time": "2024-08-19T17:59:18.992Z"
   },
   {
    "duration": 10,
    "start_time": "2024-08-19T17:59:19.537Z"
   },
   {
    "duration": 5,
    "start_time": "2024-08-19T17:59:19.549Z"
   },
   {
    "duration": 76,
    "start_time": "2024-08-19T17:59:19.555Z"
   },
   {
    "duration": 12,
    "start_time": "2024-08-19T17:59:19.633Z"
   },
   {
    "duration": 11,
    "start_time": "2024-08-19T17:59:19.647Z"
   },
   {
    "duration": 30,
    "start_time": "2024-08-19T17:59:19.659Z"
   },
   {
    "duration": 12,
    "start_time": "2024-08-19T17:59:19.690Z"
   },
   {
    "duration": 23,
    "start_time": "2024-08-19T17:59:19.703Z"
   },
   {
    "duration": 1289,
    "start_time": "2024-08-19T17:59:19.727Z"
   },
   {
    "duration": 350,
    "start_time": "2024-08-19T17:59:21.018Z"
   },
   {
    "duration": 385,
    "start_time": "2024-08-19T17:59:21.370Z"
   },
   {
    "duration": 680,
    "start_time": "2024-08-19T17:59:21.757Z"
   },
   {
    "duration": 223,
    "start_time": "2024-08-19T17:59:22.439Z"
   },
   {
    "duration": 199,
    "start_time": "2024-08-19T17:59:22.664Z"
   },
   {
    "duration": 435,
    "start_time": "2024-08-19T17:59:22.865Z"
   },
   {
    "duration": 1328,
    "start_time": "2024-08-19T17:59:23.302Z"
   },
   {
    "duration": 511,
    "start_time": "2024-08-19T17:59:24.631Z"
   },
   {
    "duration": 2315,
    "start_time": "2024-08-19T17:59:25.144Z"
   },
   {
    "duration": 3,
    "start_time": "2024-08-19T17:59:27.462Z"
   },
   {
    "duration": 6,
    "start_time": "2024-08-19T17:59:27.481Z"
   },
   {
    "duration": 32,
    "start_time": "2024-08-19T17:59:27.489Z"
   },
   {
    "duration": 5,
    "start_time": "2024-08-19T17:59:27.522Z"
   },
   {
    "duration": 11,
    "start_time": "2024-08-19T17:59:27.528Z"
   },
   {
    "duration": 48,
    "start_time": "2024-08-19T17:59:27.540Z"
   },
   {
    "duration": 12,
    "start_time": "2024-08-19T17:59:27.590Z"
   },
   {
    "duration": 1304,
    "start_time": "2024-08-19T19:31:24.037Z"
   },
   {
    "duration": 311,
    "start_time": "2024-08-19T19:31:25.343Z"
   },
   {
    "duration": 16,
    "start_time": "2024-08-19T19:31:25.656Z"
   },
   {
    "duration": 25,
    "start_time": "2024-08-19T19:31:25.674Z"
   },
   {
    "duration": 4,
    "start_time": "2024-08-19T19:31:25.701Z"
   },
   {
    "duration": 11,
    "start_time": "2024-08-19T19:31:25.706Z"
   },
   {
    "duration": 5,
    "start_time": "2024-08-19T19:31:25.718Z"
   },
   {
    "duration": 3,
    "start_time": "2024-08-19T19:31:25.725Z"
   },
   {
    "duration": 17,
    "start_time": "2024-08-19T19:31:25.730Z"
   },
   {
    "duration": 5,
    "start_time": "2024-08-19T19:31:25.750Z"
   },
   {
    "duration": 760,
    "start_time": "2024-08-19T19:31:25.756Z"
   },
   {
    "duration": 646,
    "start_time": "2024-08-19T19:31:26.518Z"
   },
   {
    "duration": 9,
    "start_time": "2024-08-19T19:31:27.166Z"
   },
   {
    "duration": 4,
    "start_time": "2024-08-19T19:31:27.176Z"
   },
   {
    "duration": 83,
    "start_time": "2024-08-19T19:31:27.182Z"
   },
   {
    "duration": 13,
    "start_time": "2024-08-19T19:31:27.267Z"
   },
   {
    "duration": 12,
    "start_time": "2024-08-19T19:31:27.281Z"
   },
   {
    "duration": 21,
    "start_time": "2024-08-19T19:31:27.295Z"
   },
   {
    "duration": 27,
    "start_time": "2024-08-19T19:31:27.318Z"
   },
   {
    "duration": 28,
    "start_time": "2024-08-19T19:31:27.347Z"
   },
   {
    "duration": 1348,
    "start_time": "2024-08-19T19:31:27.377Z"
   },
   {
    "duration": 405,
    "start_time": "2024-08-19T19:31:28.727Z"
   },
   {
    "duration": 433,
    "start_time": "2024-08-19T19:31:29.134Z"
   },
   {
    "duration": 777,
    "start_time": "2024-08-19T19:31:29.569Z"
   },
   {
    "duration": 278,
    "start_time": "2024-08-19T19:31:30.348Z"
   },
   {
    "duration": 242,
    "start_time": "2024-08-19T19:31:30.628Z"
   },
   {
    "duration": 481,
    "start_time": "2024-08-19T19:31:30.872Z"
   },
   {
    "duration": 1526,
    "start_time": "2024-08-19T19:31:31.357Z"
   },
   {
    "duration": 558,
    "start_time": "2024-08-19T19:31:32.885Z"
   },
   {
    "duration": 2632,
    "start_time": "2024-08-19T19:31:33.446Z"
   },
   {
    "duration": 3,
    "start_time": "2024-08-19T19:31:36.082Z"
   },
   {
    "duration": 25,
    "start_time": "2024-08-19T19:31:36.087Z"
   },
   {
    "duration": 36,
    "start_time": "2024-08-19T19:31:36.113Z"
   },
   {
    "duration": 6,
    "start_time": "2024-08-19T19:31:36.151Z"
   },
   {
    "duration": 26,
    "start_time": "2024-08-19T19:31:36.159Z"
   },
   {
    "duration": 59,
    "start_time": "2024-08-19T19:31:36.187Z"
   },
   {
    "duration": 14,
    "start_time": "2024-08-19T19:31:36.248Z"
   },
   {
    "duration": 1268,
    "start_time": "2024-08-20T17:47:09.093Z"
   },
   {
    "duration": 147,
    "start_time": "2024-08-20T17:47:10.363Z"
   },
   {
    "duration": 15,
    "start_time": "2024-08-20T17:47:10.512Z"
   },
   {
    "duration": 18,
    "start_time": "2024-08-20T17:47:10.529Z"
   },
   {
    "duration": 7,
    "start_time": "2024-08-20T17:47:10.550Z"
   },
   {
    "duration": 21,
    "start_time": "2024-08-20T17:47:10.559Z"
   },
   {
    "duration": 10,
    "start_time": "2024-08-20T17:47:10.582Z"
   },
   {
    "duration": 7,
    "start_time": "2024-08-20T17:47:10.593Z"
   },
   {
    "duration": 7,
    "start_time": "2024-08-20T17:47:10.601Z"
   },
   {
    "duration": 8,
    "start_time": "2024-08-20T17:47:10.611Z"
   },
   {
    "duration": 742,
    "start_time": "2024-08-20T17:47:10.621Z"
   },
   {
    "duration": 563,
    "start_time": "2024-08-20T17:47:11.364Z"
   },
   {
    "duration": 18,
    "start_time": "2024-08-20T17:47:11.929Z"
   },
   {
    "duration": 5,
    "start_time": "2024-08-20T17:47:11.952Z"
   },
   {
    "duration": 62,
    "start_time": "2024-08-20T17:47:11.958Z"
   },
   {
    "duration": 28,
    "start_time": "2024-08-20T17:47:12.022Z"
   },
   {
    "duration": 20,
    "start_time": "2024-08-20T17:47:12.052Z"
   },
   {
    "duration": 31,
    "start_time": "2024-08-20T17:47:12.073Z"
   },
   {
    "duration": 15,
    "start_time": "2024-08-20T17:47:12.105Z"
   },
   {
    "duration": 50,
    "start_time": "2024-08-20T17:47:12.121Z"
   },
   {
    "duration": 1325,
    "start_time": "2024-08-20T17:47:12.173Z"
   },
   {
    "duration": 368,
    "start_time": "2024-08-20T17:47:13.499Z"
   },
   {
    "duration": 445,
    "start_time": "2024-08-20T17:47:13.868Z"
   },
   {
    "duration": 706,
    "start_time": "2024-08-20T17:47:14.314Z"
   },
   {
    "duration": 240,
    "start_time": "2024-08-20T17:47:15.022Z"
   },
   {
    "duration": 215,
    "start_time": "2024-08-20T17:47:15.263Z"
   },
   {
    "duration": 435,
    "start_time": "2024-08-20T17:47:15.480Z"
   },
   {
    "duration": 1445,
    "start_time": "2024-08-20T17:47:15.918Z"
   },
   {
    "duration": 637,
    "start_time": "2024-08-20T17:47:17.365Z"
   },
   {
    "duration": 2606,
    "start_time": "2024-08-20T17:47:18.004Z"
   },
   {
    "duration": 3,
    "start_time": "2024-08-20T17:47:20.613Z"
   },
   {
    "duration": 38,
    "start_time": "2024-08-20T17:47:20.618Z"
   },
   {
    "duration": 10,
    "start_time": "2024-08-20T17:47:20.658Z"
   },
   {
    "duration": 7,
    "start_time": "2024-08-20T17:47:20.670Z"
   },
   {
    "duration": 12,
    "start_time": "2024-08-20T17:47:20.679Z"
   },
   {
    "duration": 55,
    "start_time": "2024-08-20T17:47:20.693Z"
   },
   {
    "duration": 13,
    "start_time": "2024-08-20T17:47:20.754Z"
   },
   {
    "duration": 2326,
    "start_time": "2024-08-20T17:48:43.335Z"
   },
   {
    "duration": 323,
    "start_time": "2024-08-20T17:51:23.432Z"
   },
   {
    "duration": 502,
    "start_time": "2024-08-20T18:02:23.077Z"
   },
   {
    "duration": 1138,
    "start_time": "2024-08-20T19:47:51.310Z"
   },
   {
    "duration": 40,
    "start_time": "2024-08-20T19:47:52.450Z"
   },
   {
    "duration": 23,
    "start_time": "2024-08-20T19:47:52.491Z"
   },
   {
    "duration": 32,
    "start_time": "2024-08-20T19:47:52.516Z"
   },
   {
    "duration": 27,
    "start_time": "2024-08-20T19:47:52.550Z"
   },
   {
    "duration": 37,
    "start_time": "2024-08-20T19:47:52.578Z"
   },
   {
    "duration": 13,
    "start_time": "2024-08-20T19:47:52.617Z"
   },
   {
    "duration": 38,
    "start_time": "2024-08-20T19:47:52.631Z"
   },
   {
    "duration": 32,
    "start_time": "2024-08-20T19:47:52.670Z"
   },
   {
    "duration": 29,
    "start_time": "2024-08-20T19:47:52.704Z"
   },
   {
    "duration": 741,
    "start_time": "2024-08-20T19:47:52.734Z"
   },
   {
    "duration": 563,
    "start_time": "2024-08-20T19:47:53.477Z"
   },
   {
    "duration": 9,
    "start_time": "2024-08-20T19:47:54.041Z"
   },
   {
    "duration": 25,
    "start_time": "2024-08-20T19:47:54.052Z"
   },
   {
    "duration": 73,
    "start_time": "2024-08-20T19:47:54.079Z"
   },
   {
    "duration": 11,
    "start_time": "2024-08-20T19:47:54.154Z"
   },
   {
    "duration": 52,
    "start_time": "2024-08-20T19:47:54.166Z"
   },
   {
    "duration": 33,
    "start_time": "2024-08-20T19:47:54.219Z"
   },
   {
    "duration": 101,
    "start_time": "2024-08-20T19:47:54.253Z"
   },
   {
    "duration": 49,
    "start_time": "2024-08-20T19:47:54.356Z"
   },
   {
    "duration": 2316,
    "start_time": "2024-08-20T19:47:54.407Z"
   },
   {
    "duration": 331,
    "start_time": "2024-08-20T19:47:56.725Z"
   },
   {
    "duration": 417,
    "start_time": "2024-08-20T19:47:57.058Z"
   },
   {
    "duration": 741,
    "start_time": "2024-08-20T19:47:57.477Z"
   },
   {
    "duration": 536,
    "start_time": "2024-08-20T19:47:58.220Z"
   },
   {
    "duration": 1397,
    "start_time": "2024-08-20T19:47:58.758Z"
   },
   {
    "duration": 547,
    "start_time": "2024-08-20T19:48:00.157Z"
   },
   {
    "duration": 2438,
    "start_time": "2024-08-20T19:48:00.709Z"
   },
   {
    "duration": 3,
    "start_time": "2024-08-20T19:48:03.150Z"
   },
   {
    "duration": 16,
    "start_time": "2024-08-20T19:48:03.154Z"
   },
   {
    "duration": 13,
    "start_time": "2024-08-20T19:48:03.171Z"
   },
   {
    "duration": 54,
    "start_time": "2024-08-20T19:48:03.185Z"
   },
   {
    "duration": 16,
    "start_time": "2024-08-20T19:48:03.241Z"
   },
   {
    "duration": 93,
    "start_time": "2024-08-20T19:48:03.258Z"
   },
   {
    "duration": 17,
    "start_time": "2024-08-20T19:48:03.352Z"
   },
   {
    "duration": 1048,
    "start_time": "2024-08-20T20:08:23.516Z"
   },
   {
    "duration": 79,
    "start_time": "2024-08-20T20:08:24.566Z"
   },
   {
    "duration": 15,
    "start_time": "2024-08-20T20:08:24.647Z"
   },
   {
    "duration": 10,
    "start_time": "2024-08-20T20:08:24.664Z"
   },
   {
    "duration": 3,
    "start_time": "2024-08-20T20:08:24.676Z"
   },
   {
    "duration": 15,
    "start_time": "2024-08-20T20:08:24.680Z"
   },
   {
    "duration": 5,
    "start_time": "2024-08-20T20:08:24.696Z"
   },
   {
    "duration": 9,
    "start_time": "2024-08-20T20:08:24.702Z"
   },
   {
    "duration": 5,
    "start_time": "2024-08-20T20:08:24.713Z"
   },
   {
    "duration": 9,
    "start_time": "2024-08-20T20:08:24.720Z"
   },
   {
    "duration": 657,
    "start_time": "2024-08-20T20:08:24.730Z"
   },
   {
    "duration": 532,
    "start_time": "2024-08-20T20:08:25.388Z"
   },
   {
    "duration": 8,
    "start_time": "2024-08-20T20:08:25.922Z"
   },
   {
    "duration": 4,
    "start_time": "2024-08-20T20:08:25.931Z"
   },
   {
    "duration": 63,
    "start_time": "2024-08-20T20:08:25.936Z"
   },
   {
    "duration": 11,
    "start_time": "2024-08-20T20:08:26.001Z"
   },
   {
    "duration": 11,
    "start_time": "2024-08-20T20:08:26.014Z"
   },
   {
    "duration": 12,
    "start_time": "2024-08-20T20:08:26.026Z"
   },
   {
    "duration": 2,
    "start_time": "2024-08-20T20:08:26.039Z"
   },
   {
    "duration": 49,
    "start_time": "2024-08-20T20:08:26.043Z"
   },
   {
    "duration": 2185,
    "start_time": "2024-08-20T20:08:26.093Z"
   },
   {
    "duration": 265,
    "start_time": "2024-08-20T20:08:28.286Z"
   },
   {
    "duration": 378,
    "start_time": "2024-08-20T20:08:28.553Z"
   },
   {
    "duration": 628,
    "start_time": "2024-08-20T20:08:28.933Z"
   },
   {
    "duration": 497,
    "start_time": "2024-08-20T20:08:29.563Z"
   },
   {
    "duration": 1390,
    "start_time": "2024-08-20T20:08:30.062Z"
   },
   {
    "duration": 543,
    "start_time": "2024-08-20T20:08:31.453Z"
   },
   {
    "duration": 2309,
    "start_time": "2024-08-20T20:08:31.999Z"
   },
   {
    "duration": 3,
    "start_time": "2024-08-20T20:08:34.310Z"
   },
   {
    "duration": 15,
    "start_time": "2024-08-20T20:08:34.315Z"
   },
   {
    "duration": 6,
    "start_time": "2024-08-20T20:08:34.332Z"
   },
   {
    "duration": 4,
    "start_time": "2024-08-20T20:08:34.339Z"
   },
   {
    "duration": 47,
    "start_time": "2024-08-20T20:08:34.345Z"
   },
   {
    "duration": 10,
    "start_time": "2024-08-20T20:08:34.393Z"
   },
   {
    "duration": 21,
    "start_time": "2024-08-20T20:08:34.404Z"
   },
   {
    "duration": 45,
    "start_time": "2024-08-28T16:43:45.702Z"
   },
   {
    "duration": 1356,
    "start_time": "2024-08-28T16:43:51.963Z"
   },
   {
    "duration": 97,
    "start_time": "2024-08-28T16:43:53.322Z"
   },
   {
    "duration": 16,
    "start_time": "2024-08-28T16:43:53.420Z"
   },
   {
    "duration": 11,
    "start_time": "2024-08-28T16:43:53.437Z"
   },
   {
    "duration": 3,
    "start_time": "2024-08-28T16:43:53.449Z"
   },
   {
    "duration": 7,
    "start_time": "2024-08-28T16:43:53.453Z"
   },
   {
    "duration": 4,
    "start_time": "2024-08-28T16:43:53.461Z"
   },
   {
    "duration": 6,
    "start_time": "2024-08-28T16:43:53.466Z"
   },
   {
    "duration": 16,
    "start_time": "2024-08-28T16:43:53.474Z"
   },
   {
    "duration": 45,
    "start_time": "2024-08-28T16:43:53.493Z"
   },
   {
    "duration": 73,
    "start_time": "2024-08-28T16:43:53.540Z"
   },
   {
    "duration": 525,
    "start_time": "2024-08-28T16:43:53.614Z"
   },
   {
    "duration": 9,
    "start_time": "2024-08-28T16:43:54.141Z"
   },
   {
    "duration": 5,
    "start_time": "2024-08-28T16:43:54.151Z"
   },
   {
    "duration": 101,
    "start_time": "2024-08-28T16:43:54.157Z"
   },
   {
    "duration": 12,
    "start_time": "2024-08-28T16:43:54.260Z"
   },
   {
    "duration": 10,
    "start_time": "2024-08-28T16:43:54.273Z"
   },
   {
    "duration": 24,
    "start_time": "2024-08-28T16:43:54.285Z"
   },
   {
    "duration": 9,
    "start_time": "2024-08-28T16:43:54.311Z"
   },
   {
    "duration": 29,
    "start_time": "2024-08-28T16:43:54.321Z"
   },
   {
    "duration": 2220,
    "start_time": "2024-08-28T16:43:54.351Z"
   },
   {
    "duration": 296,
    "start_time": "2024-08-28T16:43:56.572Z"
   },
   {
    "duration": 390,
    "start_time": "2024-08-28T16:43:56.870Z"
   },
   {
    "duration": 655,
    "start_time": "2024-08-28T16:43:57.261Z"
   },
   {
    "duration": 504,
    "start_time": "2024-08-28T16:43:57.918Z"
   },
   {
    "duration": 1319,
    "start_time": "2024-08-28T16:43:58.423Z"
   },
   {
    "duration": 553,
    "start_time": "2024-08-28T16:43:59.744Z"
   },
   {
    "duration": 2361,
    "start_time": "2024-08-28T16:44:00.300Z"
   },
   {
    "duration": 4,
    "start_time": "2024-08-28T16:44:02.663Z"
   },
   {
    "duration": 33,
    "start_time": "2024-08-28T16:44:02.668Z"
   },
   {
    "duration": 33,
    "start_time": "2024-08-28T16:44:02.702Z"
   },
   {
    "duration": 8,
    "start_time": "2024-08-28T16:44:02.736Z"
   },
   {
    "duration": 51,
    "start_time": "2024-08-28T16:44:02.745Z"
   },
   {
    "duration": 9,
    "start_time": "2024-08-28T16:44:02.797Z"
   },
   {
    "duration": 31,
    "start_time": "2024-08-28T16:44:02.808Z"
   },
   {
    "duration": 16,
    "start_time": "2024-08-28T16:44:42.854Z"
   },
   {
    "duration": 14,
    "start_time": "2024-08-28T16:45:21.317Z"
   },
   {
    "duration": 14,
    "start_time": "2024-08-28T16:45:27.485Z"
   }
  ],
  "kernelspec": {
   "display_name": "Python 3 (ipykernel)",
   "language": "python",
   "name": "python3"
  },
  "language_info": {
   "codemirror_mode": {
    "name": "ipython",
    "version": 3
   },
   "file_extension": ".py",
   "mimetype": "text/x-python",
   "name": "python",
   "nbconvert_exporter": "python",
   "pygments_lexer": "ipython3",
   "version": "3.11.5"
  },
  "toc": {
   "base_numbering": 1,
   "nav_menu": {},
   "number_sections": true,
   "sideBar": true,
   "skip_h1_title": true,
   "title_cell": "Table of Contents",
   "title_sidebar": "Contents",
   "toc_cell": false,
   "toc_position": {},
   "toc_section_display": true,
   "toc_window_display": false
  }
 },
 "nbformat": 4,
 "nbformat_minor": 2
}
